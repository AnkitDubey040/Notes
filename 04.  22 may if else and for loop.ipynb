{
 "cells": [
  {
   "cell_type": "code",
   "execution_count": 1,
   "id": "874d1378",
   "metadata": {},
   "outputs": [],
   "source": [
    "a = 21\n",
    "if a == 10 :\n",
    "    print(\"ankit\")\n"
   ]
  },
  {
   "cell_type": "code",
   "execution_count": 2,
   "id": "d875f7e2",
   "metadata": {},
   "outputs": [
    {
     "name": "stdout",
     "output_type": "stream",
     "text": [
      "ankit\n"
     ]
    }
   ],
   "source": [
    "a = 21\n",
    "if a == 21 :\n",
    "    print(\"ankit\")"
   ]
  },
  {
   "cell_type": "code",
   "execution_count": 3,
   "id": "da8df2c4",
   "metadata": {},
   "outputs": [
    {
     "name": "stdout",
     "output_type": "stream",
     "text": [
      "none\n"
     ]
    }
   ],
   "source": [
    "a = 13 \n",
    "if a < 5 :\n",
    "    print(\"anndy\")\n",
    "else:\n",
    "    print(\"none\")"
   ]
  },
  {
   "cell_type": "code",
   "execution_count": 4,
   "id": "886a45fb",
   "metadata": {},
   "outputs": [
    {
     "name": "stdout",
     "output_type": "stream",
     "text": [
      "anndy\n"
     ]
    }
   ],
   "source": [
    "a = 13 \n",
    "if a >=5 :\n",
    "    print(\"anndy\")\n",
    "else:\n",
    "    print(\"none\")"
   ]
  },
  {
   "cell_type": "code",
   "execution_count": 5,
   "id": "9de09c86",
   "metadata": {},
   "outputs": [
    {
     "name": "stdout",
     "output_type": "stream",
     "text": [
      "Treesdc\n"
     ]
    }
   ],
   "source": [
    "a = 13 \n",
    "if a < 5 :\n",
    "    print(\"anndy\")\n",
    "elif a ==13 :\n",
    "    print(\"Treesdc\")\n",
    "else:\n",
    "    print(\"none\")"
   ]
  },
  {
   "cell_type": "code",
   "execution_count": 6,
   "id": "b5bd9512",
   "metadata": {},
   "outputs": [
    {
     "data": {
      "text/plain": [
       "False"
      ]
     },
     "execution_count": 6,
     "metadata": {},
     "output_type": "execute_result"
    }
   ],
   "source": [
    "a < 5"
   ]
  },
  {
   "cell_type": "code",
   "execution_count": 7,
   "id": "43d237b6",
   "metadata": {},
   "outputs": [
    {
     "data": {
      "text/plain": [
       "True"
      ]
     },
     "execution_count": 7,
     "metadata": {},
     "output_type": "execute_result"
    }
   ],
   "source": [
    "a>5"
   ]
  },
  {
   "cell_type": "code",
   "execution_count": 8,
   "id": "21d6f72e",
   "metadata": {},
   "outputs": [
    {
     "name": "stdout",
     "output_type": "stream",
     "text": [
      "Treesdc\n"
     ]
    }
   ],
   "source": [
    "a = 13 \n",
    "if a < 5 :\n",
    "    print(\"anndy\")\n",
    "elif a >= 13 :\n",
    "    print(\"Treesdc\")\n",
    "else:\n",
    "    print(\"none\")"
   ]
  },
  {
   "cell_type": "code",
   "execution_count": 9,
   "id": "fbf60b9d",
   "metadata": {},
   "outputs": [
    {
     "data": {
      "text/plain": [
       "True"
      ]
     },
     "execution_count": 9,
     "metadata": {},
     "output_type": "execute_result"
    }
   ],
   "source": [
    "a == 13 "
   ]
  },
  {
   "cell_type": "code",
   "execution_count": 10,
   "id": "ccf651fe",
   "metadata": {},
   "outputs": [],
   "source": [
    " l = [1,2,4,2,4,6,3,56,8,4,76,4,3,6,3,4,7,4]"
   ]
  },
  {
   "cell_type": "code",
   "execution_count": 11,
   "id": "38a3e31e",
   "metadata": {},
   "outputs": [
    {
     "data": {
      "text/plain": [
       "False"
      ]
     },
     "execution_count": 11,
     "metadata": {},
     "output_type": "execute_result"
    }
   ],
   "source": [
    "23 in l"
   ]
  },
  {
   "cell_type": "code",
   "execution_count": 12,
   "id": "3565b082",
   "metadata": {},
   "outputs": [
    {
     "data": {
      "text/plain": [
       "True"
      ]
     },
     "execution_count": 12,
     "metadata": {},
     "output_type": "execute_result"
    }
   ],
   "source": [
    "2 in l"
   ]
  },
  {
   "cell_type": "code",
   "execution_count": 13,
   "id": "1b4589af",
   "metadata": {},
   "outputs": [
    {
     "name": "stdout",
     "output_type": "stream",
     "text": [
      "abcd\n"
     ]
    }
   ],
   "source": [
    "if 2 in l :\n",
    "    print(\"abcd\")\n",
    "else :\n",
    "    print(54)"
   ]
  },
  {
   "cell_type": "code",
   "execution_count": 14,
   "id": "b30c0314",
   "metadata": {},
   "outputs": [
    {
     "name": "stdout",
     "output_type": "stream",
     "text": [
      "54\n"
     ]
    }
   ],
   "source": [
    "if 224 in l :\n",
    "    print(\"abcd\")\n",
    "else :\n",
    "    print(54)"
   ]
  },
  {
   "cell_type": "code",
   "execution_count": 15,
   "id": "e72cab9c",
   "metadata": {},
   "outputs": [
    {
     "name": "stdout",
     "output_type": "stream",
     "text": [
      "abcd\n",
      "54\n"
     ]
    }
   ],
   "source": [
    "if 2 in l :\n",
    "    print(\"abcd\")\n",
    "else :\n",
    "    print(54)\n",
    "if 224 in l :\n",
    "    print(\"abcd\")\n",
    "else :\n",
    "    print(54)"
   ]
  },
  {
   "cell_type": "code",
   "execution_count": 16,
   "id": "3050ae5d",
   "metadata": {},
   "outputs": [
    {
     "name": "stdout",
     "output_type": "stream",
     "text": [
      "365\n",
      "bhaiya thoda thik thak laga lo ek baar bolo\n"
     ]
    }
   ],
   "source": [
    "price = int(input())\n",
    "if price <500 :\n",
    "    if price <= 200 :\n",
    "        print(\"jayda hi sasta hai kharab hoga\")\n",
    "    elif price == 300 :\n",
    "        pint(\"thik thak hai\")\n",
    "    else: \n",
    "        print(\"bhaiya thoda thik thak laga lo ek baar bolo\")\n",
    "else :\n",
    "    print(\"bahaut mehnga hai\")"
   ]
  },
  {
   "cell_type": "code",
   "execution_count": 17,
   "id": "020afced",
   "metadata": {},
   "outputs": [
    {
     "name": "stdout",
     "output_type": "stream",
     "text": [
      "6456\n"
     ]
    }
   ],
   "source": [
    "b = input()"
   ]
  },
  {
   "cell_type": "code",
   "execution_count": 18,
   "id": "5628abd5",
   "metadata": {},
   "outputs": [
    {
     "data": {
      "text/plain": [
       "'6456'"
      ]
     },
     "execution_count": 18,
     "metadata": {},
     "output_type": "execute_result"
    }
   ],
   "source": [
    "b"
   ]
  },
  {
   "cell_type": "code",
   "execution_count": 19,
   "id": "e8faa756",
   "metadata": {},
   "outputs": [
    {
     "data": {
      "text/plain": [
       "str"
      ]
     },
     "execution_count": 19,
     "metadata": {},
     "output_type": "execute_result"
    }
   ],
   "source": [
    "type(b)"
   ]
  },
  {
   "cell_type": "code",
   "execution_count": 20,
   "id": "a212c7b7",
   "metadata": {},
   "outputs": [
    {
     "name": "stdout",
     "output_type": "stream",
     "text": [
      "jnhb 635\n"
     ]
    },
    {
     "ename": "ValueError",
     "evalue": "invalid literal for int() with base 10: 'jnhb 635'",
     "output_type": "error",
     "traceback": [
      "\u001b[1;31m---------------------------------------------------------------------------\u001b[0m",
      "\u001b[1;31mValueError\u001b[0m                                Traceback (most recent call last)",
      "Input \u001b[1;32mIn [20]\u001b[0m, in \u001b[0;36m<cell line: 1>\u001b[1;34m()\u001b[0m\n\u001b[1;32m----> 1\u001b[0m b \u001b[38;5;241m=\u001b[39m \u001b[38;5;28;43mint\u001b[39;49m\u001b[43m(\u001b[49m\u001b[38;5;28;43minput\u001b[39;49m\u001b[43m(\u001b[49m\u001b[43m)\u001b[49m\u001b[43m)\u001b[49m\n",
      "\u001b[1;31mValueError\u001b[0m: invalid literal for int() with base 10: 'jnhb 635'"
     ]
    }
   ],
   "source": [
    "b = int(input())"
   ]
  },
  {
   "cell_type": "code",
   "execution_count": 21,
   "id": "1546e884",
   "metadata": {},
   "outputs": [
    {
     "name": "stdout",
     "output_type": "stream",
     "text": [
      "526\n",
      "bahaut mehnga hai\n"
     ]
    }
   ],
   "source": [
    "price = int(input())\n",
    "if price <500 :\n",
    "    if price > 500 :\n",
    "        print(\"jayda hi sasta hai kharab hoga\")\n",
    "    elif price == 300 :\n",
    "        pint(\"thik thak hai\")\n",
    "    else: \n",
    "        print(\"bhaiya thoda thik thak laga lo ek baar bolo\")\n",
    "else :\n",
    "    print(\"bahaut mehnga hai\")"
   ]
  },
  {
   "cell_type": "markdown",
   "id": "ff93a267",
   "metadata": {},
   "source": [
    "***upar wale mei jo if ke andar wala if hai vo contradict kar rha hai ek doosre ko lekin pehle bahar wala if chalega aur vo satisfy nhi kar rha hai isliye else sabse niche wala chalega"
   ]
  },
  {
   "cell_type": "code",
   "execution_count": 22,
   "id": "0c85bd6d",
   "metadata": {},
   "outputs": [
    {
     "name": "stdout",
     "output_type": "stream",
     "text": [
      "Enter marks obtained\n"
     ]
    }
   ],
   "source": [
    "print(\"Enter marks obtained\")"
   ]
  },
  {
   "cell_type": "code",
   "execution_count": 25,
   "id": "f7d19c58",
   "metadata": {},
   "outputs": [
    {
     "name": "stdout",
     "output_type": "stream",
     "text": [
      "Enter marks obtained\n",
      "456\n",
      "sorry no gre\n",
      "you get tofel\n"
     ]
    }
   ],
   "source": [
    "print(\"Enter marks obtained\")\n",
    "m = int(input())\n",
    "if m < 600 :\n",
    "    print(\"sorry no gre\")\n",
    "    if  400 < m < 500 : \n",
    "        print(\"you get tofel\")\n",
    "    else :\n",
    "        print(\" no tofel also , try something else\")\n",
    "else :\n",
    "    print(\"congo you get gre\")"
   ]
  },
  {
   "cell_type": "code",
   "execution_count": 27,
   "id": "9fd3b48c",
   "metadata": {},
   "outputs": [
    {
     "name": "stdout",
     "output_type": "stream",
     "text": [
      "enter a floating point number-24.469\n",
      "entered number is a negative number\n"
     ]
    }
   ],
   "source": [
    "val  = float(input(\"enter a floating point number\"))\n",
    "if val >= 0 :\n",
    "    if val == 0 :\n",
    "        print(\"entered value is zero\")\n",
    "    else :\n",
    "        print(\"enter value is a positive number \")\n",
    "else :\n",
    "    print(\"entered number is a negative number\")"
   ]
  },
  {
   "cell_type": "code",
   "execution_count": 31,
   "id": "b462521a",
   "metadata": {},
   "outputs": [
    {
     "name": "stdout",
     "output_type": "stream",
     "text": [
      "15\n",
      "not ok\n"
     ]
    }
   ],
   "source": [
    "a = int(input())\n",
    "if a <10 or a >15 :\n",
    "    print(\"okay\")\n",
    "else:\n",
    "    print(\"not ok\")"
   ]
  },
  {
   "cell_type": "code",
   "execution_count": 35,
   "id": "b4ca8ba0",
   "metadata": {},
   "outputs": [
    {
     "name": "stdout",
     "output_type": "stream",
     "text": [
      "11\n",
      "not ok\n"
     ]
    }
   ],
   "source": [
    "a = int(input())\n",
    "if a >10 and  a >12 :\n",
    "    print(\"okay\")\n",
    "else:\n",
    "    print(\"not ok\")"
   ]
  },
  {
   "cell_type": "code",
   "execution_count": 39,
   "id": "086bdd83",
   "metadata": {},
   "outputs": [],
   "source": [
    "l = [1,2,2.3233,5+4j,\"andy\"]"
   ]
  },
  {
   "cell_type": "code",
   "execution_count": 40,
   "id": "cae01c04",
   "metadata": {},
   "outputs": [
    {
     "name": "stdout",
     "output_type": "stream",
     "text": [
      "1\n",
      "2\n",
      "2.3233\n",
      "(5+4j)\n",
      "andy\n"
     ]
    }
   ],
   "source": [
    "for i in l :\n",
    "    print(i)\n",
    "    "
   ]
  },
  {
   "cell_type": "code",
   "execution_count": 41,
   "id": "a22babe3",
   "metadata": {},
   "outputs": [
    {
     "name": "stdout",
     "output_type": "stream",
     "text": [
      "0\n",
      "1\n",
      "3.3233\n",
      "(5+4j)\n",
      "andy is great\n"
     ]
    }
   ],
   "source": [
    "for i in l :\n",
    "    if type(i) == int:\n",
    "        print(i-1)\n",
    "    elif type(i) == float:\n",
    "        print(i+1)\n",
    "    elif type(i) == complex :\n",
    "        print(i)\n",
    "    else :\n",
    "        print(i+\" is great\")"
   ]
  },
  {
   "cell_type": "code",
   "execution_count": 45,
   "id": "95b1d0fe",
   "metadata": {},
   "outputs": [],
   "source": [
    "l = [1,2,2.3233,5+4j,\"andy\"]\n",
    "l1=[]\n",
    "for i in l :\n",
    "    if type(i) == int:\n",
    "        l1.append(i)"
   ]
  },
  {
   "cell_type": "code",
   "execution_count": 46,
   "id": "049fe139",
   "metadata": {},
   "outputs": [
    {
     "data": {
      "text/plain": [
       "[1, 2]"
      ]
     },
     "execution_count": 46,
     "metadata": {},
     "output_type": "execute_result"
    }
   ],
   "source": [
    "l1"
   ]
  },
  {
   "cell_type": "code",
   "execution_count": null,
   "id": "e02b9e9a",
   "metadata": {},
   "outputs": [],
   "source": [
    " "
   ]
  }
 ],
 "metadata": {
  "kernelspec": {
   "display_name": "Python 3 (ipykernel)",
   "language": "python",
   "name": "python3"
  },
  "language_info": {
   "codemirror_mode": {
    "name": "ipython",
    "version": 3
   },
   "file_extension": ".py",
   "mimetype": "text/x-python",
   "name": "python",
   "nbconvert_exporter": "python",
   "pygments_lexer": "ipython3",
   "version": "3.9.12"
  }
 },
 "nbformat": 4,
 "nbformat_minor": 5
}
