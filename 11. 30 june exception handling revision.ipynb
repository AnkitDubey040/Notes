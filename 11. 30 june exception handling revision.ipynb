{
 "cells": [
  {
   "cell_type": "code",
   "execution_count": 1,
   "id": "5e1b2612",
   "metadata": {},
   "outputs": [
    {
     "ename": "ZeroDivisionError",
     "evalue": "division by zero",
     "output_type": "error",
     "traceback": [
      "\u001b[1;31m---------------------------------------------------------------------------\u001b[0m",
      "\u001b[1;31mZeroDivisionError\u001b[0m                         Traceback (most recent call last)",
      "Input \u001b[1;32mIn [1]\u001b[0m, in \u001b[0;36m<cell line: 2>\u001b[1;34m()\u001b[0m\n\u001b[0;32m      1\u001b[0m a\u001b[38;5;241m=\u001b[39m\u001b[38;5;241m10\u001b[39m\n\u001b[1;32m----> 2\u001b[0m \u001b[43ma\u001b[49m\u001b[38;5;241;43m/\u001b[39;49m\u001b[38;5;241;43m0\u001b[39;49m\n",
      "\u001b[1;31mZeroDivisionError\u001b[0m: division by zero"
     ]
    }
   ],
   "source": [
    "a=10\n",
    "a/0"
   ]
  },
  {
   "cell_type": "code",
   "execution_count": 3,
   "id": "94bdcdea",
   "metadata": {},
   "outputs": [
    {
     "ename": "FileNotFoundError",
     "evalue": "[Errno 2] No such file or directory: 'andy.txt'",
     "output_type": "error",
     "traceback": [
      "\u001b[1;31m---------------------------------------------------------------------------\u001b[0m",
      "\u001b[1;31mFileNotFoundError\u001b[0m                         Traceback (most recent call last)",
      "Input \u001b[1;32mIn [3]\u001b[0m, in \u001b[0;36m<cell line: 1>\u001b[1;34m()\u001b[0m\n\u001b[1;32m----> 1\u001b[0m f \u001b[38;5;241m=\u001b[39m \u001b[38;5;28;43mopen\u001b[39;49m\u001b[43m(\u001b[49m\u001b[38;5;124;43m\"\u001b[39;49m\u001b[38;5;124;43mandy.txt\u001b[39;49m\u001b[38;5;124;43m\"\u001b[39;49m\u001b[43m,\u001b[49m\u001b[38;5;124;43m'\u001b[39;49m\u001b[38;5;124;43mr\u001b[39;49m\u001b[38;5;124;43m'\u001b[39;49m\u001b[43m)\u001b[49m\n\u001b[0;32m      2\u001b[0m \u001b[38;5;28mprint\u001b[39m(\u001b[38;5;124m\"\u001b[39m\u001b[38;5;124mCode to handle error and it will not be printed\u001b[39m\u001b[38;5;124m\"\u001b[39m)\n",
      "\u001b[1;31mFileNotFoundError\u001b[0m: [Errno 2] No such file or directory: 'andy.txt'"
     ]
    }
   ],
   "source": [
    "\n",
    "f = open(\"andy.txt\",'r')\n",
    "print(\"Code to handle error and it will not be printed\")"
   ]
  },
  {
   "cell_type": "code",
   "execution_count": 4,
   "id": "dcb377a8",
   "metadata": {},
   "outputs": [
    {
     "name": "stdout",
     "output_type": "stream",
     "text": [
      "file does not exist\n"
     ]
    }
   ],
   "source": [
    "try:\n",
    "    f = open(\"andy.txt\",'r')\n",
    "    print(\"code to open file in try \")\n",
    "except:\n",
    "    print(\"file does not exist\")\n",
    "    "
   ]
  },
  {
   "cell_type": "code",
   "execution_count": 5,
   "id": "af343da3",
   "metadata": {},
   "outputs": [
    {
     "name": "stdout",
     "output_type": "stream",
     "text": [
      "[Errno 2] No such file or directory: 'andy.txt'\n"
     ]
    }
   ],
   "source": [
    "try:\n",
    "    f = open(\"andy.txt\",'r')\n",
    "    print(\"code to open file in try \")\n",
    "except Exception as e:\n",
    "    print(e)\n",
    "#ab lamba sa error msg show nhi karega"
   ]
  },
  {
   "cell_type": "code",
   "execution_count": 7,
   "id": "444b92b1",
   "metadata": {},
   "outputs": [
    {
     "name": "stdout",
     "output_type": "stream",
     "text": [
      "[Errno 2] No such file or directory: 'andy.txt'\n",
      "this is finally bloack code\n"
     ]
    }
   ],
   "source": [
    "try:\n",
    "    f = open(\"andy.txt\",'r')\n",
    "    print(\"code to open file in try \")\n",
    "except Exception as e:\n",
    "    print(e)\n",
    "finally:\n",
    "    print(\"this is finally bloack code\")\n",
    "    "
   ]
  },
  {
   "cell_type": "code",
   "execution_count": 8,
   "id": "809bc1ea",
   "metadata": {},
   "outputs": [],
   "source": [
    "# maan lo tumne koi file kholi fir band nhi ki to aage wale\n",
    "#jo usme tyoe karenge vo feed nhi hoga\n",
    "#to hum f.close() ko finally ke andar daal denge to vo \n",
    "#execute hoga hi hoga "
   ]
  },
  {
   "cell_type": "code",
   "execution_count": 21,
   "id": "8c5a2a04",
   "metadata": {},
   "outputs": [],
   "source": [
    "def test():\n",
    "    try:\n",
    "        val=int(input(\"enter integer: \"))\n",
    "    except:\n",
    "            print(\"enter integer only\")\n",
    "            try:\n",
    "                val=int(input(\"Enter integer again: \"))\n",
    "            except:\n",
    "                print(\"again error\")\n",
    "    finally:\n",
    "        print(\"finally block is printed here\")"
   ]
  },
  {
   "cell_type": "code",
   "execution_count": 22,
   "id": "c617afbc",
   "metadata": {},
   "outputs": [
    {
     "name": "stdout",
     "output_type": "stream",
     "text": [
      "enter integer: 324fdz\n",
      "enter integer only\n",
      "Enter integer again: 46\n",
      "finally block is printed\n"
     ]
    }
   ],
   "source": [
    "test()"
   ]
  },
  {
   "cell_type": "code",
   "execution_count": 23,
   "id": "6c460f2e",
   "metadata": {},
   "outputs": [
    {
     "name": "stdout",
     "output_type": "stream",
     "text": [
      "enter integer: fa\n",
      "enter integer only\n",
      "Enter integer again: df\n",
      "again error\n",
      "finally block is printed\n"
     ]
    }
   ],
   "source": [
    "test()"
   ]
  },
  {
   "cell_type": "code",
   "execution_count": 24,
   "id": "dca21baa",
   "metadata": {},
   "outputs": [],
   "source": [
    "# to keep asking user for correct input we use WHILE LOOP\n",
    "\n",
    "\n",
    "\n",
    "\n",
    "\n",
    "def test1():\n",
    "    while True:\n",
    "        try:\n",
    "            val=int(input(\"enter integer value please: \"))\n",
    "            break\n",
    "        except:\n",
    "            print(\"wrong input...enter integer value only\")\n",
    "            continue"
   ]
  },
  {
   "cell_type": "code",
   "execution_count": 25,
   "id": "8e2917a3",
   "metadata": {},
   "outputs": [
    {
     "name": "stdout",
     "output_type": "stream",
     "text": [
      "enter integer value please: szf\n",
      "wrong input...enter integer value only\n",
      "enter integer value please: afa\n",
      "wrong input...enter integer value only\n",
      "enter integer value please: asa\n",
      "wrong input...enter integer value only\n",
      "enter integer value please: 23413\n"
     ]
    }
   ],
   "source": [
    "test1()"
   ]
  },
  {
   "cell_type": "code",
   "execution_count": null,
   "id": "9b48033c",
   "metadata": {},
   "outputs": [],
   "source": []
  }
 ],
 "metadata": {
  "kernelspec": {
   "display_name": "Python 3 (ipykernel)",
   "language": "python",
   "name": "python3"
  },
  "language_info": {
   "codemirror_mode": {
    "name": "ipython",
    "version": 3
   },
   "file_extension": ".py",
   "mimetype": "text/x-python",
   "name": "python",
   "nbconvert_exporter": "python",
   "pygments_lexer": "ipython3",
   "version": "3.9.12"
  }
 },
 "nbformat": 4,
 "nbformat_minor": 5
}
