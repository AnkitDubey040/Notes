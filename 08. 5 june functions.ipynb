{
 "cells": [
  {
   "cell_type": "code",
   "execution_count": 6,
   "id": "472b0f74",
   "metadata": {},
   "outputs": [],
   "source": [
    "def test(a,b):\n",
    "    print(\"andy\")\n",
    "    print(a,b)\n",
    "    \"\"\"to create doc string we use triple star\"\"\"\n",
    "    \"\"\"this will not be printed\"\"\"\n",
    "    return a+b"
   ]
  },
  {
   "cell_type": "code",
   "execution_count": 7,
   "id": "2022239a",
   "metadata": {},
   "outputs": [
    {
     "name": "stdout",
     "output_type": "stream",
     "text": [
      "andy\n",
      "4 5\n"
     ]
    },
    {
     "data": {
      "text/plain": [
       "9"
      ]
     },
     "execution_count": 7,
     "metadata": {},
     "output_type": "execute_result"
    }
   ],
   "source": [
    "test(4,5)"
   ]
  },
  {
   "cell_type": "code",
   "execution_count": 8,
   "id": "35e898c9",
   "metadata": {},
   "outputs": [
    {
     "name": "stdout",
     "output_type": "stream",
     "text": [
      "andy\n",
      "4 5\n"
     ]
    },
    {
     "data": {
      "text/plain": [
       "9"
      ]
     },
     "execution_count": 8,
     "metadata": {},
     "output_type": "execute_result"
    }
   ],
   "source": [
    "test(b=5,a=4)"
   ]
  },
  {
   "cell_type": "code",
   "execution_count": 9,
   "id": "5d9d9948",
   "metadata": {},
   "outputs": [
    {
     "name": "stdout",
     "output_type": "stream",
     "text": [
      "andy\n",
      "andy dandy\n"
     ]
    },
    {
     "data": {
      "text/plain": [
       "'andydandy'"
      ]
     },
     "execution_count": 9,
     "metadata": {},
     "output_type": "execute_result"
    }
   ],
   "source": [
    "test(\"andy\",\"dandy\")"
   ]
  },
  {
   "cell_type": "code",
   "execution_count": 5,
   "id": "80b822df",
   "metadata": {},
   "outputs": [
    {
     "ename": "TypeError",
     "evalue": "test() missing 1 required positional argument: 'b'",
     "output_type": "error",
     "traceback": [
      "\u001b[1;31m---------------------------------------------------------------------------\u001b[0m",
      "\u001b[1;31mTypeError\u001b[0m                                 Traceback (most recent call last)",
      "Input \u001b[1;32mIn [5]\u001b[0m, in \u001b[0;36m<cell line: 1>\u001b[1;34m()\u001b[0m\n\u001b[1;32m----> 1\u001b[0m \u001b[43mtest\u001b[49m\u001b[43m(\u001b[49m\u001b[38;5;241;43m4\u001b[39;49m\u001b[43m)\u001b[49m\n",
      "\u001b[1;31mTypeError\u001b[0m: test() missing 1 required positional argument: 'b'"
     ]
    }
   ],
   "source": [
    "test(4)"
   ]
  },
  {
   "cell_type": "code",
   "execution_count": 10,
   "id": "14ce0a09",
   "metadata": {},
   "outputs": [],
   "source": [
    "#\n",
    "#to pass multiple parameters:\n",
    "#\n",
    "def test(*s):\n",
    "    return s\n",
    "#static"
   ]
  },
  {
   "cell_type": "code",
   "execution_count": 11,
   "id": "7ecec8a9",
   "metadata": {},
   "outputs": [
    {
     "data": {
      "text/plain": [
       "(2, 4, 1, 54, 21)"
      ]
     },
     "execution_count": 11,
     "metadata": {},
     "output_type": "execute_result"
    }
   ],
   "source": [
    "test(2,4,1,54,21,)"
   ]
  },
  {
   "cell_type": "code",
   "execution_count": 12,
   "id": "4abf106f",
   "metadata": {},
   "outputs": [
    {
     "ename": "SyntaxError",
     "evalue": "named arguments must follow bare * (1761256686.py, line 1)",
     "output_type": "error",
     "traceback": [
      "\u001b[1;36m  Input \u001b[1;32mIn [12]\u001b[1;36m\u001b[0m\n\u001b[1;33m    def test(*)\u001b[0m\n\u001b[1;37m              ^\u001b[0m\n\u001b[1;31mSyntaxError\u001b[0m\u001b[1;31m:\u001b[0m named arguments must follow bare *\n"
     ]
    }
   ],
   "source": [
    "def test(*)"
   ]
  },
  {
   "cell_type": "code",
   "execution_count": 19,
   "id": "4e36563d",
   "metadata": {},
   "outputs": [],
   "source": [
    "def test(n):\n",
    "    i = 0 \n",
    "    while i <=n:\n",
    "        print(\"ayush \"*i, end = \" \")\n",
    "        print(\"\\n\")\n",
    "        i = i+1"
   ]
  },
  {
   "cell_type": "code",
   "execution_count": 20,
   "id": "2ddd09aa",
   "metadata": {},
   "outputs": [
    {
     "name": "stdout",
     "output_type": "stream",
     "text": [
      " \n",
      "\n",
      "ayush  \n",
      "\n",
      "ayush ayush  \n",
      "\n",
      "ayush ayush ayush  \n",
      "\n",
      "ayush ayush ayush ayush  \n",
      "\n",
      "ayush ayush ayush ayush ayush  \n",
      "\n",
      "ayush ayush ayush ayush ayush ayush  \n",
      "\n"
     ]
    }
   ],
   "source": [
    "test(6)"
   ]
  },
  {
   "cell_type": "code",
   "execution_count": 1,
   "id": "b6e22078",
   "metadata": {},
   "outputs": [],
   "source": [
    "def test(*s,a,b,c,d):\n",
    "    return s,a,b,c,d\n",
    "    "
   ]
  },
  {
   "cell_type": "code",
   "execution_count": 2,
   "id": "dc806a6c",
   "metadata": {},
   "outputs": [
    {
     "ename": "TypeError",
     "evalue": "test() missing 4 required keyword-only arguments: 'a', 'b', 'c', and 'd'",
     "output_type": "error",
     "traceback": [
      "\u001b[1;31m---------------------------------------------------------------------------\u001b[0m",
      "\u001b[1;31mTypeError\u001b[0m                                 Traceback (most recent call last)",
      "Input \u001b[1;32mIn [2]\u001b[0m, in \u001b[0;36m<cell line: 1>\u001b[1;34m()\u001b[0m\n\u001b[1;32m----> 1\u001b[0m \u001b[43mtest\u001b[49m\u001b[43m(\u001b[49m\u001b[38;5;241;43m2\u001b[39;49m\u001b[43m,\u001b[49m\u001b[38;5;241;43m4\u001b[39;49m\u001b[43m,\u001b[49m\u001b[38;5;241;43m2\u001b[39;49m\u001b[43m,\u001b[49m\u001b[38;5;241;43m4\u001b[39;49m\u001b[43m,\u001b[49m\u001b[38;5;241;43m2\u001b[39;49m\u001b[43m,\u001b[49m\u001b[38;5;241;43m4\u001b[39;49m\u001b[43m,\u001b[49m\u001b[38;5;241;43m2\u001b[39;49m\u001b[43m,\u001b[49m\u001b[38;5;241;43m4\u001b[39;49m\u001b[43m,\u001b[49m\u001b[38;5;241;43m2\u001b[39;49m\u001b[43m,\u001b[49m\u001b[38;5;241;43m4\u001b[39;49m\u001b[43m,\u001b[49m\u001b[38;5;241;43m2\u001b[39;49m\u001b[43m,\u001b[49m\u001b[38;5;241;43m5\u001b[39;49m\u001b[43m,\u001b[49m\u001b[38;5;241;43m2\u001b[39;49m\u001b[43m,\u001b[49m\u001b[38;5;241;43m3\u001b[39;49m\u001b[43m)\u001b[49m\n",
      "\u001b[1;31mTypeError\u001b[0m: test() missing 4 required keyword-only arguments: 'a', 'b', 'c', and 'd'"
     ]
    }
   ],
   "source": [
    "test(2,4,2,4,2,4,2,4,2,4,2,5,2,3)"
   ]
  },
  {
   "cell_type": "code",
   "execution_count": 3,
   "id": "2ba1dae7",
   "metadata": {},
   "outputs": [
    {
     "ename": "SyntaxError",
     "evalue": "positional argument follows keyword argument (3740696595.py, line 1)",
     "output_type": "error",
     "traceback": [
      "\u001b[1;36m  Input \u001b[1;32mIn [3]\u001b[1;36m\u001b[0m\n\u001b[1;33m    test(2,4,2,45,1,54,21,a = 4,2,5,2,b=4,c=3,2,4,d=4)\u001b[0m\n\u001b[1;37m                                               ^\u001b[0m\n\u001b[1;31mSyntaxError\u001b[0m\u001b[1;31m:\u001b[0m positional argument follows keyword argument\n"
     ]
    }
   ],
   "source": [
    "test(2,4,2,45,1,54,21,a = 4,2,5,2,b=4,c=3,2,4,d=4)"
   ]
  },
  {
   "cell_type": "code",
   "execution_count": 4,
   "id": "4bbe8bc4",
   "metadata": {},
   "outputs": [
    {
     "data": {
      "text/plain": [
       "((2, 4, 2, 45, 1, 54, 21), 4, 4, 3, 4)"
      ]
     },
     "execution_count": 4,
     "metadata": {},
     "output_type": "execute_result"
    }
   ],
   "source": [
    "test(2,4,2,45,1,54,21,a = 4,b=4,c=3,d=4)"
   ]
  },
  {
   "cell_type": "code",
   "execution_count": 10,
   "id": "821337be",
   "metadata": {},
   "outputs": [],
   "source": [
    "# to create key value pair :\n",
    "def test(**andy):\n",
    "    return andy\n"
   ]
  },
  {
   "cell_type": "code",
   "execution_count": 13,
   "id": "d8da1eef",
   "metadata": {},
   "outputs": [
    {
     "data": {
      "text/plain": [
       "{'a': 'ankit', 'b': 134}"
      ]
     },
     "execution_count": 13,
     "metadata": {},
     "output_type": "execute_result"
    }
   ],
   "source": [
    "test(a=\"ankit\", b=134  )"
   ]
  },
  {
   "cell_type": "code",
   "execution_count": 14,
   "id": "c9744187",
   "metadata": {},
   "outputs": [],
   "source": [
    "def test1(*a,**b):\n",
    "    return a ,b\n"
   ]
  },
  {
   "cell_type": "code",
   "execution_count": 15,
   "id": "f1e91e85",
   "metadata": {},
   "outputs": [
    {
     "data": {
      "text/plain": [
       "((1, 3, 1, 4, 1), {'a': 1, 'b': 3})"
      ]
     },
     "execution_count": 15,
     "metadata": {},
     "output_type": "execute_result"
    }
   ],
   "source": [
    "test1(1,3,1,4,1,a=1,b=3)"
   ]
  },
  {
   "cell_type": "code",
   "execution_count": 21,
   "id": "6502fdd7",
   "metadata": {},
   "outputs": [],
   "source": [
    "def list_sum(*l):\n",
    "    count=0\n",
    "    for i in l:\n",
    "        if type(i)==int:\n",
    "            count = count +i\n",
    "    return count"
   ]
  },
  {
   "cell_type": "code",
   "execution_count": 23,
   "id": "1860c017",
   "metadata": {},
   "outputs": [
    {
     "data": {
      "text/plain": [
       "55"
      ]
     },
     "execution_count": 23,
     "metadata": {},
     "output_type": "execute_result"
    }
   ],
   "source": [
    "list_sum(1,2,3,4,5,6,7,8,9,10,\"andy\")"
   ]
  },
  {
   "cell_type": "code",
   "execution_count": null,
   "id": "7507cd4c",
   "metadata": {},
   "outputs": [],
   "source": []
  },
  {
   "cell_type": "code",
   "execution_count": 25,
   "id": "ad05ec73",
   "metadata": {},
   "outputs": [],
   "source": [
    "#LAMBDA OR ANONYMOUS FUNCTION or one line function"
   ]
  },
  {
   "cell_type": "code",
   "execution_count": null,
   "id": "230b5ecd",
   "metadata": {},
   "outputs": [],
   "source": []
  },
  {
   "cell_type": "code",
   "execution_count": null,
   "id": "6726664b",
   "metadata": {},
   "outputs": [],
   "source": []
  },
  {
   "cell_type": "code",
   "execution_count": 38,
   "id": "fb32fd20",
   "metadata": {},
   "outputs": [],
   "source": [
    "n = lambda a , b : a+b"
   ]
  },
  {
   "cell_type": "code",
   "execution_count": 42,
   "id": "a8551f01",
   "metadata": {},
   "outputs": [
    {
     "data": {
      "text/plain": [
       "5"
      ]
     },
     "execution_count": 42,
     "metadata": {},
     "output_type": "execute_result"
    }
   ],
   "source": [
    "# we have not given any name to function\n",
    "n(2,3)\n"
   ]
  },
  {
   "cell_type": "code",
   "execution_count": 43,
   "id": "ebf96a3b",
   "metadata": {},
   "outputs": [
    {
     "data": {
      "text/plain": [
       "function"
      ]
     },
     "execution_count": 43,
     "metadata": {},
     "output_type": "execute_result"
    }
   ],
   "source": [
    "type(n)"
   ]
  },
  {
   "cell_type": "code",
   "execution_count": 40,
   "id": "1efb5dc4",
   "metadata": {},
   "outputs": [],
   "source": [
    "def test(a,b):\n",
    "    return a+b"
   ]
  },
  {
   "cell_type": "code",
   "execution_count": 41,
   "id": "4a2105ed",
   "metadata": {},
   "outputs": [
    {
     "data": {
      "text/plain": [
       "5"
      ]
     },
     "execution_count": 41,
     "metadata": {},
     "output_type": "execute_result"
    }
   ],
   "source": [
    "test(2,3)"
   ]
  },
  {
   "cell_type": "code",
   "execution_count": 61,
   "id": "1bf1c57c",
   "metadata": {},
   "outputs": [],
   "source": [
    "b =lambda *andy: andy"
   ]
  },
  {
   "cell_type": "code",
   "execution_count": 62,
   "id": "3c4cb05a",
   "metadata": {},
   "outputs": [
    {
     "data": {
      "text/plain": [
       "(1, 2, 4, 2, 4, 21, 4)"
      ]
     },
     "execution_count": 62,
     "metadata": {},
     "output_type": "execute_result"
    }
   ],
   "source": [
    "b(1,2,4,2,4,21,4)"
   ]
  },
  {
   "cell_type": "markdown",
   "id": "c9a15569",
   "metadata": {},
   "source": [
    "#comphrension expressions:\n"
   ]
  },
  {
   "cell_type": "code",
   "execution_count": 66,
   "id": "ad5fed22",
   "metadata": {},
   "outputs": [],
   "source": [
    "#usual method\n",
    "t=(1,2,4,1,4,2,76,7,85,68,9)\n",
    "#l=[]\n",
    "#for i in t:\n",
    "#    l.append(i)\n",
    "#l"
   ]
  },
  {
   "cell_type": "code",
   "execution_count": 68,
   "id": "551a66c9",
   "metadata": {},
   "outputs": [
    {
     "data": {
      "text/plain": [
       "[1, 2, 4, 1, 4, 2, 76, 7, 85, 68, 9]"
      ]
     },
     "execution_count": 68,
     "metadata": {},
     "output_type": "execute_result"
    }
   ],
   "source": [
    "#now:\n",
    "[i for i in t]"
   ]
  },
  {
   "cell_type": "code",
   "execution_count": 70,
   "id": "09727ec6",
   "metadata": {},
   "outputs": [
    {
     "data": {
      "text/plain": [
       "['s', 't', 'r', 'i', 'n', 'g']"
      ]
     },
     "execution_count": 70,
     "metadata": {},
     "output_type": "execute_result"
    }
   ],
   "source": [
    "a =\"string\"\n",
    "[i for i in a]"
   ]
  },
  {
   "cell_type": "code",
   "execution_count": 72,
   "id": "464bf187",
   "metadata": {},
   "outputs": [
    {
     "data": {
      "text/plain": [
       "[0, 1, 8, 27, 64, 125, 216, 343]"
      ]
     },
     "execution_count": 72,
     "metadata": {},
     "output_type": "execute_result"
    }
   ],
   "source": [
    "[i*i*i for i in range(8)]"
   ]
  },
  {
   "cell_type": "code",
   "execution_count": 73,
   "id": "57afb157",
   "metadata": {},
   "outputs": [],
   "source": [
    "l =lambda *s: [i for i in s ]"
   ]
  },
  {
   "cell_type": "code",
   "execution_count": 74,
   "id": "8e6572f4",
   "metadata": {},
   "outputs": [
    {
     "data": {
      "text/plain": [
       "[2, 4, 1, 34, 1, 42, 2]"
      ]
     },
     "execution_count": 74,
     "metadata": {},
     "output_type": "execute_result"
    }
   ],
   "source": [
    "l(2,4,1,34,1,42,2)"
   ]
  },
  {
   "cell_type": "code",
   "execution_count": 79,
   "id": "7c29ac2f",
   "metadata": {},
   "outputs": [],
   "source": [
    "l =lambda *s: [i*i for i in s ]"
   ]
  },
  {
   "cell_type": "code",
   "execution_count": 80,
   "id": "f5f8a69f",
   "metadata": {},
   "outputs": [
    {
     "data": {
      "text/plain": [
       "[4, 1, 16, 36, 4]"
      ]
     },
     "execution_count": 80,
     "metadata": {},
     "output_type": "execute_result"
    }
   ],
   "source": [
    "l(2,1,4,6,2)"
   ]
  },
  {
   "cell_type": "code",
   "execution_count": 82,
   "id": "9e2d80fd",
   "metadata": {},
   "outputs": [],
   "source": [
    "#test14(a = 7 , b = \"sudh\" , c = 345 , d = \"sudh\" , l = [2,3,4,45 , \"sudh\"])\n",
    "#suppose in the above list we wnt to know how many times\n",
    "#have we passed a string so for that we do this:\n"
   ]
  },
  {
   "cell_type": "code",
   "execution_count": 111,
   "id": "301f5928",
   "metadata": {},
   "outputs": [],
   "source": [
    "def test(**kargs):\n",
    "    count = 0\n",
    "    for i in kargs.values():\n",
    "        if type(i) ==  str:\n",
    "            count +=1\n",
    "        if type(i) == list:\n",
    "            for j in i:\n",
    "                if type(j) == str:\n",
    "                    count +=1\n",
    "    return count"
   ]
  },
  {
   "cell_type": "code",
   "execution_count": 112,
   "id": "7942a3b8",
   "metadata": {},
   "outputs": [
    {
     "data": {
      "text/plain": [
       "3"
      ]
     },
     "execution_count": 112,
     "metadata": {},
     "output_type": "execute_result"
    }
   ],
   "source": [
    "test(a = 7 , b = \"sudh\" , c = 345 , d = \"sudh\" , l = [2,3,4,45 , \"sudh\"])"
   ]
  },
  {
   "cell_type": "code",
   "execution_count": 129,
   "id": "64d2a92d",
   "metadata": {},
   "outputs": [],
   "source": [
    "#Todays task :\n",
    "#   q1 : Try to print a prime number in between 1 to 1000\n",
    "#    q2 : Try to write a function which  is equivalent  to print function in python\n",
    "#   q3 : Try to write a function which is a replica of list append , extend and pop function \n",
    "#   q4 : Try to write a lambda function which can return a concatination of all the string that we will pass\n",
    "#   q5 : Try to write a lambda function which can return list of square of all the data between 1-100 \n",
    " #   q6 : Try to write a 10 Different different example of lambda function with a choice of your taks \n",
    "  #  q7 : Try to wwrite a funtion whihc can perform a read operation from .txt file ***     "
   ]
  },
  {
   "cell_type": "code",
   "execution_count": 126,
   "id": "183b4be9",
   "metadata": {},
   "outputs": [],
   "source": [
    "#q1\n",
    "def prime():\n",
    "    a=1\n",
    "    b=1\n",
    "    while a <= 1000:\n",
    "        while b<=1000:\n",
    "            if a % b == 0 :\n",
    "                print(a)\n",
    "            else:\n",
    "                pass\n",
    "            b = b+1\n",
    "        a +=1\n",
    "        \n",
    "    "
   ]
  },
  {
   "cell_type": "code",
   "execution_count": 127,
   "id": "20e31194",
   "metadata": {},
   "outputs": [
    {
     "name": "stdout",
     "output_type": "stream",
     "text": [
      "1\n"
     ]
    }
   ],
   "source": [
    "prime()"
   ]
  },
  {
   "cell_type": "code",
   "execution_count": null,
   "id": "3e8079be",
   "metadata": {},
   "outputs": [],
   "source": []
  }
 ],
 "metadata": {
  "kernelspec": {
   "display_name": "Python 3 (ipykernel)",
   "language": "python",
   "name": "python3"
  },
  "language_info": {
   "codemirror_mode": {
    "name": "ipython",
    "version": 3
   },
   "file_extension": ".py",
   "mimetype": "text/x-python",
   "name": "python",
   "nbconvert_exporter": "python",
   "pygments_lexer": "ipython3",
   "version": "3.9.12"
  }
 },
 "nbformat": 4,
 "nbformat_minor": 5
}
