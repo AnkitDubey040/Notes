{
 "cells": [
  {
   "cell_type": "code",
   "execution_count": 4,
   "id": "e7b02c03",
   "metadata": {},
   "outputs": [],
   "source": [
    "l=[1,2,3,\"andy\",True,32.42,4+4j]"
   ]
  },
  {
   "cell_type": "code",
   "execution_count": 5,
   "id": "3cfcb9cd",
   "metadata": {},
   "outputs": [],
   "source": [
    "l1 = [l,1,2,3]"
   ]
  },
  {
   "cell_type": "code",
   "execution_count": 6,
   "id": "adc59f52",
   "metadata": {},
   "outputs": [
    {
     "data": {
      "text/plain": [
       "[[1, 2, 3, 'andy', True, 32.42, (4+4j)], 1, 2, 3]"
      ]
     },
     "execution_count": 6,
     "metadata": {},
     "output_type": "execute_result"
    }
   ],
   "source": [
    "l1"
   ]
  },
  {
   "cell_type": "markdown",
   "id": "41568b91",
   "metadata": {},
   "source": [
    "**list traversal:"
   ]
  },
  {
   "cell_type": "code",
   "execution_count": 7,
   "id": "d5e4c721",
   "metadata": {},
   "outputs": [
    {
     "data": {
      "text/plain": [
       "1"
      ]
     },
     "execution_count": 7,
     "metadata": {},
     "output_type": "execute_result"
    }
   ],
   "source": [
    "l[0]"
   ]
  },
  {
   "cell_type": "code",
   "execution_count": 8,
   "id": "e0cbf211",
   "metadata": {},
   "outputs": [
    {
     "data": {
      "text/plain": [
       "(4+4j)"
      ]
     },
     "execution_count": 8,
     "metadata": {},
     "output_type": "execute_result"
    }
   ],
   "source": [
    "l[-1]"
   ]
  },
  {
   "cell_type": "code",
   "execution_count": 9,
   "id": "2482efda",
   "metadata": {},
   "outputs": [
    {
     "data": {
      "text/plain": [
       "7"
      ]
     },
     "execution_count": 9,
     "metadata": {},
     "output_type": "execute_result"
    }
   ],
   "source": [
    "len(l)"
   ]
  },
  {
   "cell_type": "code",
   "execution_count": 10,
   "id": "98c261c3",
   "metadata": {},
   "outputs": [
    {
     "data": {
      "text/plain": [
       "[1, 2, 3, 'andy', True]"
      ]
     },
     "execution_count": 10,
     "metadata": {},
     "output_type": "execute_result"
    }
   ],
   "source": [
    "l[0:5]"
   ]
  },
  {
   "cell_type": "markdown",
   "id": "1ce29aff",
   "metadata": {},
   "source": [
    "**list excludes the upper bound"
   ]
  },
  {
   "cell_type": "code",
   "execution_count": 11,
   "id": "7707dd2d",
   "metadata": {},
   "outputs": [
    {
     "data": {
      "text/plain": [
       "[(4+4j), 32.42, True, 'andy', 3, 2, 1]"
      ]
     },
     "execution_count": 11,
     "metadata": {},
     "output_type": "execute_result"
    }
   ],
   "source": [
    "l[::-1]"
   ]
  },
  {
   "cell_type": "code",
   "execution_count": 13,
   "id": "89acc1ec",
   "metadata": {},
   "outputs": [
    {
     "data": {
      "text/plain": [
       "[1, 'andy', (4+4j)]"
      ]
     },
     "execution_count": 13,
     "metadata": {},
     "output_type": "execute_result"
    }
   ],
   "source": [
    "l[0:100:3]"
   ]
  },
  {
   "cell_type": "code",
   "execution_count": 14,
   "id": "b3959cc8",
   "metadata": {},
   "outputs": [
    {
     "data": {
      "text/plain": [
       "[]"
      ]
     },
     "execution_count": 14,
     "metadata": {},
     "output_type": "execute_result"
    }
   ],
   "source": [
    "l[0:8:-1]"
   ]
  },
  {
   "cell_type": "code",
   "execution_count": 15,
   "id": "7b3a7aac",
   "metadata": {},
   "outputs": [
    {
     "data": {
      "text/plain": [
       "[1, 2, 3, 'andy']"
      ]
     },
     "execution_count": 15,
     "metadata": {},
     "output_type": "execute_result"
    }
   ],
   "source": [
    "l[:4]"
   ]
  },
  {
   "cell_type": "code",
   "execution_count": 16,
   "id": "c0d4a115",
   "metadata": {},
   "outputs": [
    {
     "data": {
      "text/plain": [
       "['andy', True, 32.42, (4+4j)]"
      ]
     },
     "execution_count": 16,
     "metadata": {},
     "output_type": "execute_result"
    }
   ],
   "source": [
    "l[3:]"
   ]
  },
  {
   "cell_type": "code",
   "execution_count": 17,
   "id": "d39916d5",
   "metadata": {},
   "outputs": [
    {
     "ename": "TypeError",
     "evalue": "can only concatenate list (not \"str\") to list",
     "output_type": "error",
     "traceback": [
      "\u001b[1;31m---------------------------------------------------------------------------\u001b[0m",
      "\u001b[1;31mTypeError\u001b[0m                                 Traceback (most recent call last)",
      "Input \u001b[1;32mIn [17]\u001b[0m, in \u001b[0;36m<cell line: 1>\u001b[1;34m()\u001b[0m\n\u001b[1;32m----> 1\u001b[0m \u001b[43ml\u001b[49m\u001b[38;5;241;43m+\u001b[39;49m\u001b[43m \u001b[49m\u001b[38;5;124;43m\"\u001b[39;49m\u001b[38;5;124;43mandy\u001b[39;49m\u001b[38;5;124;43m\"\u001b[39;49m\n",
      "\u001b[1;31mTypeError\u001b[0m: can only concatenate list (not \"str\") to list"
     ]
    }
   ],
   "source": [
    "l+ \"andy\""
   ]
  },
  {
   "cell_type": "code",
   "execution_count": 18,
   "id": "f2f035f2",
   "metadata": {},
   "outputs": [
    {
     "ename": "TypeError",
     "evalue": "can only concatenate list (not \"int\") to list",
     "output_type": "error",
     "traceback": [
      "\u001b[1;31m---------------------------------------------------------------------------\u001b[0m",
      "\u001b[1;31mTypeError\u001b[0m                                 Traceback (most recent call last)",
      "Input \u001b[1;32mIn [18]\u001b[0m, in \u001b[0;36m<cell line: 1>\u001b[1;34m()\u001b[0m\n\u001b[1;32m----> 1\u001b[0m \u001b[43ml\u001b[49m\u001b[43m \u001b[49m\u001b[38;5;241;43m+\u001b[39;49m\u001b[43m \u001b[49m\u001b[38;5;241;43m1\u001b[39;49m\n",
      "\u001b[1;31mTypeError\u001b[0m: can only concatenate list (not \"int\") to list"
     ]
    }
   ],
   "source": [
    "l + 1"
   ]
  },
  {
   "cell_type": "code",
   "execution_count": 19,
   "id": "72c811a6",
   "metadata": {},
   "outputs": [
    {
     "data": {
      "text/plain": [
       "[1,\n",
       " 2,\n",
       " 3,\n",
       " 'andy',\n",
       " True,\n",
       " 32.42,\n",
       " (4+4j),\n",
       " [1, 2, 3, 'andy', True, 32.42, (4+4j)],\n",
       " 1,\n",
       " 2,\n",
       " 3]"
      ]
     },
     "execution_count": 19,
     "metadata": {},
     "output_type": "execute_result"
    }
   ],
   "source": [
    "l+l1"
   ]
  },
  {
   "cell_type": "markdown",
   "id": "dad3a383",
   "metadata": {},
   "source": [
    "**searching in the list: "
   ]
  },
  {
   "cell_type": "code",
   "execution_count": 22,
   "id": "280a3db4",
   "metadata": {},
   "outputs": [
    {
     "data": {
      "text/plain": [
       "True"
      ]
     },
     "execution_count": 22,
     "metadata": {},
     "output_type": "execute_result"
    }
   ],
   "source": [
    "3 in l"
   ]
  },
  {
   "cell_type": "code",
   "execution_count": 23,
   "id": "0ec6637c",
   "metadata": {},
   "outputs": [
    {
     "data": {
      "text/plain": [
       "False"
      ]
     },
     "execution_count": 23,
     "metadata": {},
     "output_type": "execute_result"
    }
   ],
   "source": [
    "6 in l"
   ]
  },
  {
   "cell_type": "code",
   "execution_count": 24,
   "id": "4c383771",
   "metadata": {},
   "outputs": [
    {
     "data": {
      "text/plain": [
       "True"
      ]
     },
     "execution_count": 24,
     "metadata": {},
     "output_type": "execute_result"
    }
   ],
   "source": [
    "l in l1"
   ]
  },
  {
   "cell_type": "code",
   "execution_count": 25,
   "id": "313ad00d",
   "metadata": {},
   "outputs": [
    {
     "ename": "TypeError",
     "evalue": "'>' not supported between instances of 'str' and 'int'",
     "output_type": "error",
     "traceback": [
      "\u001b[1;31m---------------------------------------------------------------------------\u001b[0m",
      "\u001b[1;31mTypeError\u001b[0m                                 Traceback (most recent call last)",
      "Input \u001b[1;32mIn [25]\u001b[0m, in \u001b[0;36m<cell line: 1>\u001b[1;34m()\u001b[0m\n\u001b[1;32m----> 1\u001b[0m \u001b[38;5;28;43mmax\u001b[39;49m\u001b[43m(\u001b[49m\u001b[43ml\u001b[49m\u001b[43m)\u001b[49m\n",
      "\u001b[1;31mTypeError\u001b[0m: '>' not supported between instances of 'str' and 'int'"
     ]
    }
   ],
   "source": [
    "max(l)"
   ]
  },
  {
   "cell_type": "code",
   "execution_count": 26,
   "id": "aabf68d5",
   "metadata": {},
   "outputs": [],
   "source": [
    "l2= [1,2,3,4,5,6]"
   ]
  },
  {
   "cell_type": "code",
   "execution_count": 27,
   "id": "e7b455bc",
   "metadata": {},
   "outputs": [
    {
     "data": {
      "text/plain": [
       "6"
      ]
     },
     "execution_count": 27,
     "metadata": {},
     "output_type": "execute_result"
    }
   ],
   "source": [
    "max(l2)"
   ]
  },
  {
   "cell_type": "code",
   "execution_count": 28,
   "id": "57abcc07",
   "metadata": {},
   "outputs": [],
   "source": [
    "l3 = [\"ankit\" , \"ayush\", \" sagar\" ] "
   ]
  },
  {
   "cell_type": "code",
   "execution_count": 29,
   "id": "eee29a96",
   "metadata": {},
   "outputs": [
    {
     "data": {
      "text/plain": [
       "'ayush'"
      ]
     },
     "execution_count": 29,
     "metadata": {},
     "output_type": "execute_result"
    }
   ],
   "source": [
    "max(l3)"
   ]
  },
  {
   "cell_type": "code",
   "execution_count": 30,
   "id": "0c40ce04",
   "metadata": {},
   "outputs": [
    {
     "data": {
      "text/plain": [
       "1"
      ]
     },
     "execution_count": 30,
     "metadata": {},
     "output_type": "execute_result"
    }
   ],
   "source": [
    "min(l2)"
   ]
  },
  {
   "cell_type": "code",
   "execution_count": 31,
   "id": "b9ad7a3a",
   "metadata": {},
   "outputs": [
    {
     "data": {
      "text/plain": [
       "' sagar'"
      ]
     },
     "execution_count": 31,
     "metadata": {},
     "output_type": "execute_result"
    }
   ],
   "source": [
    "min(l3)"
   ]
  },
  {
   "cell_type": "code",
   "execution_count": 32,
   "id": "1072483c",
   "metadata": {},
   "outputs": [],
   "source": [
    "l.append(\"andy\")"
   ]
  },
  {
   "cell_type": "code",
   "execution_count": 33,
   "id": "baa42e7a",
   "metadata": {},
   "outputs": [
    {
     "data": {
      "text/plain": [
       "[1, 2, 3, 'andy', True, 32.42, (4+4j), 'andy']"
      ]
     },
     "execution_count": 33,
     "metadata": {},
     "output_type": "execute_result"
    }
   ],
   "source": [
    "l"
   ]
  },
  {
   "cell_type": "code",
   "execution_count": 34,
   "id": "6e7e1997",
   "metadata": {},
   "outputs": [],
   "source": [
    "l3.append(l)"
   ]
  },
  {
   "cell_type": "code",
   "execution_count": 35,
   "id": "2e390229",
   "metadata": {},
   "outputs": [
    {
     "data": {
      "text/plain": [
       "['ankit', 'ayush', ' sagar', [1, 2, 3, 'andy', True, 32.42, (4+4j), 'andy']]"
      ]
     },
     "execution_count": 35,
     "metadata": {},
     "output_type": "execute_result"
    }
   ],
   "source": [
    "l3"
   ]
  },
  {
   "cell_type": "code",
   "execution_count": 36,
   "id": "72e93e77",
   "metadata": {},
   "outputs": [
    {
     "data": {
      "text/plain": [
       "1"
      ]
     },
     "execution_count": 36,
     "metadata": {},
     "output_type": "execute_result"
    }
   ],
   "source": [
    "l.pop(0)"
   ]
  },
  {
   "cell_type": "code",
   "execution_count": 37,
   "id": "d0f338d8",
   "metadata": {},
   "outputs": [
    {
     "data": {
      "text/plain": [
       "[2, 3, 'andy', True, 32.42, (4+4j), 'andy']"
      ]
     },
     "execution_count": 37,
     "metadata": {},
     "output_type": "execute_result"
    }
   ],
   "source": [
    "l"
   ]
  },
  {
   "cell_type": "markdown",
   "id": "2965f190",
   "metadata": {},
   "source": [
    "**pop removes data from the list by its index"
   ]
  },
  {
   "cell_type": "code",
   "execution_count": 41,
   "id": "dd0426bf",
   "metadata": {},
   "outputs": [
    {
     "data": {
      "text/plain": [
       "['ankit', 'ayush', ' sagar']"
      ]
     },
     "execution_count": 41,
     "metadata": {},
     "output_type": "execute_result"
    }
   ],
   "source": [
    "l3"
   ]
  },
  {
   "cell_type": "code",
   "execution_count": 48,
   "id": "b3890299",
   "metadata": {},
   "outputs": [
    {
     "data": {
      "text/plain": [
       "[2, 3, 'andy', True, 32.42, (4+4j), 'andy']"
      ]
     },
     "execution_count": 48,
     "metadata": {},
     "output_type": "execute_result"
    }
   ],
   "source": [
    "l"
   ]
  },
  {
   "cell_type": "code",
   "execution_count": 51,
   "id": "345d2fc2",
   "metadata": {},
   "outputs": [
    {
     "data": {
      "text/plain": [
       "'andy'"
      ]
     },
     "execution_count": 51,
     "metadata": {},
     "output_type": "execute_result"
    }
   ],
   "source": [
    "l.pop()"
   ]
  },
  {
   "cell_type": "markdown",
   "id": "3aac8893",
   "metadata": {},
   "source": [
    "**by default removes the last element of the list"
   ]
  },
  {
   "cell_type": "code",
   "execution_count": 52,
   "id": "e05a5127",
   "metadata": {},
   "outputs": [
    {
     "data": {
      "text/plain": [
       "[2, 3, 'andy', True, 32.42, (4+4j)]"
      ]
     },
     "execution_count": 52,
     "metadata": {},
     "output_type": "execute_result"
    }
   ],
   "source": [
    "l"
   ]
  },
  {
   "cell_type": "code",
   "execution_count": 53,
   "id": "f157f86e",
   "metadata": {},
   "outputs": [],
   "source": [
    "l.reverse()"
   ]
  },
  {
   "cell_type": "markdown",
   "id": "439a2fc8",
   "metadata": {},
   "source": [
    "**the diff between reverse and l[::-1] is that reverse fun makes the list permanently reversed whereas the later only reverses the list for runtime"
   ]
  },
  {
   "cell_type": "code",
   "execution_count": 54,
   "id": "4c33dc1b",
   "metadata": {},
   "outputs": [
    {
     "data": {
      "text/plain": [
       "[(4+4j), 32.42, True, 'andy', 3, 2]"
      ]
     },
     "execution_count": 54,
     "metadata": {},
     "output_type": "execute_result"
    }
   ],
   "source": [
    "l"
   ]
  },
  {
   "cell_type": "code",
   "execution_count": 55,
   "id": "0d2e0c68",
   "metadata": {},
   "outputs": [
    {
     "data": {
      "text/plain": [
       "[2, 3, 'andy', True, 32.42, (4+4j)]"
      ]
     },
     "execution_count": 55,
     "metadata": {},
     "output_type": "execute_result"
    }
   ],
   "source": [
    "l[::-1]"
   ]
  },
  {
   "cell_type": "code",
   "execution_count": 56,
   "id": "7cd1379d",
   "metadata": {},
   "outputs": [
    {
     "data": {
      "text/plain": [
       "[(4+4j), 32.42, True, 'andy', 3, 2]"
      ]
     },
     "execution_count": 56,
     "metadata": {},
     "output_type": "execute_result"
    }
   ],
   "source": [
    "l"
   ]
  },
  {
   "cell_type": "code",
   "execution_count": 58,
   "id": "9f3f10ba",
   "metadata": {},
   "outputs": [],
   "source": [
    "l2 = [3,5,2,5,6,7,3,6,245,73,45,34]"
   ]
  },
  {
   "cell_type": "code",
   "execution_count": 59,
   "id": "4c60b591",
   "metadata": {},
   "outputs": [],
   "source": [
    "l2.sort()"
   ]
  },
  {
   "cell_type": "code",
   "execution_count": 60,
   "id": "37131576",
   "metadata": {},
   "outputs": [
    {
     "data": {
      "text/plain": [
       "[2, 3, 3, 5, 5, 6, 6, 7, 34, 45, 73, 245]"
      ]
     },
     "execution_count": 60,
     "metadata": {},
     "output_type": "execute_result"
    }
   ],
   "source": [
    "l2"
   ]
  },
  {
   "cell_type": "code",
   "execution_count": 73,
   "id": "8766fb7e",
   "metadata": {},
   "outputs": [],
   "source": [
    "l2 = [2,3,3,4,5,6,6,7,34,45,73]"
   ]
  },
  {
   "cell_type": "code",
   "execution_count": 74,
   "id": "b21f6c9a",
   "metadata": {},
   "outputs": [],
   "source": [
    "l2.sort(reverse = True)"
   ]
  },
  {
   "cell_type": "code",
   "execution_count": 75,
   "id": "d7e7636c",
   "metadata": {},
   "outputs": [
    {
     "data": {
      "text/plain": [
       "[73, 45, 34, 7, 6, 6, 5, 4, 3, 3, 2]"
      ]
     },
     "execution_count": 75,
     "metadata": {},
     "output_type": "execute_result"
    }
   ],
   "source": [
    "l2"
   ]
  },
  {
   "cell_type": "code",
   "execution_count": 76,
   "id": "7190cb14",
   "metadata": {},
   "outputs": [],
   "source": [
    "l1=[1,2,3]"
   ]
  },
  {
   "cell_type": "code",
   "execution_count": 77,
   "id": "99ecdb56",
   "metadata": {},
   "outputs": [],
   "source": [
    "l2=[4,5,2,6]\n",
    "l3=[6,7,8,1,6]"
   ]
  },
  {
   "cell_type": "code",
   "execution_count": 78,
   "id": "60d73716",
   "metadata": {},
   "outputs": [],
   "source": [
    "l4=[l1,l2,l3]"
   ]
  },
  {
   "cell_type": "code",
   "execution_count": 79,
   "id": "74f7b18e",
   "metadata": {},
   "outputs": [
    {
     "data": {
      "text/plain": [
       "[[1, 2, 3], [4, 5, 2, 6], [6, 7, 8, 1, 6]]"
      ]
     },
     "execution_count": 79,
     "metadata": {},
     "output_type": "execute_result"
    }
   ],
   "source": [
    "l4"
   ]
  },
  {
   "cell_type": "markdown",
   "id": "a5625ed5",
   "metadata": {},
   "source": [
    "****to extract 1 from the 3rd list in l4"
   ]
  },
  {
   "cell_type": "code",
   "execution_count": 81,
   "id": "dfbfbb47",
   "metadata": {},
   "outputs": [
    {
     "data": {
      "text/plain": [
       "[6, 7, 8, 1, 6]"
      ]
     },
     "execution_count": 81,
     "metadata": {},
     "output_type": "execute_result"
    }
   ],
   "source": [
    "l4[2]"
   ]
  },
  {
   "cell_type": "code",
   "execution_count": 82,
   "id": "56c85140",
   "metadata": {},
   "outputs": [
    {
     "data": {
      "text/plain": [
       "1"
      ]
     },
     "execution_count": 82,
     "metadata": {},
     "output_type": "execute_result"
    }
   ],
   "source": [
    "l4[2][3]"
   ]
  },
  {
   "cell_type": "code",
   "execution_count": 84,
   "id": "325505eb",
   "metadata": {},
   "outputs": [
    {
     "data": {
      "text/plain": [
       "[[1, 2, 3], [4, 5, 2, 6], [6, 7, 8, 1, 6]]"
      ]
     },
     "execution_count": 84,
     "metadata": {},
     "output_type": "execute_result"
    }
   ],
   "source": [
    "l4"
   ]
  },
  {
   "cell_type": "code",
   "execution_count": 87,
   "id": "103b1c33",
   "metadata": {},
   "outputs": [],
   "source": [
    "l5 = [2,3,6,1,5,1,5,2,5,22,3,2,5,6,]"
   ]
  },
  {
   "cell_type": "code",
   "execution_count": 88,
   "id": "3688552b",
   "metadata": {},
   "outputs": [
    {
     "data": {
      "text/plain": [
       "4"
      ]
     },
     "execution_count": 88,
     "metadata": {},
     "output_type": "execute_result"
    }
   ],
   "source": [
    "l5.count(5)"
   ]
  },
  {
   "cell_type": "code",
   "execution_count": 90,
   "id": "69840d48",
   "metadata": {},
   "outputs": [],
   "source": [
    "l.append([16,78,\"andy rasp\"])"
   ]
  },
  {
   "cell_type": "code",
   "execution_count": 91,
   "id": "e6391519",
   "metadata": {},
   "outputs": [
    {
     "data": {
      "text/plain": [
       "[(4+4j), 32.42, True, 'andy', 3, 2, [16, 78, 'andy rasp']]"
      ]
     },
     "execution_count": 91,
     "metadata": {},
     "output_type": "execute_result"
    }
   ],
   "source": [
    "l"
   ]
  },
  {
   "cell_type": "code",
   "execution_count": 92,
   "id": "443cd1c2",
   "metadata": {},
   "outputs": [],
   "source": [
    "l.extend(\"ayush\")"
   ]
  },
  {
   "cell_type": "code",
   "execution_count": 93,
   "id": "fb0c8b53",
   "metadata": {},
   "outputs": [
    {
     "data": {
      "text/plain": [
       "[(4+4j),\n",
       " 32.42,\n",
       " True,\n",
       " 'andy',\n",
       " 3,\n",
       " 2,\n",
       " [16, 78, 'andy rasp'],\n",
       " 'a',\n",
       " 'y',\n",
       " 'u',\n",
       " 's',\n",
       " 'h']"
      ]
     },
     "execution_count": 93,
     "metadata": {},
     "output_type": "execute_result"
    }
   ],
   "source": [
    "l"
   ]
  },
  {
   "cell_type": "code",
   "execution_count": 94,
   "id": "a34556e7",
   "metadata": {},
   "outputs": [],
   "source": [
    "l6 = [1,2,3]"
   ]
  },
  {
   "cell_type": "code",
   "execution_count": 97,
   "id": "3953f212",
   "metadata": {},
   "outputs": [],
   "source": [
    "l6.append([2,3,4])"
   ]
  },
  {
   "cell_type": "code",
   "execution_count": 98,
   "id": "de47cdbb",
   "metadata": {},
   "outputs": [
    {
     "data": {
      "text/plain": [
       "[1, 2, 3, [2, 3, 4]]"
      ]
     },
     "execution_count": 98,
     "metadata": {},
     "output_type": "execute_result"
    }
   ],
   "source": [
    "l6"
   ]
  },
  {
   "cell_type": "code",
   "execution_count": 99,
   "id": "52e2e339",
   "metadata": {},
   "outputs": [],
   "source": [
    "l6.append(\"andy\")"
   ]
  },
  {
   "cell_type": "code",
   "execution_count": 100,
   "id": "2d81d7c4",
   "metadata": {},
   "outputs": [
    {
     "data": {
      "text/plain": [
       "[1, 2, 3, [2, 3, 4], 'andy']"
      ]
     },
     "execution_count": 100,
     "metadata": {},
     "output_type": "execute_result"
    }
   ],
   "source": [
    "l6"
   ]
  },
  {
   "cell_type": "code",
   "execution_count": 101,
   "id": "0e21cd91",
   "metadata": {},
   "outputs": [
    {
     "ename": "TypeError",
     "evalue": "'int' object is not iterable",
     "output_type": "error",
     "traceback": [
      "\u001b[1;31m---------------------------------------------------------------------------\u001b[0m",
      "\u001b[1;31mTypeError\u001b[0m                                 Traceback (most recent call last)",
      "Input \u001b[1;32mIn [101]\u001b[0m, in \u001b[0;36m<cell line: 1>\u001b[1;34m()\u001b[0m\n\u001b[1;32m----> 1\u001b[0m \u001b[43ml6\u001b[49m\u001b[38;5;241;43m.\u001b[39;49m\u001b[43mextend\u001b[49m\u001b[43m(\u001b[49m\u001b[38;5;241;43m2\u001b[39;49m\u001b[43m)\u001b[49m\n",
      "\u001b[1;31mTypeError\u001b[0m: 'int' object is not iterable"
     ]
    }
   ],
   "source": [
    "l6.extend(2)"
   ]
  },
  {
   "cell_type": "code",
   "execution_count": 102,
   "id": "cb01d865",
   "metadata": {},
   "outputs": [],
   "source": [
    "l6.extend([2,4,2,5,5,7])"
   ]
  },
  {
   "cell_type": "code",
   "execution_count": 103,
   "id": "57371f7e",
   "metadata": {},
   "outputs": [
    {
     "data": {
      "text/plain": [
       "[1, 2, 3, [2, 3, 4], 'andy', 2, 4, 2, 5, 5, 7]"
      ]
     },
     "execution_count": 103,
     "metadata": {},
     "output_type": "execute_result"
    }
   ],
   "source": [
    "l6"
   ]
  },
  {
   "cell_type": "code",
   "execution_count": 104,
   "id": "d99b21ab",
   "metadata": {},
   "outputs": [],
   "source": [
    "l6.extend(\"abc\")"
   ]
  },
  {
   "cell_type": "code",
   "execution_count": 105,
   "id": "f9d2e7f3",
   "metadata": {},
   "outputs": [
    {
     "data": {
      "text/plain": [
       "[1, 2, 3, [2, 3, 4], 'andy', 2, 4, 2, 5, 5, 7, 'a', 'b', 'c']"
      ]
     },
     "execution_count": 105,
     "metadata": {},
     "output_type": "execute_result"
    }
   ],
   "source": [
    "l6"
   ]
  },
  {
   "cell_type": "markdown",
   "id": "65293448",
   "metadata": {},
   "source": [
    "**append adds even a single element or a list as entered by the user whereas extend does not intakes one single numeral insted when enterd list or string it one by one inputs each character of list or string into the list"
   ]
  },
  {
   "cell_type": "code",
   "execution_count": 106,
   "id": "d07c3b02",
   "metadata": {},
   "outputs": [
    {
     "data": {
      "text/plain": [
       "0"
      ]
     },
     "execution_count": 106,
     "metadata": {},
     "output_type": "execute_result"
    }
   ],
   "source": [
    "l6.index(1)"
   ]
  },
  {
   "cell_type": "code",
   "execution_count": 107,
   "id": "37ee884b",
   "metadata": {},
   "outputs": [
    {
     "data": {
      "text/plain": [
       "1"
      ]
     },
     "execution_count": 107,
     "metadata": {},
     "output_type": "execute_result"
    }
   ],
   "source": [
    "l6.index(2)"
   ]
  },
  {
   "cell_type": "code",
   "execution_count": 108,
   "id": "c604e5bc",
   "metadata": {},
   "outputs": [
    {
     "data": {
      "text/plain": [
       "4"
      ]
     },
     "execution_count": 108,
     "metadata": {},
     "output_type": "execute_result"
    }
   ],
   "source": [
    "l6.index(\"andy\")"
   ]
  },
  {
   "cell_type": "code",
   "execution_count": 138,
   "id": "26a76c20",
   "metadata": {},
   "outputs": [],
   "source": [
    "l = [1,2,3,4]"
   ]
  },
  {
   "cell_type": "markdown",
   "id": "cc0a3923",
   "metadata": {},
   "source": [
    "**INSERT func is used to insert into liost at a particular index not at last like append"
   ]
  },
  {
   "cell_type": "code",
   "execution_count": 139,
   "id": "5ccf3db6",
   "metadata": {},
   "outputs": [],
   "source": [
    "l.insert(2,\"andy\")"
   ]
  },
  {
   "cell_type": "code",
   "execution_count": 140,
   "id": "ffc4248c",
   "metadata": {},
   "outputs": [
    {
     "data": {
      "text/plain": [
       "[1, 2, 'andy', 3, 4]"
      ]
     },
     "execution_count": 140,
     "metadata": {},
     "output_type": "execute_result"
    }
   ],
   "source": [
    "l"
   ]
  },
  {
   "cell_type": "code",
   "execution_count": 141,
   "id": "4b6704cf",
   "metadata": {},
   "outputs": [],
   "source": [
    "l.insert(0,23)"
   ]
  },
  {
   "cell_type": "code",
   "execution_count": 142,
   "id": "a5498527",
   "metadata": {},
   "outputs": [
    {
     "data": {
      "text/plain": [
       "[23, 1, 2, 'andy', 3, 4]"
      ]
     },
     "execution_count": 142,
     "metadata": {},
     "output_type": "execute_result"
    }
   ],
   "source": [
    "l"
   ]
  },
  {
   "cell_type": "code",
   "execution_count": 143,
   "id": "eaf8379d",
   "metadata": {},
   "outputs": [],
   "source": [
    "l.insert(4,[1,2])"
   ]
  },
  {
   "cell_type": "code",
   "execution_count": 144,
   "id": "f900ac0f",
   "metadata": {},
   "outputs": [
    {
     "data": {
      "text/plain": [
       "[23, 1, 2, 'andy', [1, 2], 3, 4]"
      ]
     },
     "execution_count": 144,
     "metadata": {},
     "output_type": "execute_result"
    }
   ],
   "source": [
    "l"
   ]
  },
  {
   "cell_type": "code",
   "execution_count": 145,
   "id": "6b675268",
   "metadata": {},
   "outputs": [
    {
     "data": {
      "text/plain": [
       "[1, 2]"
      ]
     },
     "execution_count": 145,
     "metadata": {},
     "output_type": "execute_result"
    }
   ],
   "source": [
    "l.pop(4)"
   ]
  },
  {
   "cell_type": "code",
   "execution_count": 146,
   "id": "a64daab9",
   "metadata": {},
   "outputs": [
    {
     "data": {
      "text/plain": [
       "[23, 1, 2, 'andy', 3, 4]"
      ]
     },
     "execution_count": 146,
     "metadata": {},
     "output_type": "execute_result"
    }
   ],
   "source": [
    "l"
   ]
  },
  {
   "cell_type": "code",
   "execution_count": 147,
   "id": "d968928d",
   "metadata": {},
   "outputs": [
    {
     "ename": "ValueError",
     "evalue": "list.remove(x): x not in list",
     "output_type": "error",
     "traceback": [
      "\u001b[1;31m---------------------------------------------------------------------------\u001b[0m",
      "\u001b[1;31mValueError\u001b[0m                                Traceback (most recent call last)",
      "Input \u001b[1;32mIn [147]\u001b[0m, in \u001b[0;36m<cell line: 1>\u001b[1;34m()\u001b[0m\n\u001b[1;32m----> 1\u001b[0m \u001b[43ml\u001b[49m\u001b[38;5;241;43m.\u001b[39;49m\u001b[43mremove\u001b[49m\u001b[43m(\u001b[49m\u001b[38;5;241;43m100\u001b[39;49m\u001b[43m)\u001b[49m\n",
      "\u001b[1;31mValueError\u001b[0m: list.remove(x): x not in list"
     ]
    }
   ],
   "source": [
    "l.remove(100)"
   ]
  },
  {
   "cell_type": "code",
   "execution_count": 148,
   "id": "822a31bf",
   "metadata": {},
   "outputs": [],
   "source": [
    "l.remove(3)"
   ]
  },
  {
   "cell_type": "code",
   "execution_count": 149,
   "id": "e8eebc12",
   "metadata": {},
   "outputs": [
    {
     "data": {
      "text/plain": [
       "[23, 1, 2, 'andy', 4]"
      ]
     },
     "execution_count": 149,
     "metadata": {},
     "output_type": "execute_result"
    }
   ],
   "source": [
    "l"
   ]
  },
  {
   "cell_type": "code",
   "execution_count": 150,
   "id": "0c8199be",
   "metadata": {},
   "outputs": [],
   "source": [
    "l.remove(\"andy\")"
   ]
  },
  {
   "cell_type": "code",
   "execution_count": 151,
   "id": "9f237a7a",
   "metadata": {},
   "outputs": [
    {
     "data": {
      "text/plain": [
       "[23, 1, 2, 4]"
      ]
     },
     "execution_count": 151,
     "metadata": {},
     "output_type": "execute_result"
    }
   ],
   "source": [
    "l"
   ]
  },
  {
   "cell_type": "markdown",
   "id": "7e591066",
   "metadata": {},
   "source": [
    "**pop is used when you know the index of the element to remove and remove is used when you don't know the index but know what to remove"
   ]
  },
  {
   "cell_type": "code",
   "execution_count": 152,
   "id": "31a7fdad",
   "metadata": {},
   "outputs": [
    {
     "data": {
      "text/plain": [
       "2"
      ]
     },
     "execution_count": 152,
     "metadata": {},
     "output_type": "execute_result"
    }
   ],
   "source": [
    "l[2]"
   ]
  },
  {
   "cell_type": "markdown",
   "id": "5e98c4e1",
   "metadata": {},
   "source": [
    "**ITEM reassignment"
   ]
  },
  {
   "cell_type": "code",
   "execution_count": 153,
   "id": "08c0aed3",
   "metadata": {},
   "outputs": [],
   "source": [
    "l[2] = \"andy\""
   ]
  },
  {
   "cell_type": "code",
   "execution_count": 154,
   "id": "3d7cc66a",
   "metadata": {},
   "outputs": [
    {
     "data": {
      "text/plain": [
       "[23, 1, 'andy', 4]"
      ]
     },
     "execution_count": 154,
     "metadata": {},
     "output_type": "execute_result"
    }
   ],
   "source": [
    "l"
   ]
  },
  {
   "cell_type": "code",
   "execution_count": 155,
   "id": "f0f59f3d",
   "metadata": {},
   "outputs": [],
   "source": [
    "a = \"ankit\""
   ]
  },
  {
   "cell_type": "code",
   "execution_count": 156,
   "id": "6c1961ab",
   "metadata": {},
   "outputs": [
    {
     "data": {
      "text/plain": [
       "'k'"
      ]
     },
     "execution_count": 156,
     "metadata": {},
     "output_type": "execute_result"
    }
   ],
   "source": [
    "a[2]"
   ]
  },
  {
   "cell_type": "code",
   "execution_count": 157,
   "id": "2bae877a",
   "metadata": {
    "scrolled": true
   },
   "outputs": [
    {
     "ename": "TypeError",
     "evalue": "'str' object does not support item assignment",
     "output_type": "error",
     "traceback": [
      "\u001b[1;31m---------------------------------------------------------------------------\u001b[0m",
      "\u001b[1;31mTypeError\u001b[0m                                 Traceback (most recent call last)",
      "Input \u001b[1;32mIn [157]\u001b[0m, in \u001b[0;36m<cell line: 1>\u001b[1;34m()\u001b[0m\n\u001b[1;32m----> 1\u001b[0m a[\u001b[38;5;241m2\u001b[39m] \u001b[38;5;241m=\u001b[39m \u001b[38;5;124m\"\u001b[39m\u001b[38;5;124ma\u001b[39m\u001b[38;5;124m\"\u001b[39m\n",
      "\u001b[1;31mTypeError\u001b[0m: 'str' object does not support item assignment"
     ]
    }
   ],
   "source": [
    "a[2] = \"a\""
   ]
  },
  {
   "cell_type": "markdown",
   "id": "c022b56b",
   "metadata": {},
   "source": [
    "**The reason we were able to reassign the item in a list but we were unable to reassign a character in string is because STRINS ARE IMMUTABLE SO BECAUSE OF IMMUTABILITY YOU CANNOT REASSIGN OR ASSIGNMENT THE STRING . lists are mutable object . "
   ]
  },
  {
   "cell_type": "markdown",
   "id": "2496cf0b",
   "metadata": {},
   "source": [
    "*****///TUPLES:"
   ]
  },
  {
   "cell_type": "code",
   "execution_count": 158,
   "id": "688f25dd",
   "metadata": {},
   "outputs": [],
   "source": [
    "t = (1,2,3,4,\"ankit\",True ,2+3j)"
   ]
  },
  {
   "cell_type": "code",
   "execution_count": 159,
   "id": "dbd93696",
   "metadata": {},
   "outputs": [
    {
     "data": {
      "text/plain": [
       "tuple"
      ]
     },
     "execution_count": 159,
     "metadata": {},
     "output_type": "execute_result"
    }
   ],
   "source": [
    "type(t)"
   ]
  },
  {
   "cell_type": "code",
   "execution_count": 160,
   "id": "198d03a9",
   "metadata": {},
   "outputs": [
    {
     "data": {
      "text/plain": [
       "1"
      ]
     },
     "execution_count": 160,
     "metadata": {},
     "output_type": "execute_result"
    }
   ],
   "source": [
    "t[0]"
   ]
  },
  {
   "cell_type": "code",
   "execution_count": 161,
   "id": "6247eaa4",
   "metadata": {},
   "outputs": [
    {
     "data": {
      "text/plain": [
       "4"
      ]
     },
     "execution_count": 161,
     "metadata": {},
     "output_type": "execute_result"
    }
   ],
   "source": [
    "t[3]"
   ]
  },
  {
   "cell_type": "code",
   "execution_count": 162,
   "id": "2ff418b4",
   "metadata": {},
   "outputs": [
    {
     "data": {
      "text/plain": [
       "(1, 2, 3, 4)"
      ]
     },
     "execution_count": 162,
     "metadata": {},
     "output_type": "execute_result"
    }
   ],
   "source": [
    "t[0:4]"
   ]
  },
  {
   "cell_type": "code",
   "execution_count": 163,
   "id": "d6a93294",
   "metadata": {},
   "outputs": [
    {
     "data": {
      "text/plain": [
       "((2+3j), True, 'ankit', 4, 3, 2, 1)"
      ]
     },
     "execution_count": 163,
     "metadata": {},
     "output_type": "execute_result"
    }
   ],
   "source": [
    "t[::-1]"
   ]
  },
  {
   "cell_type": "code",
   "execution_count": 164,
   "id": "569a1ac8",
   "metadata": {},
   "outputs": [
    {
     "data": {
      "text/plain": [
       "(1, 2, 3, 4, 'ankit', True, (2+3j))"
      ]
     },
     "execution_count": 164,
     "metadata": {},
     "output_type": "execute_result"
    }
   ],
   "source": [
    "t"
   ]
  },
  {
   "cell_type": "code",
   "execution_count": 165,
   "id": "47e2987a",
   "metadata": {},
   "outputs": [
    {
     "data": {
      "text/plain": [
       "(3, 4, 'ankit', True, (2+3j))"
      ]
     },
     "execution_count": 165,
     "metadata": {},
     "output_type": "execute_result"
    }
   ],
   "source": [
    "t[2:]"
   ]
  },
  {
   "cell_type": "code",
   "execution_count": 166,
   "id": "418f3890",
   "metadata": {},
   "outputs": [
    {
     "data": {
      "text/plain": [
       "(1, 2, 3)"
      ]
     },
     "execution_count": 166,
     "metadata": {},
     "output_type": "execute_result"
    }
   ],
   "source": [
    "t[:3]"
   ]
  },
  {
   "cell_type": "code",
   "execution_count": 167,
   "id": "6f927541",
   "metadata": {},
   "outputs": [
    {
     "data": {
      "text/plain": [
       "()"
      ]
     },
     "execution_count": 167,
     "metadata": {},
     "output_type": "execute_result"
    }
   ],
   "source": [
    "t[0:2:-1]"
   ]
  },
  {
   "cell_type": "code",
   "execution_count": 168,
   "id": "e377df4f",
   "metadata": {},
   "outputs": [],
   "source": [
    "l =[1,2,4,3]"
   ]
  },
  {
   "cell_type": "code",
   "execution_count": 169,
   "id": "c5bc9b5b",
   "metadata": {},
   "outputs": [],
   "source": [
    "l[2] = \"andy\""
   ]
  },
  {
   "cell_type": "code",
   "execution_count": 170,
   "id": "9dd7d090",
   "metadata": {},
   "outputs": [
    {
     "data": {
      "text/plain": [
       "[1, 2, 'andy', 3]"
      ]
     },
     "execution_count": 170,
     "metadata": {},
     "output_type": "execute_result"
    }
   ],
   "source": [
    "l"
   ]
  },
  {
   "cell_type": "code",
   "execution_count": 171,
   "id": "e06aabb8",
   "metadata": {},
   "outputs": [
    {
     "data": {
      "text/plain": [
       "3"
      ]
     },
     "execution_count": 171,
     "metadata": {},
     "output_type": "execute_result"
    }
   ],
   "source": [
    "t[2]"
   ]
  },
  {
   "cell_type": "code",
   "execution_count": 172,
   "id": "32878364",
   "metadata": {
    "scrolled": true
   },
   "outputs": [
    {
     "ename": "TypeError",
     "evalue": "'tuple' object does not support item assignment",
     "output_type": "error",
     "traceback": [
      "\u001b[1;31m---------------------------------------------------------------------------\u001b[0m",
      "\u001b[1;31mTypeError\u001b[0m                                 Traceback (most recent call last)",
      "Input \u001b[1;32mIn [172]\u001b[0m, in \u001b[0;36m<cell line: 1>\u001b[1;34m()\u001b[0m\n\u001b[1;32m----> 1\u001b[0m t[\u001b[38;5;241m2\u001b[39m] \u001b[38;5;241m=\u001b[39m \u001b[38;5;124m\"\u001b[39m\u001b[38;5;124mabc\u001b[39m\u001b[38;5;124m\"\u001b[39m\n",
      "\u001b[1;31mTypeError\u001b[0m: 'tuple' object does not support item assignment"
     ]
    }
   ],
   "source": [
    "t[2] = \"abc\""
   ]
  },
  {
   "cell_type": "markdown",
   "id": "dd951a33",
   "metadata": {},
   "source": [
    "**tuples are IMMUTABLE while LIST is not"
   ]
  },
  {
   "cell_type": "code",
   "execution_count": 173,
   "id": "4c6d963e",
   "metadata": {},
   "outputs": [],
   "source": [
    "t1 = (2,35,5)"
   ]
  },
  {
   "cell_type": "code",
   "execution_count": 174,
   "id": "47d44d20",
   "metadata": {},
   "outputs": [
    {
     "data": {
      "text/plain": [
       "(1, 2, 3, 4, 'ankit', True, (2+3j), 2, 35, 5)"
      ]
     },
     "execution_count": 174,
     "metadata": {},
     "output_type": "execute_result"
    }
   ],
   "source": [
    "t+t1"
   ]
  },
  {
   "cell_type": "code",
   "execution_count": 175,
   "id": "7f522ac9",
   "metadata": {},
   "outputs": [
    {
     "data": {
      "text/plain": [
       "1"
      ]
     },
     "execution_count": 175,
     "metadata": {},
     "output_type": "execute_result"
    }
   ],
   "source": [
    "t.count(2)"
   ]
  },
  {
   "cell_type": "code",
   "execution_count": 176,
   "id": "d3fa1e6a",
   "metadata": {},
   "outputs": [
    {
     "data": {
      "text/plain": [
       "4"
      ]
     },
     "execution_count": 176,
     "metadata": {},
     "output_type": "execute_result"
    }
   ],
   "source": [
    "t.index(\"ankit\")"
   ]
  },
  {
   "cell_type": "markdown",
   "id": "a9c0b192",
   "metadata": {},
   "source": [
    "**conversion of tuple to list and vice versa:"
   ]
  },
  {
   "cell_type": "code",
   "execution_count": 180,
   "id": "7b58d43a",
   "metadata": {},
   "outputs": [
    {
     "data": {
      "text/plain": [
       "[1, 2, 3, 4, 'ankit', True, (2+3j)]"
      ]
     },
     "execution_count": 180,
     "metadata": {},
     "output_type": "execute_result"
    }
   ],
   "source": [
    "list(t)"
   ]
  },
  {
   "cell_type": "code",
   "execution_count": 181,
   "id": "36e7c09b",
   "metadata": {},
   "outputs": [
    {
     "data": {
      "text/plain": [
       "[1, 2, 'andy', 3]"
      ]
     },
     "execution_count": 181,
     "metadata": {},
     "output_type": "execute_result"
    }
   ],
   "source": [
    "l"
   ]
  },
  {
   "cell_type": "code",
   "execution_count": 182,
   "id": "21ff9150",
   "metadata": {},
   "outputs": [
    {
     "data": {
      "text/plain": [
       "(1, 2, 'andy', 3)"
      ]
     },
     "execution_count": 182,
     "metadata": {},
     "output_type": "execute_result"
    }
   ],
   "source": [
    "tuple(l)"
   ]
  },
  {
   "cell_type": "code",
   "execution_count": 183,
   "id": "b768bf65",
   "metadata": {},
   "outputs": [
    {
     "data": {
      "text/plain": [
       "\"[1, 2, 'andy', 3]\""
      ]
     },
     "execution_count": 183,
     "metadata": {},
     "output_type": "execute_result"
    }
   ],
   "source": [
    "str(l)"
   ]
  },
  {
   "cell_type": "code",
   "execution_count": 184,
   "id": "3ea22447",
   "metadata": {},
   "outputs": [
    {
     "data": {
      "text/plain": [
       "\"(1, 2, 3, 4, 'ankit', True, (2+3j))\""
      ]
     },
     "execution_count": 184,
     "metadata": {},
     "output_type": "execute_result"
    }
   ],
   "source": [
    "str(t)"
   ]
  },
  {
   "cell_type": "markdown",
   "id": "c9df630b",
   "metadata": {},
   "source": [
    "**DICTIONARY:  key value pair"
   ]
  },
  {
   "cell_type": "code",
   "execution_count": 186,
   "id": "66f36d55",
   "metadata": {},
   "outputs": [],
   "source": [
    "d = {}"
   ]
  },
  {
   "cell_type": "code",
   "execution_count": 187,
   "id": "cdaaee26",
   "metadata": {},
   "outputs": [
    {
     "data": {
      "text/plain": [
       "dict"
      ]
     },
     "execution_count": 187,
     "metadata": {},
     "output_type": "execute_result"
    }
   ],
   "source": [
    "type(d)"
   ]
  },
  {
   "cell_type": "code",
   "execution_count": 188,
   "id": "2d8b9aa4",
   "metadata": {},
   "outputs": [],
   "source": [
    "d = {1}"
   ]
  },
  {
   "cell_type": "code",
   "execution_count": 189,
   "id": "564c7116",
   "metadata": {},
   "outputs": [
    {
     "data": {
      "text/plain": [
       "set"
      ]
     },
     "execution_count": 189,
     "metadata": {},
     "output_type": "execute_result"
    }
   ],
   "source": [
    "type(d)"
   ]
  },
  {
   "cell_type": "code",
   "execution_count": 190,
   "id": "2386f90f",
   "metadata": {},
   "outputs": [],
   "source": [
    "d = {\"key1\" : \"value1\" , 3423 : \"sfd\" , \"name\" : 234324 }"
   ]
  },
  {
   "cell_type": "code",
   "execution_count": 191,
   "id": "a0c2a9bc",
   "metadata": {},
   "outputs": [
    {
     "data": {
      "text/plain": [
       "dict"
      ]
     },
     "execution_count": 191,
     "metadata": {},
     "output_type": "execute_result"
    }
   ],
   "source": [
    "type(d)"
   ]
  },
  {
   "cell_type": "code",
   "execution_count": 192,
   "id": "3d43a486",
   "metadata": {},
   "outputs": [
    {
     "data": {
      "text/plain": [
       "'value1'"
      ]
     },
     "execution_count": 192,
     "metadata": {},
     "output_type": "execute_result"
    }
   ],
   "source": [
    "d[\"key1\"]"
   ]
  },
  {
   "cell_type": "code",
   "execution_count": 193,
   "id": "0fe56bab",
   "metadata": {},
   "outputs": [
    {
     "data": {
      "text/plain": [
       "'sfd'"
      ]
     },
     "execution_count": 193,
     "metadata": {},
     "output_type": "execute_result"
    }
   ],
   "source": [
    "d[3423]"
   ]
  },
  {
   "cell_type": "code",
   "execution_count": 194,
   "id": "53bc6236",
   "metadata": {},
   "outputs": [],
   "source": [
    "d1 = {\"name\" : \"andy\" , 12 : [1,4,\"ankit\" , \"python\" , \"object\", \"deep learning\" , \"nlp\"] }"
   ]
  },
  {
   "cell_type": "code",
   "execution_count": 195,
   "id": "0469856a",
   "metadata": {},
   "outputs": [
    {
     "data": {
      "text/plain": [
       "[1, 4, 'ankit', 'python', 'object', 'deep learning', 'nlp']"
      ]
     },
     "execution_count": 195,
     "metadata": {},
     "output_type": "execute_result"
    }
   ],
   "source": [
    "d1[12]"
   ]
  },
  {
   "cell_type": "code",
   "execution_count": 197,
   "id": "39f48d69",
   "metadata": {},
   "outputs": [
    {
     "data": {
      "text/plain": [
       "True"
      ]
     },
     "execution_count": 197,
     "metadata": {},
     "output_type": "execute_result"
    }
   ],
   "source": [
    "\"python\" in d1[12]"
   ]
  },
  {
   "cell_type": "code",
   "execution_count": 199,
   "id": "25bea041",
   "metadata": {},
   "outputs": [
    {
     "data": {
      "text/plain": [
       "False"
      ]
     },
     "execution_count": 199,
     "metadata": {},
     "output_type": "execute_result"
    }
   ],
   "source": [
    "\"python\" in d1[\"name\"]"
   ]
  },
  {
   "cell_type": "code",
   "execution_count": 202,
   "id": "3fa100f4",
   "metadata": {},
   "outputs": [],
   "source": [
    "d = { \"name\" : \"ankit\" , \"class\" : 6 , \"name\" : \"asv\"}"
   ]
  },
  {
   "cell_type": "code",
   "execution_count": 203,
   "id": "f7332742",
   "metadata": {},
   "outputs": [
    {
     "data": {
      "text/plain": [
       "'asv'"
      ]
     },
     "execution_count": 203,
     "metadata": {},
     "output_type": "execute_result"
    }
   ],
   "source": [
    "d[\"name\"]"
   ]
  },
  {
   "cell_type": "markdown",
   "id": "7b968563",
   "metadata": {},
   "source": [
    "**if we use same key twice then it's gonna show me later one\n",
    "\n",
    "\n",
    "**to insert into dict:"
   ]
  },
  {
   "cell_type": "code",
   "execution_count": 205,
   "id": "33c2d428",
   "metadata": {},
   "outputs": [],
   "source": [
    "d[\"k1\"] = \"xyz\" "
   ]
  },
  {
   "cell_type": "code",
   "execution_count": 206,
   "id": "4de3cc7b",
   "metadata": {},
   "outputs": [
    {
     "data": {
      "text/plain": [
       "{'name': 'asv', 'class': 6, 'k1': 'xyz'}"
      ]
     },
     "execution_count": 206,
     "metadata": {},
     "output_type": "execute_result"
    }
   ],
   "source": [
    "d"
   ]
  },
  {
   "cell_type": "code",
   "execution_count": 208,
   "id": "eded6ff7",
   "metadata": {},
   "outputs": [],
   "source": [
    "d1 = { \"k11\" : 12 , 23 : \"anc\"}"
   ]
  },
  {
   "cell_type": "code",
   "execution_count": 209,
   "id": "0013644f",
   "metadata": {},
   "outputs": [],
   "source": [
    "d1[\"dict\"] = d"
   ]
  },
  {
   "cell_type": "code",
   "execution_count": 210,
   "id": "b14a4aec",
   "metadata": {},
   "outputs": [
    {
     "data": {
      "text/plain": [
       "{'k11': 12, 23: 'anc', 'dict': {'name': 'asv', 'class': 6, 'k1': 'xyz'}}"
      ]
     },
     "execution_count": 210,
     "metadata": {},
     "output_type": "execute_result"
    }
   ],
   "source": [
    "d1"
   ]
  },
  {
   "cell_type": "markdown",
   "id": "f3cf3a61",
   "metadata": {},
   "source": [
    "**to extract xyz from d1:"
   ]
  },
  {
   "cell_type": "code",
   "execution_count": 211,
   "id": "e30b109b",
   "metadata": {},
   "outputs": [
    {
     "data": {
      "text/plain": [
       "{'name': 'asv', 'class': 6, 'k1': 'xyz'}"
      ]
     },
     "execution_count": 211,
     "metadata": {},
     "output_type": "execute_result"
    }
   ],
   "source": [
    "d1[\"dict\"]"
   ]
  },
  {
   "cell_type": "code",
   "execution_count": 212,
   "id": "d9e2440f",
   "metadata": {},
   "outputs": [
    {
     "data": {
      "text/plain": [
       "'xyz'"
      ]
     },
     "execution_count": 212,
     "metadata": {},
     "output_type": "execute_result"
    }
   ],
   "source": [
    "d1[\"dict\"][\"k1\"]"
   ]
  },
  {
   "cell_type": "code",
   "execution_count": 228,
   "id": "a3069b25",
   "metadata": {},
   "outputs": [
    {
     "ename": "SyntaxError",
     "evalue": "invalid syntax (286189767.py, line 1)",
     "output_type": "error",
     "traceback": [
      "\u001b[1;36m  Input \u001b[1;32mIn [228]\u001b[1;36m\u001b[0m\n\u001b[1;33m    d2 = {@ : \"andy\"}\u001b[0m\n\u001b[1;37m          ^\u001b[0m\n\u001b[1;31mSyntaxError\u001b[0m\u001b[1;31m:\u001b[0m invalid syntax\n"
     ]
    }
   ],
   "source": [
    "d2 = {@ : \"andy\"}"
   ]
  },
  {
   "cell_type": "code",
   "execution_count": 230,
   "id": "243075d1",
   "metadata": {},
   "outputs": [],
   "source": [
    "d3 = { \"_\" :\"andy\"} "
   ]
  },
  {
   "cell_type": "code",
   "execution_count": 231,
   "id": "fe2cc0be",
   "metadata": {},
   "outputs": [
    {
     "data": {
      "text/plain": [
       "'andy'"
      ]
     },
     "execution_count": 231,
     "metadata": {},
     "output_type": "execute_result"
    }
   ],
   "source": [
    "d3[\"_\"]"
   ]
  },
  {
   "cell_type": "code",
   "execution_count": 232,
   "id": "d9b6b56b",
   "metadata": {},
   "outputs": [],
   "source": [
    "d4 = {_ : \"andy\"}"
   ]
  },
  {
   "cell_type": "code",
   "execution_count": 233,
   "id": "3e877910",
   "metadata": {},
   "outputs": [
    {
     "data": {
      "text/plain": [
       "'andy'"
      ]
     },
     "execution_count": 233,
     "metadata": {},
     "output_type": "execute_result"
    }
   ],
   "source": [
    "d4[_]"
   ]
  },
  {
   "cell_type": "code",
   "execution_count": 234,
   "id": "6c492ad6",
   "metadata": {},
   "outputs": [],
   "source": [
    "d5 = {(1,2) : \"abc\"}"
   ]
  },
  {
   "cell_type": "code",
   "execution_count": 235,
   "id": "97402d9a",
   "metadata": {},
   "outputs": [
    {
     "data": {
      "text/plain": [
       "{(1, 2): 'abc'}"
      ]
     },
     "execution_count": 235,
     "metadata": {},
     "output_type": "execute_result"
    }
   ],
   "source": [
    "d5"
   ]
  },
  {
   "cell_type": "code",
   "execution_count": 236,
   "id": "f270e4ad",
   "metadata": {},
   "outputs": [
    {
     "data": {
      "text/plain": [
       "'abc'"
      ]
     },
     "execution_count": 236,
     "metadata": {},
     "output_type": "execute_result"
    }
   ],
   "source": [
    "d5[(1,2)]"
   ]
  },
  {
   "cell_type": "code",
   "execution_count": 237,
   "id": "1298ec02",
   "metadata": {},
   "outputs": [
    {
     "ename": "TypeError",
     "evalue": "unhashable type: 'list'",
     "output_type": "error",
     "traceback": [
      "\u001b[1;31m---------------------------------------------------------------------------\u001b[0m",
      "\u001b[1;31mTypeError\u001b[0m                                 Traceback (most recent call last)",
      "Input \u001b[1;32mIn [237]\u001b[0m, in \u001b[0;36m<cell line: 1>\u001b[1;34m()\u001b[0m\n\u001b[1;32m----> 1\u001b[0m d6 \u001b[38;5;241m=\u001b[39m {[\u001b[38;5;241m1\u001b[39m,\u001b[38;5;241m2\u001b[39m]}\n",
      "\u001b[1;31mTypeError\u001b[0m: unhashable type: 'list'"
     ]
    }
   ],
   "source": [
    "d6 = {[1,2]}"
   ]
  },
  {
   "cell_type": "code",
   "execution_count": 238,
   "id": "28dad4a2",
   "metadata": {
    "scrolled": true
   },
   "outputs": [
    {
     "ename": "TypeError",
     "evalue": "unhashable type: 'dict'",
     "output_type": "error",
     "traceback": [
      "\u001b[1;31m---------------------------------------------------------------------------\u001b[0m",
      "\u001b[1;31mTypeError\u001b[0m                                 Traceback (most recent call last)",
      "Input \u001b[1;32mIn [238]\u001b[0m, in \u001b[0;36m<cell line: 1>\u001b[1;34m()\u001b[0m\n\u001b[1;32m----> 1\u001b[0m d7 \u001b[38;5;241m=\u001b[39m { {\u001b[38;5;241m3\u001b[39m:\u001b[38;5;241m4\u001b[39m} : \u001b[38;5;124m\"\u001b[39m\u001b[38;5;124mamdk\u001b[39m\u001b[38;5;124m\"\u001b[39m}\n",
      "\u001b[1;31mTypeError\u001b[0m: unhashable type: 'dict'"
     ]
    }
   ],
   "source": [
    "d7 = { {3:4} : \"amdk\"}"
   ]
  },
  {
   "cell_type": "code",
   "execution_count": 239,
   "id": "8a7c1913",
   "metadata": {},
   "outputs": [
    {
     "data": {
      "text/plain": [
       "{'name': 'asv', 'class': 6, 'k1': 'xyz'}"
      ]
     },
     "execution_count": 239,
     "metadata": {},
     "output_type": "execute_result"
    }
   ],
   "source": [
    "d"
   ]
  },
  {
   "cell_type": "code",
   "execution_count": 240,
   "id": "6def3905",
   "metadata": {},
   "outputs": [
    {
     "data": {
      "text/plain": [
       "{'k11': 12, 23: 'anc', 'dict': {'name': 'asv', 'class': 6, 'k1': 'xyz'}}"
      ]
     },
     "execution_count": 240,
     "metadata": {},
     "output_type": "execute_result"
    }
   ],
   "source": [
    "d1"
   ]
  },
  {
   "cell_type": "code",
   "execution_count": 241,
   "id": "66916424",
   "metadata": {},
   "outputs": [
    {
     "ename": "TypeError",
     "evalue": "unsupported operand type(s) for +: 'dict' and 'dict'",
     "output_type": "error",
     "traceback": [
      "\u001b[1;31m---------------------------------------------------------------------------\u001b[0m",
      "\u001b[1;31mTypeError\u001b[0m                                 Traceback (most recent call last)",
      "Input \u001b[1;32mIn [241]\u001b[0m, in \u001b[0;36m<cell line: 1>\u001b[1;34m()\u001b[0m\n\u001b[1;32m----> 1\u001b[0m \u001b[43md\u001b[49m\u001b[43m \u001b[49m\u001b[38;5;241;43m+\u001b[39;49m\u001b[43m \u001b[49m\u001b[43md1\u001b[49m\n",
      "\u001b[1;31mTypeError\u001b[0m: unsupported operand type(s) for +: 'dict' and 'dict'"
     ]
    }
   ],
   "source": [
    "d + d1"
   ]
  },
  {
   "cell_type": "code",
   "execution_count": 242,
   "id": "27ae421c",
   "metadata": {},
   "outputs": [
    {
     "data": {
      "text/plain": [
       "dict_keys(['name', 'class', 'k1'])"
      ]
     },
     "execution_count": 242,
     "metadata": {},
     "output_type": "execute_result"
    }
   ],
   "source": [
    "d.keys()"
   ]
  },
  {
   "cell_type": "code",
   "execution_count": 243,
   "id": "b6f62fc6",
   "metadata": {},
   "outputs": [
    {
     "data": {
      "text/plain": [
       "dict_values(['asv', 6, 'xyz'])"
      ]
     },
     "execution_count": 243,
     "metadata": {},
     "output_type": "execute_result"
    }
   ],
   "source": [
    "d.values()"
   ]
  },
  {
   "cell_type": "code",
   "execution_count": 245,
   "id": "0a056872",
   "metadata": {},
   "outputs": [
    {
     "data": {
      "text/plain": [
       "dict_items([('name', 'asv'), ('class', 6), ('k1', 'xyz')])"
      ]
     },
     "execution_count": 245,
     "metadata": {},
     "output_type": "execute_result"
    }
   ],
   "source": [
    "d.items()"
   ]
  },
  {
   "cell_type": "markdown",
   "id": "e05d5658",
   "metadata": {},
   "source": [
    "**SET :: "
   ]
  },
  {
   "cell_type": "code",
   "execution_count": 246,
   "id": "1975607e",
   "metadata": {},
   "outputs": [],
   "source": [
    "s = {2,3,4,5,\"ankit\"}"
   ]
  },
  {
   "cell_type": "code",
   "execution_count": 247,
   "id": "d4fe659c",
   "metadata": {},
   "outputs": [
    {
     "data": {
      "text/plain": [
       "set"
      ]
     },
     "execution_count": 247,
     "metadata": {},
     "output_type": "execute_result"
    }
   ],
   "source": [
    "type(s)"
   ]
  },
  {
   "cell_type": "code",
   "execution_count": 248,
   "id": "07793d05",
   "metadata": {},
   "outputs": [],
   "source": [
    "s = {1,1,1,1,1,2,4,4,32,4,6,34,2,2,4,5,56,3,2,2}"
   ]
  },
  {
   "cell_type": "code",
   "execution_count": 249,
   "id": "bd8cafa4",
   "metadata": {},
   "outputs": [
    {
     "data": {
      "text/plain": [
       "{1, 2, 3, 4, 5, 6, 32, 34, 56}"
      ]
     },
     "execution_count": 249,
     "metadata": {},
     "output_type": "execute_result"
    }
   ],
   "source": [
    "s"
   ]
  },
  {
   "cell_type": "markdown",
   "id": "15ea0213",
   "metadata": {},
   "source": [
    "**A set removes the repeated items and sorts if all numerals"
   ]
  },
  {
   "cell_type": "code",
   "execution_count": 250,
   "id": "029f10a8",
   "metadata": {},
   "outputs": [],
   "source": [
    "s1 = {232,134314,214314314,42214,4141,14,13,63,2}"
   ]
  },
  {
   "cell_type": "code",
   "execution_count": 251,
   "id": "cce86ba8",
   "metadata": {},
   "outputs": [
    {
     "data": {
      "text/plain": [
       "{2, 13, 14, 63, 232, 4141, 42214, 134314, 214314314}"
      ]
     },
     "execution_count": 251,
     "metadata": {},
     "output_type": "execute_result"
    }
   ],
   "source": [
    "s1"
   ]
  },
  {
   "cell_type": "code",
   "execution_count": 252,
   "id": "04560a41",
   "metadata": {},
   "outputs": [],
   "source": [
    "s2 = { \"ankit\" ,1 ,2,33,\"andy\"}"
   ]
  },
  {
   "cell_type": "code",
   "execution_count": 253,
   "id": "86728915",
   "metadata": {},
   "outputs": [
    {
     "data": {
      "text/plain": [
       "{1, 2, 33, 'andy', 'ankit'}"
      ]
     },
     "execution_count": 253,
     "metadata": {},
     "output_type": "execute_result"
    }
   ],
   "source": [
    "s2"
   ]
  },
  {
   "cell_type": "markdown",
   "id": "b934db72",
   "metadata": {},
   "source": [
    "**the actions that we performed in a string , list , dict ,tuple we can't do same with setss"
   ]
  },
  {
   "cell_type": "code",
   "execution_count": 254,
   "id": "43c99d4b",
   "metadata": {},
   "outputs": [
    {
     "ename": "TypeError",
     "evalue": "'set' object is not subscriptable",
     "output_type": "error",
     "traceback": [
      "\u001b[1;31m---------------------------------------------------------------------------\u001b[0m",
      "\u001b[1;31mTypeError\u001b[0m                                 Traceback (most recent call last)",
      "Input \u001b[1;32mIn [254]\u001b[0m, in \u001b[0;36m<cell line: 1>\u001b[1;34m()\u001b[0m\n\u001b[1;32m----> 1\u001b[0m \u001b[43ms\u001b[49m\u001b[43m[\u001b[49m\u001b[38;5;241;43m1\u001b[39;49m\u001b[43m]\u001b[49m\n",
      "\u001b[1;31mTypeError\u001b[0m: 'set' object is not subscriptable"
     ]
    }
   ],
   "source": [
    "s[1]"
   ]
  },
  {
   "cell_type": "code",
   "execution_count": 257,
   "id": "a2559acc",
   "metadata": {},
   "outputs": [
    {
     "data": {
      "text/plain": [
       "[32, 1, 2, 34, 4, 5, 6, 3, 56]"
      ]
     },
     "execution_count": 257,
     "metadata": {},
     "output_type": "execute_result"
    }
   ],
   "source": [
    "list(s)"
   ]
  },
  {
   "cell_type": "code",
   "execution_count": 260,
   "id": "e82efa72",
   "metadata": {},
   "outputs": [
    {
     "data": {
      "text/plain": [
       "(32, 1, 2, 34, 4, 5, 6, 3, 56)"
      ]
     },
     "execution_count": 260,
     "metadata": {},
     "output_type": "execute_result"
    }
   ],
   "source": [
    "tuple(s)"
   ]
  },
  {
   "cell_type": "code",
   "execution_count": 261,
   "id": "63a80b53",
   "metadata": {},
   "outputs": [
    {
     "data": {
      "text/plain": [
       "{1, 2, 3, 4, 5, 6, 32, 34, 56}"
      ]
     },
     "execution_count": 261,
     "metadata": {},
     "output_type": "execute_result"
    }
   ],
   "source": [
    "s"
   ]
  },
  {
   "cell_type": "code",
   "execution_count": 262,
   "id": "a6313404",
   "metadata": {},
   "outputs": [],
   "source": [
    " l = {1,3,3,1,4,2,5,2,6,3,7,3,8,4,74,3,63,} \n"
   ]
  },
  {
   "cell_type": "code",
   "execution_count": 265,
   "id": "f505c70b",
   "metadata": {},
   "outputs": [],
   "source": [
    "l= list(set(l))"
   ]
  },
  {
   "cell_type": "code",
   "execution_count": 266,
   "id": "e1f729bb",
   "metadata": {},
   "outputs": [
    {
     "data": {
      "text/plain": [
       "[1, 2, 3, 4, 5, 6, 7, 8, 74, 63]"
      ]
     },
     "execution_count": 266,
     "metadata": {},
     "output_type": "execute_result"
    }
   ],
   "source": [
    "l"
   ]
  },
  {
   "cell_type": "markdown",
   "id": "d03f501f",
   "metadata": {},
   "source": [
    "**to add elements: "
   ]
  },
  {
   "cell_type": "code",
   "execution_count": 267,
   "id": "ff8c5013",
   "metadata": {},
   "outputs": [
    {
     "data": {
      "text/plain": [
       "{1, 2, 3, 4, 5, 6, 32, 34, 56}"
      ]
     },
     "execution_count": 267,
     "metadata": {},
     "output_type": "execute_result"
    }
   ],
   "source": [
    "s"
   ]
  },
  {
   "cell_type": "code",
   "execution_count": 268,
   "id": "a9fd87a7",
   "metadata": {},
   "outputs": [],
   "source": [
    "s.add(24)"
   ]
  },
  {
   "cell_type": "code",
   "execution_count": 269,
   "id": "34c658e1",
   "metadata": {},
   "outputs": [
    {
     "data": {
      "text/plain": [
       "{1, 2, 3, 4, 5, 6, 24, 32, 34, 56}"
      ]
     },
     "execution_count": 269,
     "metadata": {},
     "output_type": "execute_result"
    }
   ],
   "source": [
    "s"
   ]
  },
  {
   "cell_type": "code",
   "execution_count": 270,
   "id": "3a571510",
   "metadata": {},
   "outputs": [
    {
     "ename": "TypeError",
     "evalue": "unhashable type: 'list'",
     "output_type": "error",
     "traceback": [
      "\u001b[1;31m---------------------------------------------------------------------------\u001b[0m",
      "\u001b[1;31mTypeError\u001b[0m                                 Traceback (most recent call last)",
      "Input \u001b[1;32mIn [270]\u001b[0m, in \u001b[0;36m<cell line: 1>\u001b[1;34m()\u001b[0m\n\u001b[1;32m----> 1\u001b[0m \u001b[43ms\u001b[49m\u001b[38;5;241;43m.\u001b[39;49m\u001b[43madd\u001b[49m\u001b[43m(\u001b[49m\u001b[43m[\u001b[49m\u001b[38;5;241;43m1\u001b[39;49m\u001b[43m,\u001b[49m\u001b[38;5;241;43m2\u001b[39;49m\u001b[43m,\u001b[49m\u001b[38;5;241;43m3\u001b[39;49m\u001b[43m]\u001b[49m\u001b[43m)\u001b[49m\n",
      "\u001b[1;31mTypeError\u001b[0m: unhashable type: 'list'"
     ]
    }
   ],
   "source": [
    "s.add([1,2,3])"
   ]
  },
  {
   "cell_type": "code",
   "execution_count": 271,
   "id": "6b5db3c3",
   "metadata": {},
   "outputs": [
    {
     "data": {
      "text/plain": [
       "{2, 13, 14, 63, 232, 4141, 42214, 134314, 214314314}"
      ]
     },
     "execution_count": 271,
     "metadata": {},
     "output_type": "execute_result"
    }
   ],
   "source": [
    "s1"
   ]
  },
  {
   "cell_type": "code",
   "execution_count": 272,
   "id": "b7a82166",
   "metadata": {},
   "outputs": [
    {
     "ename": "TypeError",
     "evalue": "unsupported operand type(s) for +: 'set' and 'set'",
     "output_type": "error",
     "traceback": [
      "\u001b[1;31m---------------------------------------------------------------------------\u001b[0m",
      "\u001b[1;31mTypeError\u001b[0m                                 Traceback (most recent call last)",
      "Input \u001b[1;32mIn [272]\u001b[0m, in \u001b[0;36m<cell line: 1>\u001b[1;34m()\u001b[0m\n\u001b[1;32m----> 1\u001b[0m \u001b[43ms\u001b[49m\u001b[43m \u001b[49m\u001b[38;5;241;43m+\u001b[39;49m\u001b[43m \u001b[49m\u001b[43ms1\u001b[49m\n",
      "\u001b[1;31mTypeError\u001b[0m: unsupported operand type(s) for +: 'set' and 'set'"
     ]
    }
   ],
   "source": [
    "s + s1"
   ]
  },
  {
   "cell_type": "code",
   "execution_count": 274,
   "id": "fd411182",
   "metadata": {},
   "outputs": [
    {
     "ename": "TypeError",
     "evalue": "unsupported operand type(s) for *: 'set' and 'set'",
     "output_type": "error",
     "traceback": [
      "\u001b[1;31m---------------------------------------------------------------------------\u001b[0m",
      "\u001b[1;31mTypeError\u001b[0m                                 Traceback (most recent call last)",
      "Input \u001b[1;32mIn [274]\u001b[0m, in \u001b[0;36m<cell line: 1>\u001b[1;34m()\u001b[0m\n\u001b[1;32m----> 1\u001b[0m \u001b[43ms\u001b[49m\u001b[38;5;241;43m*\u001b[39;49m\u001b[43ms1\u001b[49m\n",
      "\u001b[1;31mTypeError\u001b[0m: unsupported operand type(s) for *: 'set' and 'set'"
     ]
    }
   ],
   "source": [
    "s*s1"
   ]
  },
  {
   "cell_type": "code",
   "execution_count": 279,
   "id": "2821c281",
   "metadata": {},
   "outputs": [],
   "source": [
    "s3 = {(1,2,3),43,44,2,5,1,5}"
   ]
  },
  {
   "cell_type": "markdown",
   "id": "ffda04e7",
   "metadata": {},
   "source": [
    "** immutable items can be added to set but not immutable items so list cannnot be in a set whereas tuples can be "
   ]
  },
  {
   "cell_type": "code",
   "execution_count": 280,
   "id": "4a2f6d53",
   "metadata": {},
   "outputs": [],
   "source": [
    "s.remove(1)"
   ]
  },
  {
   "cell_type": "code",
   "execution_count": 281,
   "id": "ca167738",
   "metadata": {},
   "outputs": [
    {
     "data": {
      "text/plain": [
       "{2, 3, 4, 5, 6, 24, 32, 34, 56}"
      ]
     },
     "execution_count": 281,
     "metadata": {},
     "output_type": "execute_result"
    }
   ],
   "source": [
    "s"
   ]
  },
  {
   "cell_type": "code",
   "execution_count": 282,
   "id": "fb332f9c",
   "metadata": {},
   "outputs": [
    {
     "ename": "KeyError",
     "evalue": "21323",
     "output_type": "error",
     "traceback": [
      "\u001b[1;31m---------------------------------------------------------------------------\u001b[0m",
      "\u001b[1;31mKeyError\u001b[0m                                  Traceback (most recent call last)",
      "Input \u001b[1;32mIn [282]\u001b[0m, in \u001b[0;36m<cell line: 1>\u001b[1;34m()\u001b[0m\n\u001b[1;32m----> 1\u001b[0m \u001b[43ms\u001b[49m\u001b[38;5;241;43m.\u001b[39;49m\u001b[43mremove\u001b[49m\u001b[43m(\u001b[49m\u001b[38;5;241;43m21323\u001b[39;49m\u001b[43m)\u001b[49m\n",
      "\u001b[1;31mKeyError\u001b[0m: 21323"
     ]
    }
   ],
   "source": [
    "s.remove(21323)"
   ]
  },
  {
   "cell_type": "code",
   "execution_count": 283,
   "id": "359e5256",
   "metadata": {},
   "outputs": [],
   "source": [
    "s.discard(324234)"
   ]
  },
  {
   "cell_type": "code",
   "execution_count": 284,
   "id": "b61a4068",
   "metadata": {},
   "outputs": [
    {
     "data": {
      "text/plain": [
       "{2, 3, 4, 5, 6, 24, 32, 34, 56}"
      ]
     },
     "execution_count": 284,
     "metadata": {},
     "output_type": "execute_result"
    }
   ],
   "source": [
    "s"
   ]
  },
  {
   "cell_type": "code",
   "execution_count": 285,
   "id": "989833f3",
   "metadata": {},
   "outputs": [],
   "source": [
    "s.discard(2)"
   ]
  },
  {
   "cell_type": "code",
   "execution_count": 286,
   "id": "155d968e",
   "metadata": {},
   "outputs": [
    {
     "data": {
      "text/plain": [
       "{3, 4, 5, 6, 24, 32, 34, 56}"
      ]
     },
     "execution_count": 286,
     "metadata": {},
     "output_type": "execute_result"
    }
   ],
   "source": [
    "s"
   ]
  },
  {
   "cell_type": "markdown",
   "id": "b9a93025",
   "metadata": {},
   "source": [
    "**remove mei agar vo chiz nhi hai to error show karega par discard mei kuch nhi karega agr vo elt nhi hai to "
   ]
  },
  {
   "cell_type": "markdown",
   "id": "845d8714",
   "metadata": {},
   "source": [
    "*******PRACTICE*********"
   ]
  },
  {
   "cell_type": "code",
   "execution_count": 1,
   "id": "508a4fe1",
   "metadata": {},
   "outputs": [],
   "source": [
    "l = [3,4,5,6,7 , [23,456,67,8,78,78] , [345,56,87,8,98,9] , (234,6657,6) , {\"key1\" :\"sudh\" , 234:[23,45,656]}]"
   ]
  },
  {
   "cell_type": "code",
   "execution_count": 2,
   "id": "ac8924d5",
   "metadata": {},
   "outputs": [
    {
     "data": {
      "text/plain": [
       "[{'key1': 'sudh', 234: [23, 45, 656]},\n",
       " (234, 6657, 6),\n",
       " [345, 56, 87, 8, 98, 9],\n",
       " [23, 456, 67, 8, 78, 78],\n",
       " 7,\n",
       " 6,\n",
       " 5,\n",
       " 4,\n",
       " 3]"
      ]
     },
     "execution_count": 2,
     "metadata": {},
     "output_type": "execute_result"
    }
   ],
   "source": [
    "l[::-1]"
   ]
  },
  {
   "cell_type": "code",
   "execution_count": 3,
   "id": "0321b7bb",
   "metadata": {},
   "outputs": [
    {
     "data": {
      "text/plain": [
       "234"
      ]
     },
     "execution_count": 3,
     "metadata": {},
     "output_type": "execute_result"
    }
   ],
   "source": [
    "l[7][0]"
   ]
  },
  {
   "cell_type": "code",
   "execution_count": 4,
   "id": "2a2ef84a",
   "metadata": {},
   "outputs": [
    {
     "data": {
      "text/plain": [
       "456"
      ]
     },
     "execution_count": 4,
     "metadata": {},
     "output_type": "execute_result"
    }
   ],
   "source": [
    "l[5][1]"
   ]
  },
  {
   "cell_type": "code",
   "execution_count": 6,
   "id": "c0543ae5",
   "metadata": {},
   "outputs": [
    {
     "data": {
      "text/plain": [
       "[23, 456, 67, 8, 78, 78]"
      ]
     },
     "execution_count": 6,
     "metadata": {},
     "output_type": "execute_result"
    }
   ],
   "source": [
    "l[5] "
   ]
  },
  {
   "cell_type": "code",
   "execution_count": 7,
   "id": "73c0ba83",
   "metadata": {},
   "outputs": [
    {
     "data": {
      "text/plain": [
       "[345, 56, 87, 8, 98, 9]"
      ]
     },
     "execution_count": 7,
     "metadata": {},
     "output_type": "execute_result"
    }
   ],
   "source": [
    "l[6]"
   ]
  },
  {
   "cell_type": "code",
   "execution_count": 8,
   "id": "9de724bd",
   "metadata": {},
   "outputs": [
    {
     "data": {
      "text/plain": [
       "'sudh'"
      ]
     },
     "execution_count": 8,
     "metadata": {},
     "output_type": "execute_result"
    }
   ],
   "source": [
    "l[8][\"key1\"]"
   ]
  },
  {
   "cell_type": "code",
   "execution_count": 12,
   "id": "da729af8",
   "metadata": {},
   "outputs": [
    {
     "data": {
      "text/plain": [
       "dict_keys(['key1', 234])"
      ]
     },
     "execution_count": 12,
     "metadata": {},
     "output_type": "execute_result"
    }
   ],
   "source": [
    "l[8].keys()"
   ]
  },
  {
   "cell_type": "code",
   "execution_count": 13,
   "id": "4a7ae425",
   "metadata": {},
   "outputs": [
    {
     "data": {
      "text/plain": [
       "dict_values(['sudh', [23, 45, 656]])"
      ]
     },
     "execution_count": 13,
     "metadata": {},
     "output_type": "execute_result"
    }
   ],
   "source": [
    "l[8].values()"
   ]
  },
  {
   "cell_type": "code",
   "execution_count": 14,
   "id": "9e8cc33b",
   "metadata": {},
   "outputs": [],
   "source": [
    "l=[1,2,{\"an\":\"aliean\"}]"
   ]
  },
  {
   "cell_type": "code",
   "execution_count": 15,
   "id": "c67c34f1",
   "metadata": {},
   "outputs": [
    {
     "data": {
      "text/plain": [
       "'e'"
      ]
     },
     "execution_count": 15,
     "metadata": {},
     "output_type": "execute_result"
    }
   ],
   "source": [
    "l[2][\"an\"][3]"
   ]
  },
  {
   "cell_type": "code",
   "execution_count": null,
   "id": "c64e3023",
   "metadata": {},
   "outputs": [],
   "source": []
  }
 ],
 "metadata": {
  "kernelspec": {
   "display_name": "Python 3 (ipykernel)",
   "language": "python",
   "name": "python3"
  },
  "language_info": {
   "codemirror_mode": {
    "name": "ipython",
    "version": 3
   },
   "file_extension": ".py",
   "mimetype": "text/x-python",
   "name": "python",
   "nbconvert_exporter": "python",
   "pygments_lexer": "ipython3",
   "version": "3.9.12"
  }
 },
 "nbformat": 4,
 "nbformat_minor": 5
}
