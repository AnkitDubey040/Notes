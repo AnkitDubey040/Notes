{
 "cells": [
  {
   "cell_type": "code",
   "execution_count": 8,
   "id": "b9a852e1",
   "metadata": {},
   "outputs": [
    {
     "name": "stdout",
     "output_type": "stream",
     "text": [
      "5\n",
      "2 2 1 1 6\n",
      "2\n"
     ]
    }
   ],
   "source": [
    "# Python > Basic Data Types > Find the Runner-Up Score!\n",
    "\n",
    "if __name__ == '__main__':\n",
    "    n = int(input())\n",
    "    arr = map(int, input().split())\n",
    "    \n",
    "    unique_list = [ ]\n",
    "    \n",
    "    for item in list(arr):\n",
    "        if item not in unique_list:\n",
    "            unique_list.append(item)\n",
    "    unique_list.sort(reverse = True)\n",
    "    print(unique_list[1])"
   ]
  },
  {
   "cell_type": "code",
   "execution_count": 28,
   "id": "f8af4954",
   "metadata": {},
   "outputs": [
    {
     "name": "stdout",
     "output_type": "stream",
     "text": [
      "4\n",
      "hdbc\n",
      "24\n",
      "dnvbuj\n",
      "24\n",
      "jbnvdjv\n",
      "65\n",
      "ijnbvciuad\n",
      "65\n",
      "ijnbvciuad\n",
      "jbnvdjv\n"
     ]
    }
   ],
   "source": [
    "# Python > Basic Data Types > Nested Lists\n",
    "\n",
    "if __name__ == '__main__':\n",
    "    \n",
    "    l1 = [ ]\n",
    "    for _ in range(int(input())):\n",
    "        name = input()\n",
    "        score = float(input())\n",
    "        l1.append([name , score])\n",
    "    l1.sort(key = lambda x: x[1])\n",
    "    # print(l1)\n",
    "    \n",
    "    second_lowest = sorted(list(set([x[1] for x in l1])))[1]\n",
    "    # print(second_lowest)\n",
    "    \n",
    "    l2 = [ ]\n",
    "    for item in l1:\n",
    "        if item[1] == second_lowest:\n",
    "            l2.append(item[0])\n",
    "    \n",
    "    print(\"\\n\".join(sorted(l2)))\n",
    "    \n",
    "    \n",
    "    "
   ]
  },
  {
   "cell_type": "code",
   "execution_count": 51,
   "id": "c1637b25",
   "metadata": {},
   "outputs": [
    {
     "name": "stdout",
     "output_type": "stream",
     "text": [
      "3\n",
      "sdf 5 5 5 \n",
      "fwe 6 6 6 \n",
      "efw 7 7 7 \n",
      "fwe\n",
      "6.00\n"
     ]
    }
   ],
   "source": [
    "# Python > Basic Data Types > Finding the percentage\n",
    "\n",
    "\n",
    "if __name__ == '__main__':\n",
    "    n = int(input())\n",
    "    student_marks = {}\n",
    "    for _ in range(n):\n",
    "        name, *line = input().split()\n",
    "        scores = list(map(float, line))\n",
    "        student_marks[name] = scores\n",
    "    query_name = input()\n",
    "    \n",
    "    sum_var = 0\n",
    "    for item in student_marks.keys():\n",
    "        if item == query_name:\n",
    "            l = student_marks[query_name] \n",
    "            for i in l:\n",
    "                sum_var = sum_var + i\n",
    "    \n",
    "    ans = sum_var/3\n",
    "    print(\"%.2f\" % ans)"
   ]
  },
  {
   "cell_type": "code",
   "execution_count": 39,
   "id": "fe622c88",
   "metadata": {},
   "outputs": [
    {
     "name": "stdout",
     "output_type": "stream",
     "text": [
      "3\n",
      "5\n",
      "1 2 3 5 6\n",
      "9\n",
      "9 8 5 6 3 2 1 4 7\n",
      "True\n",
      "1\n",
      "2\n",
      "5\n",
      "3 6 5 4 1\n",
      "False\n",
      "7\n",
      "1 2 3 5 6 8 9\n",
      "3\n",
      "9 8 2\n",
      "False\n"
     ]
    }
   ],
   "source": [
    "# Python > Sets > Check Subset\n",
    "\n",
    "no_of_test_cases = int(input())\n",
    "\n",
    "for i in range(no_of_test_cases):\n",
    "    l1 = [ ]\n",
    "    l2 = [ ]\n",
    "    elts_in_a = int(input())\n",
    "    elts_of_a = input()\n",
    "    elts_in_b = int(input())\n",
    "    elts_of_b = input()\n",
    "    a = [elts_of_a.split(' ')]\n",
    "    b = [elts_of_b.split(' ')]\n",
    "    \n",
    "    for i in a :\n",
    "        for j in i :\n",
    "            l1.append(int(j))\n",
    "    for i in b:\n",
    "        for j in i:\n",
    "            l2.append(int(j))\n",
    "    \n",
    "    flag = 0\n",
    "    if(all(x in l2 for x in l1)):\n",
    "        flag = 1\n",
    " \n",
    "    # printing result\n",
    "    if (flag):\n",
    "        print(True)\n",
    "    else:\n",
    "        print(False)\n",
    "    \n",
    "    "
   ]
  },
  {
   "cell_type": "code",
   "execution_count": 6,
   "id": "41e33174",
   "metadata": {},
   "outputs": [
    {
     "name": "stdout",
     "output_type": "stream",
     "text": [
      "idbfuiaUYGBYadnv\n",
      "IDBFUIAuygbyADNV\n"
     ]
    }
   ],
   "source": [
    "s = input()\n",
    "s = str(s)\n",
    "a = s.swapcase()\n",
    "print(a)"
   ]
  },
  {
   "cell_type": "code",
   "execution_count": 13,
   "id": "92d0cf79",
   "metadata": {},
   "outputs": [],
   "source": [
    "def smaple(ank):\n",
    "    \n",
    "    \n",
    "    return 'Hello' , ank"
   ]
  },
  {
   "cell_type": "code",
   "execution_count": 14,
   "id": "e3673662",
   "metadata": {},
   "outputs": [
    {
     "data": {
      "text/plain": [
       "('Hello', 'dfgh')"
      ]
     },
     "execution_count": 14,
     "metadata": {},
     "output_type": "execute_result"
    }
   ],
   "source": [
    "smaple('dfgh')"
   ]
  },
  {
   "cell_type": "code",
   "execution_count": 16,
   "id": "59c4bbd4",
   "metadata": {},
   "outputs": [
    {
     "name": "stdout",
     "output_type": "stream",
     "text": [
      "['d', 'f', 'c', 'i', 'd', 'b', 'a', 'u', 'v', 'c', 'd']\n"
     ]
    }
   ],
   "source": [
    "s= \"dfcidbauvcd\"\n",
    "l =list(s)\n",
    "print(l)"
   ]
  },
  {
   "cell_type": "code",
   "execution_count": 19,
   "id": "a0daa278",
   "metadata": {},
   "outputs": [
    {
     "name": "stdout",
     "output_type": "stream",
     "text": [
      "ehwrhrjhsw5ej\n",
      "3 q\n",
      "ehwqhrjhsw5ej\n"
     ]
    }
   ],
   "source": [
    "def mutate_string(string, position, character):\n",
    "    l = list(string)\n",
    "    l[position] = character\n",
    "    string = ''.join(l)\n",
    "    return string\n",
    "\n",
    "if __name__ == '__main__':\n",
    "    s = input()\n",
    "    i, c = input().split()\n",
    "    s_new = mutate_string(s, int(i), c)\n",
    "    print(s_new)"
   ]
  },
  {
   "cell_type": "code",
   "execution_count": 9,
   "id": "8e45544e",
   "metadata": {},
   "outputs": [
    {
     "name": "stdout",
     "output_type": "stream",
     "text": [
      "1321\n",
      "True\n",
      "False\n",
      "True\n",
      "False\n",
      "False\n"
     ]
    }
   ],
   "source": [
    "if __name__ == '__main__':\n",
    "    s = input()\n",
    "    print(any(c.isalnum() for c in s))\n",
    "    print(any(c.isalpha() for c in s))\n",
    "    print(any(c.isdigit() for c in s))\n",
    "    print(any(c.islower() for c in s))\n",
    "    print(any(c.isupper() for c in s))"
   ]
  },
  {
   "cell_type": "code",
   "execution_count": 19,
   "id": "4cb39815",
   "metadata": {},
   "outputs": [
    {
     "name": "stdout",
     "output_type": "stream",
     "text": [
      "5\n",
      "    H    \n",
      "   HHH   \n",
      "  HHHHH  \n",
      " HHHHHHH \n",
      "HHHHHHHHH\n",
      "  HHHHH               HHHHH             \n",
      "  HHHHH               HHHHH             \n",
      "  HHHHH               HHHHH             \n",
      "  HHHHH               HHHHH             \n",
      "  HHHHH               HHHHH             \n",
      "  HHHHH               HHHHH             \n",
      "  HHHHHHHHHHHHHHHHHHHHHHHHH   \n",
      "  HHHHHHHHHHHHHHHHHHHHHHHHH   \n",
      "  HHHHHHHHHHHHHHHHHHHHHHHHH   \n",
      "  HHHHH               HHHHH             \n",
      "  HHHHH               HHHHH             \n",
      "  HHHHH               HHHHH             \n",
      "  HHHHH               HHHHH             \n",
      "  HHHHH               HHHHH             \n",
      "  HHHHH               HHHHH             \n",
      "                    HHHHHHHHH \n",
      "                     HHHHHHH  \n",
      "                      HHHHH   \n",
      "                       HHH    \n",
      "                        H     \n"
     ]
    }
   ],
   "source": [
    "thickness = int(input()) #This must be an odd number\n",
    "c = 'H'\n",
    "\n",
    "#Top Cone\n",
    "for i in range(thickness):\n",
    "    print((c*i).rjust(thickness-1)+c+(c*i).ljust(thickness-1))\n",
    "\n",
    "#Top Pillars\n",
    "for i in range(thickness+1):\n",
    "    print((c*thickness).center(thickness*2)+(c*thickness).center(thickness*6))\n",
    "\n",
    "#Middle Belt\n",
    "for i in range((thickness+1)//2):\n",
    "    print((c*thickness*5).center(thickness*6))    \n",
    "\n",
    "#Bottom Pillars\n",
    "for i in range(thickness+1):\n",
    "    print((c*thickness).center(thickness*2)+(c*thickness).center(thickness*6))    \n",
    "\n",
    "#Bottom Cone\n",
    "for i in range(thickness):\n",
    "    print(((c*(thickness-i-1)).rjust(thickness)+c+(c*(thickness-i-1)).ljust(thickness)).rjust(thickness*6))"
   ]
  },
  {
   "cell_type": "code",
   "execution_count": 39,
   "id": "1df0dd7d",
   "metadata": {},
   "outputs": [
    {
     "name": "stdout",
     "output_type": "stream",
     "text": [
      "egfwrshwhwethwhnjwethwtejnh\n",
      "2\n",
      "eg\n",
      "fw\n",
      "rs\n",
      "hw\n",
      "hw\n",
      "et\n",
      "hw\n",
      "hn\n",
      "jw\n",
      "et\n",
      "hw\n",
      "te\n",
      "jn\n",
      "h\n",
      "None\n"
     ]
    }
   ],
   "source": [
    "import textwrap\n",
    "\n",
    "def wrap(string, max_width):\n",
    "    a = textwrap.wrap(string,width = max_width)\n",
    "    for item in a:\n",
    "        print(item)\n",
    "\n",
    "if __name__ == '__main__':\n",
    "    string, max_width = input(), int(input())\n",
    "    result = wrap(string, max_width)\n",
    "    print(result)"
   ]
  },
  {
   "cell_type": "code",
   "execution_count": 35,
   "id": "af9726da",
   "metadata": {},
   "outputs": [
    {
     "name": "stdout",
     "output_type": "stream",
     "text": [
      "ABCDEFGHIJKLIMNOQRSTUVWXYZ\n",
      "4\n",
      "ABCD\n",
      "EFGH\n",
      "IJKL\n",
      "IMNO\n",
      "QRST\n",
      "UVWX\n",
      "YZ\n"
     ]
    }
   ],
   "source": [
    "# Text Wrap in Python - HackerRank Solution\n",
    "import textwrap\n",
    "\n",
    "def wrap(string, max_width):\n",
    "    # Text Wrap in Python - HackerRank Solution START\n",
    "    return textwrap.fill(string,max_width)\n",
    "    # Text Wrap in Python - HackerRank Solution END\n",
    "\n",
    "if __name__ == '__main__':\n",
    "    string, max_width = input(), int(input())\n",
    "    result = wrap(string, max_width)\n",
    "    print(result)"
   ]
  },
  {
   "cell_type": "code",
   "execution_count": 38,
   "id": "fe43f51d",
   "metadata": {},
   "outputs": [
    {
     "name": "stdout",
     "output_type": "stream",
     "text": [
      "9 21\n",
      "---------.|.---------\n",
      "------.|..|..|.------\n",
      "---.|..|..|..|..|.---\n",
      ".|..|..|..|..|..|..|.\n",
      "-------WELCOME-------\n",
      ".|..|..|..|..|..|..|.\n",
      "---.|..|..|..|..|.---\n",
      "------.|..|..|.------\n",
      "---------.|.---------\n"
     ]
    }
   ],
   "source": [
    "n,m = input().split()\n",
    "n = int(n)\n",
    "m = int(m)\n",
    "#printing first half\n",
    "for i in range(n//2):\n",
    "    t = int((2*i)+1)\n",
    "    print(('.|.'*t).center(m, '-'))\n",
    "#printing middle line\n",
    "print('WELCOME'.center(m,'-'))\n",
    "#printing last half\n",
    "for i in reversed(range(n//2)):\n",
    "    t = int((2*i)+1)\n",
    "    print(('.|.'*t).center(m, '-'))"
   ]
  },
  {
   "cell_type": "code",
   "execution_count": 40,
   "id": "180fe129",
   "metadata": {},
   "outputs": [
    {
     "name": "stdout",
     "output_type": "stream",
     "text": [
      "11\n",
      "   1    1    1    1 \n",
      "   2    2    2   10 \n",
      "   3    3    3   11 \n",
      "   4    4    4  100 \n",
      "   5    5    5  101 \n",
      "   6    6    6  110 \n",
      "   7    7    7  111 \n",
      "   8   10    8 1000 \n",
      "   9   11    9 1001 \n",
      "  10   12    A 1010 \n",
      "  11   13    B 1011 \n"
     ]
    }
   ],
   "source": [
    "def print_formatted(number):\n",
    "    l1 = len(bin(number)[2:])\n",
    "   \n",
    "    for i in range(1,number+1):\n",
    "        print(str(i).rjust(l1,' '),end=\" \")\n",
    "        print(oct(i)[2:].rjust(l1,' '),end=\" \")\n",
    "        print(((hex(i)[2:]).upper()).rjust(l1,' '),end=\" \")\n",
    "        print(bin(i)[2:].rjust(l1,' '),end=\" \")\n",
    "        print(\"\")\n",
    "if __name__ == '__main__':\n",
    "    n = int(input())\n",
    "    print_formatted(n)"
   ]
  },
  {
   "cell_type": "code",
   "execution_count": 41,
   "id": "e9e798a3",
   "metadata": {},
   "outputs": [
    {
     "name": "stdout",
     "output_type": "stream",
     "text": [
      "11\n",
      "--------------------k--------------------\n",
      "------------------k-j-k------------------\n",
      "----------------k-j-i-j-k----------------\n",
      "--------------k-j-i-h-i-j-k--------------\n",
      "------------k-j-i-h-g-h-i-j-k------------\n",
      "----------k-j-i-h-g-f-g-h-i-j-k----------\n",
      "--------k-j-i-h-g-f-e-f-g-h-i-j-k--------\n",
      "------k-j-i-h-g-f-e-d-e-f-g-h-i-j-k------\n",
      "----k-j-i-h-g-f-e-d-c-d-e-f-g-h-i-j-k----\n",
      "--k-j-i-h-g-f-e-d-c-b-c-d-e-f-g-h-i-j-k--\n",
      "k-j-i-h-g-f-e-d-c-b-a-b-c-d-e-f-g-h-i-j-k\n",
      "--k-j-i-h-g-f-e-d-c-b-c-d-e-f-g-h-i-j-k--\n",
      "----k-j-i-h-g-f-e-d-c-d-e-f-g-h-i-j-k----\n",
      "------k-j-i-h-g-f-e-d-e-f-g-h-i-j-k------\n",
      "--------k-j-i-h-g-f-e-f-g-h-i-j-k--------\n",
      "----------k-j-i-h-g-f-g-h-i-j-k----------\n",
      "------------k-j-i-h-g-h-i-j-k------------\n",
      "--------------k-j-i-h-i-j-k--------------\n",
      "----------------k-j-i-j-k----------------\n",
      "------------------k-j-k------------------\n",
      "--------------------k--------------------\n"
     ]
    }
   ],
   "source": [
    "def print_rangoli(size):\n",
    "    # your code goes here\n",
    "    import string\n",
    "    design = string.ascii_lowercase\n",
    "    L = []\n",
    "    for i in range(n):\n",
    "        s = \"-\".join(design[i:n])\n",
    "        L.append((s[::-1]+s[1:]).center(4*n-3, \"-\"))\n",
    "        \n",
    "    print('\\n'.join(L[:0:-1]+L))\n",
    "if __name__ == '__main__':\n",
    "    n = int(input())\n",
    "    print_rangoli(n)"
   ]
  },
  {
   "cell_type": "code",
   "execution_count": 50,
   "id": "73ec3386",
   "metadata": {},
   "outputs": [
    {
     "name": "stdout",
     "output_type": "stream",
     "text": [
      "1 w 2 r 3g\n",
      "1 W 2 R 3g\n"
     ]
    }
   ],
   "source": [
    "s = input()\n",
    "for i in s.split():\n",
    "    s = s.replace(i,i.capitalize())\n",
    "print(s)"
   ]
  },
  {
   "cell_type": "code",
   "execution_count": 1,
   "id": "4d0d277e",
   "metadata": {},
   "outputs": [
    {
     "name": "stdout",
     "output_type": "stream",
     "text": [
      "BANANA\n",
      "Stuart12\n"
     ]
    }
   ],
   "source": [
    "def minion_game(string):\n",
    "    s = len(string)\n",
    "    vowel = 0\n",
    "    consonant = 0\n",
    "    for i in range(s):\n",
    "        if string[i] in 'AEIOU':\n",
    "            vowel = vowel+(s-i)\n",
    "        else:\n",
    "            consonant = consonant+(s-i)\n",
    "    \n",
    "    if vowel < consonant :\n",
    "        print('Stuart' + str(consonant))\n",
    "    elif vowel > consonant:\n",
    "        print('Kevin' + str(consonant))\n",
    "    else: \n",
    "        print('Draw')\n",
    "    \n",
    "    \n",
    "\n",
    "if __name__ == '__main__':\n",
    "    s = input()\n",
    "    minion_game(s)"
   ]
  },
  {
   "cell_type": "code",
   "execution_count": 15,
   "id": "f05baf8d",
   "metadata": {},
   "outputs": [
    {
     "name": "stdout",
     "output_type": "stream",
     "text": [
      "8\n",
      "154 161 167 170 171 174 176 182\n",
      "169.375\n"
     ]
    }
   ],
   "source": [
    "def average(array):\n",
    "    sum = 0\n",
    "    for item in array:\n",
    "        sum = sum+item\n",
    "    avg = sum/len(array)\n",
    "    return avg\n",
    "    \n",
    "if __name__ == '__main__':\n",
    "    n = int(input())\n",
    "    arr = list(map(int, input().split()))\n",
    "    result = average(arr)\n",
    "    print(result)"
   ]
  },
  {
   "cell_type": "code",
   "execution_count": 19,
   "id": "46a96f02",
   "metadata": {},
   "outputs": [
    {
     "name": "stdout",
     "output_type": "stream",
     "text": [
      "2 4 2 5\n",
      "['2', '4', '2', '5']\n"
     ]
    }
   ],
   "source": [
    "a = input()\n",
    "lis = a.split()\n",
    "print (lis)"
   ]
  },
  {
   "cell_type": "code",
   "execution_count": 22,
   "id": "92b6cf20",
   "metadata": {},
   "outputs": [
    {
     "name": "stdout",
     "output_type": "stream",
     "text": [
      "5\n",
      "India\n",
      "India\n",
      "UK\n",
      "Bolivia\n",
      "UK\n",
      "3\n"
     ]
    }
   ],
   "source": [
    "n = int(input())\n",
    "l = []\n",
    "for i in range(n):\n",
    "    a = input()\n",
    "    l.append(a)\n",
    "l = set(l)\n",
    "print(len(l))"
   ]
  },
  {
   "cell_type": "code",
   "execution_count": 25,
   "id": "ce66a2b1",
   "metadata": {},
   "outputs": [
    {
     "name": "stdout",
     "output_type": "stream",
     "text": [
      "9\n",
      "1 2 3 4 5 6 7 8 9\n",
      "10\n",
      "pop\n",
      "remove 9\n",
      "discard 9\n",
      "discard 8\n",
      "remove 7\n",
      "pop\n",
      "discard 6 \n",
      "remove 5\n",
      "pop \n",
      "discard 5\n",
      "4\n"
     ]
    }
   ],
   "source": [
    "n = int(input())\n",
    "s = set(map(int, input().split()))\n",
    "N = int(input())\n",
    "for i in range(N):\n",
    "    cmd = list(map(str, input().split()))\n",
    "    if cmd[0] == \"pop\":\n",
    "        s.pop()\n",
    "    elif cmd[0] == \"remove\":\n",
    "        try:\n",
    "            s.remove(int(cmd[1]))\n",
    "        except:\n",
    "            continue\n",
    "    elif cmd[0] == \"discard\":\n",
    "        try:\n",
    "            s.discard(int(cmd[1]))\n",
    "        except:\n",
    "            continue\n",
    "print(sum(s))\n"
   ]
  },
  {
   "cell_type": "code",
   "execution_count": 26,
   "id": "937fe685",
   "metadata": {},
   "outputs": [
    {
     "ename": "TypeError",
     "evalue": "int() argument must be a string, a bytes-like object or a number, not 'method'",
     "output_type": "error",
     "traceback": [
      "\u001b[1;31m---------------------------------------------------------------------------\u001b[0m",
      "\u001b[1;31mTypeError\u001b[0m                                 Traceback (most recent call last)",
      "Input \u001b[1;32mIn [26]\u001b[0m, in \u001b[0;36m<cell line: 1>\u001b[1;34m()\u001b[0m\n\u001b[1;32m----> 1\u001b[0m x \u001b[38;5;241m=\u001b[39m \u001b[38;5;28;43mint\u001b[39;49m\u001b[43m(\u001b[49m\u001b[38;5;28;43minput\u001b[39;49m\u001b[43m)\u001b[49m\n\u001b[0;32m      2\u001b[0m x\u001b[38;5;241m&\u001b[39m\u001b[38;5;241m=\u001b[39m x\u001b[38;5;241m-\u001b[39m\u001b[38;5;241m1\u001b[39m\n",
      "\u001b[1;31mTypeError\u001b[0m: int() argument must be a string, a bytes-like object or a number, not 'method'"
     ]
    }
   ],
   "source": [
    "x = int(input)\n",
    "x&= x-1"
   ]
  },
  {
   "cell_type": "code",
   "execution_count": null,
   "id": "56d5261d",
   "metadata": {},
   "outputs": [],
   "source": []
  }
 ],
 "metadata": {
  "kernelspec": {
   "display_name": "Python 3 (ipykernel)",
   "language": "python",
   "name": "python3"
  },
  "language_info": {
   "codemirror_mode": {
    "name": "ipython",
    "version": 3
   },
   "file_extension": ".py",
   "mimetype": "text/x-python",
   "name": "python",
   "nbconvert_exporter": "python",
   "pygments_lexer": "ipython3",
   "version": "3.9.12"
  }
 },
 "nbformat": 4,
 "nbformat_minor": 5
}
