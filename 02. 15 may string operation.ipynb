{
 "cells": [
  {
   "cell_type": "markdown",
   "id": "aa8cb0b9",
   "metadata": {},
   "source": [
    "string variable and manipulation"
   ]
  },
  {
   "cell_type": "code",
   "execution_count": 1,
   "id": "bb1adfd4",
   "metadata": {},
   "outputs": [],
   "source": [
    "a =\"ankit\""
   ]
  },
  {
   "cell_type": "code",
   "execution_count": 2,
   "id": "a5c15e51",
   "metadata": {},
   "outputs": [
    {
     "data": {
      "text/plain": [
       "str"
      ]
     },
     "execution_count": 2,
     "metadata": {},
     "output_type": "execute_result"
    }
   ],
   "source": [
    "type(a)"
   ]
  },
  {
   "cell_type": "code",
   "execution_count": 5,
   "id": "b5a149fa",
   "metadata": {},
   "outputs": [
    {
     "data": {
      "text/plain": [
       "'a'"
      ]
     },
     "execution_count": 5,
     "metadata": {},
     "output_type": "execute_result"
    }
   ],
   "source": [
    "a[0]"
   ]
  },
  {
   "cell_type": "markdown",
   "id": "7360cfd3",
   "metadata": {},
   "source": [
    "to print a character using index this is a forward index"
   ]
  },
  {
   "cell_type": "code",
   "execution_count": 6,
   "id": "42121f47",
   "metadata": {},
   "outputs": [
    {
     "data": {
      "text/plain": [
       "'t'"
      ]
     },
     "execution_count": 6,
     "metadata": {},
     "output_type": "execute_result"
    }
   ],
   "source": [
    "a[4]"
   ]
  },
  {
   "cell_type": "markdown",
   "id": "e45e08e9",
   "metadata": {},
   "source": [
    "can also do with backward index using - sign "
   ]
  },
  {
   "cell_type": "code",
   "execution_count": 7,
   "id": "1dd260cf",
   "metadata": {},
   "outputs": [
    {
     "data": {
      "text/plain": [
       "'t'"
      ]
     },
     "execution_count": 7,
     "metadata": {},
     "output_type": "execute_result"
    }
   ],
   "source": [
    "a[-1]"
   ]
  },
  {
   "cell_type": "code",
   "execution_count": 8,
   "id": "376ead25",
   "metadata": {},
   "outputs": [
    {
     "data": {
      "text/plain": [
       "'n'"
      ]
     },
     "execution_count": 8,
     "metadata": {},
     "output_type": "execute_result"
    }
   ],
   "source": [
    "a[-4]"
   ]
  },
  {
   "cell_type": "code",
   "execution_count": 9,
   "id": "12220902",
   "metadata": {},
   "outputs": [],
   "source": [
    "a1 = 'andy'"
   ]
  },
  {
   "cell_type": "code",
   "execution_count": 10,
   "id": "8dac5e42",
   "metadata": {},
   "outputs": [
    {
     "data": {
      "text/plain": [
       "'d'"
      ]
     },
     "execution_count": 10,
     "metadata": {},
     "output_type": "execute_result"
    }
   ],
   "source": [
    "a1[2]"
   ]
  },
  {
   "cell_type": "code",
   "execution_count": 11,
   "id": "0705ebd3",
   "metadata": {},
   "outputs": [
    {
     "data": {
      "text/plain": [
       "'a'"
      ]
     },
     "execution_count": 11,
     "metadata": {},
     "output_type": "execute_result"
    }
   ],
   "source": [
    "a1[-4]"
   ]
  },
  {
   "cell_type": "code",
   "execution_count": 19,
   "id": "df4a450e",
   "metadata": {},
   "outputs": [],
   "source": [
    "a2 = \"This is code written by 'ankit dubey' \""
   ]
  },
  {
   "cell_type": "code",
   "execution_count": 20,
   "id": "ad24b7dc",
   "metadata": {},
   "outputs": [
    {
     "data": {
      "text/plain": [
       "\"This is code written by 'ankit dubey' \""
      ]
     },
     "execution_count": 20,
     "metadata": {},
     "output_type": "execute_result"
    }
   ],
   "source": [
    "a2"
   ]
  },
  {
   "cell_type": "code",
   "execution_count": 21,
   "id": "fe51b19a",
   "metadata": {},
   "outputs": [
    {
     "data": {
      "text/plain": [
       "' Ankit '"
      ]
     },
     "execution_count": 21,
     "metadata": {},
     "output_type": "execute_result"
    }
   ],
   "source": [
    "\" Ankit \""
   ]
  },
  {
   "cell_type": "code",
   "execution_count": 22,
   "id": "7fd2403a",
   "metadata": {},
   "outputs": [
    {
     "data": {
      "text/plain": [
       "\"'Ankit'\""
      ]
     },
     "execution_count": 22,
     "metadata": {},
     "output_type": "execute_result"
    }
   ],
   "source": [
    "\"'Ankit'\""
   ]
  },
  {
   "cell_type": "markdown",
   "id": "d4f8e951",
   "metadata": {},
   "source": [
    "you require particular set of characters :"
   ]
  },
  {
   "cell_type": "code",
   "execution_count": 23,
   "id": "b0cfd823",
   "metadata": {},
   "outputs": [
    {
     "data": {
      "text/plain": [
       "'This is co'"
      ]
     },
     "execution_count": 23,
     "metadata": {},
     "output_type": "execute_result"
    }
   ],
   "source": [
    "a2[0:10]"
   ]
  },
  {
   "cell_type": "markdown",
   "id": "818e7b7d",
   "metadata": {},
   "source": [
    "for alternative characters or say jump:"
   ]
  },
  {
   "cell_type": "code",
   "execution_count": 25,
   "id": "60951f52",
   "metadata": {},
   "outputs": [
    {
     "data": {
      "text/plain": [
       "'si oewi'"
      ]
     },
     "execution_count": 25,
     "metadata": {},
     "output_type": "execute_result"
    }
   ],
   "source": [
    "a2[3:16:2]"
   ]
  },
  {
   "cell_type": "code",
   "execution_count": 26,
   "id": "ae632a2b",
   "metadata": {},
   "outputs": [],
   "source": [
    "b = \"01234567891011121314151617181920\""
   ]
  },
  {
   "cell_type": "code",
   "execution_count": 27,
   "id": "b7d1d644",
   "metadata": {},
   "outputs": [
    {
     "data": {
      "text/plain": [
       "'25801316'"
      ]
     },
     "execution_count": 27,
     "metadata": {},
     "output_type": "execute_result"
    }
   ],
   "source": [
    "b[2:25:3]"
   ]
  },
  {
   "cell_type": "code",
   "execution_count": 29,
   "id": "93acd8e6",
   "metadata": {},
   "outputs": [
    {
     "data": {
      "text/plain": [
       "''"
      ]
     },
     "execution_count": 29,
     "metadata": {},
     "output_type": "execute_result"
    }
   ],
   "source": [
    "b[0:25:-2]"
   ]
  },
  {
   "cell_type": "markdown",
   "id": "5bcea17f",
   "metadata": {},
   "source": [
    "it gave me a blank because i am starting from 0 and till 25 th index so first picks 0 then goes to left side of 0 th index which is not available so to solve it need to move in opposite direction .......since now we are starting from 25 th index and now for neg index decrement we have backward index available"
   ]
  },
  {
   "cell_type": "code",
   "execution_count": 30,
   "id": "5759b265",
   "metadata": {},
   "outputs": [
    {
     "data": {
      "text/plain": [
       "'7161514131211101987654321'"
      ]
     },
     "execution_count": 30,
     "metadata": {},
     "output_type": "execute_result"
    }
   ],
   "source": [
    "b[25:0:-1]"
   ]
  },
  {
   "cell_type": "markdown",
   "id": "524d286a",
   "metadata": {},
   "source": [
    "similary for upper bound"
   ]
  },
  {
   "cell_type": "code",
   "execution_count": 32,
   "id": "84f56b3c",
   "metadata": {},
   "outputs": [
    {
     "data": {
      "text/plain": [
       "''"
      ]
     },
     "execution_count": 32,
     "metadata": {},
     "output_type": "execute_result"
    }
   ],
   "source": [
    "b[32:40:1]"
   ]
  },
  {
   "cell_type": "markdown",
   "id": "3c85270d",
   "metadata": {},
   "source": [
    "starting point is blank now gere in below code our jump size is not mentioned so it is +1 bu default for -3 last 3 indexes are not available i.e. it stop itself to upper bound -3"
   ]
  },
  {
   "cell_type": "code",
   "execution_count": 33,
   "id": "2f9d2e1d",
   "metadata": {},
   "outputs": [
    {
     "data": {
      "text/plain": [
       "'01234567891011121314151617181'"
      ]
     },
     "execution_count": 33,
     "metadata": {},
     "output_type": "execute_result"
    }
   ],
   "source": [
    "b[:-3]"
   ]
  },
  {
   "cell_type": "markdown",
   "id": "13f467c1",
   "metadata": {},
   "source": [
    "similarly we have :here starting is -2 so it will start from there\n"
   ]
  },
  {
   "cell_type": "code",
   "execution_count": 34,
   "id": "ff14bab4",
   "metadata": {},
   "outputs": [
    {
     "data": {
      "text/plain": [
       "'20'"
      ]
     },
     "execution_count": 34,
     "metadata": {},
     "output_type": "execute_result"
    }
   ],
   "source": [
    "b[-2:]"
   ]
  },
  {
   "cell_type": "code",
   "execution_count": 35,
   "id": "473cdad4",
   "metadata": {},
   "outputs": [
    {
     "data": {
      "text/plain": [
       "'012345'"
      ]
     },
     "execution_count": 35,
     "metadata": {},
     "output_type": "execute_result"
    }
   ],
   "source": [
    "b[:6]"
   ]
  },
  {
   "cell_type": "code",
   "execution_count": 36,
   "id": "3dbece85",
   "metadata": {},
   "outputs": [
    {
     "data": {
      "text/plain": [
       "'03691215182'"
      ]
     },
     "execution_count": 36,
     "metadata": {},
     "output_type": "execute_result"
    }
   ],
   "source": [
    "b[::3]"
   ]
  },
  {
   "cell_type": "code",
   "execution_count": 37,
   "id": "2f9915c9",
   "metadata": {},
   "outputs": [
    {
     "data": {
      "text/plain": [
       "'0987654321097531'"
      ]
     },
     "execution_count": 37,
     "metadata": {},
     "output_type": "execute_result"
    }
   ],
   "source": [
    "b[::-2]"
   ]
  },
  {
   "cell_type": "code",
   "execution_count": 38,
   "id": "88c78672",
   "metadata": {},
   "outputs": [
    {
     "data": {
      "text/plain": [
       "'02918171615141312111019876543210'"
      ]
     },
     "execution_count": 38,
     "metadata": {},
     "output_type": "execute_result"
    }
   ],
   "source": [
    "b[::-1]"
   ]
  },
  {
   "cell_type": "markdown",
   "id": "81729df6",
   "metadata": {},
   "source": [
    "this reverses our string"
   ]
  },
  {
   "cell_type": "code",
   "execution_count": 39,
   "id": "1b581cff",
   "metadata": {},
   "outputs": [],
   "source": [
    "c= \"ineuron\""
   ]
  },
  {
   "cell_type": "code",
   "execution_count": 40,
   "id": "dcd44de0",
   "metadata": {},
   "outputs": [
    {
     "data": {
      "text/plain": [
       "'norueni'"
      ]
     },
     "execution_count": 40,
     "metadata": {},
     "output_type": "execute_result"
    }
   ],
   "source": [
    "c[::-1]"
   ]
  },
  {
   "cell_type": "code",
   "execution_count": 41,
   "id": "b7906478",
   "metadata": {},
   "outputs": [
    {
     "data": {
      "text/plain": [
       "''"
      ]
     },
     "execution_count": 41,
     "metadata": {},
     "output_type": "execute_result"
    }
   ],
   "source": [
    "c[-2:-7:1]"
   ]
  },
  {
   "cell_type": "markdown",
   "id": "eeb34cd4",
   "metadata": {},
   "source": [
    "in above code i am going in a left direction while the jump is in a positive direction which is a contradictionb and hence we get a blank"
   ]
  },
  {
   "cell_type": "code",
   "execution_count": 43,
   "id": "23056944",
   "metadata": {},
   "outputs": [
    {
     "data": {
      "text/plain": [
       "'ineur'"
      ]
     },
     "execution_count": 43,
     "metadata": {},
     "output_type": "execute_result"
    }
   ],
   "source": [
    "c[-7:-2:1]"
   ]
  },
  {
   "cell_type": "code",
   "execution_count": 44,
   "id": "51ba1f0f",
   "metadata": {},
   "outputs": [
    {
     "data": {
      "text/plain": [
       "''"
      ]
     },
     "execution_count": 44,
     "metadata": {},
     "output_type": "execute_result"
    }
   ],
   "source": [
    "c[-7:-2:-1]"
   ]
  },
  {
   "cell_type": "code",
   "execution_count": 45,
   "id": "4941bb9c",
   "metadata": {},
   "outputs": [],
   "source": [
    "a = \"ankit\""
   ]
  },
  {
   "cell_type": "code",
   "execution_count": 46,
   "id": "ad7e0e41",
   "metadata": {},
   "outputs": [
    {
     "ename": "TypeError",
     "evalue": "can only concatenate str (not \"int\") to str",
     "output_type": "error",
     "traceback": [
      "\u001b[1;31m---------------------------------------------------------------------------\u001b[0m",
      "\u001b[1;31mTypeError\u001b[0m                                 Traceback (most recent call last)",
      "Input \u001b[1;32mIn [46]\u001b[0m, in \u001b[0;36m<cell line: 1>\u001b[1;34m()\u001b[0m\n\u001b[1;32m----> 1\u001b[0m \u001b[43ma\u001b[49m\u001b[38;5;241;43m+\u001b[39;49m\u001b[38;5;241;43m1\u001b[39;49m\n",
      "\u001b[1;31mTypeError\u001b[0m: can only concatenate str (not \"int\") to str"
     ]
    }
   ],
   "source": [
    "a+1"
   ]
  },
  {
   "cell_type": "code",
   "execution_count": 47,
   "id": "3293c517",
   "metadata": {},
   "outputs": [
    {
     "data": {
      "text/plain": [
       "'ankit1'"
      ]
     },
     "execution_count": 47,
     "metadata": {},
     "output_type": "execute_result"
    }
   ],
   "source": [
    "a + '1'"
   ]
  },
  {
   "cell_type": "markdown",
   "id": "d8df78d3",
   "metadata": {},
   "source": [
    "only same data types can be opeerated here concatenation is being performed above \n"
   ]
  },
  {
   "cell_type": "markdown",
   "id": "3fed4bc1",
   "metadata": {},
   "source": [
    "length func:"
   ]
  },
  {
   "cell_type": "code",
   "execution_count": 48,
   "id": "a531c456",
   "metadata": {},
   "outputs": [
    {
     "data": {
      "text/plain": [
       "5"
      ]
     },
     "execution_count": 48,
     "metadata": {},
     "output_type": "execute_result"
    }
   ],
   "source": [
    "len(a)"
   ]
  },
  {
   "cell_type": "code",
   "execution_count": 49,
   "id": "45cce6fe",
   "metadata": {},
   "outputs": [
    {
     "data": {
      "text/plain": [
       "'ankitankit'"
      ]
     },
     "execution_count": 49,
     "metadata": {},
     "output_type": "execute_result"
    }
   ],
   "source": [
    "a * 2 "
   ]
  },
  {
   "cell_type": "code",
   "execution_count": 51,
   "id": "4041f7b6",
   "metadata": {},
   "outputs": [
    {
     "data": {
      "text/plain": [
       "<function str.count>"
      ]
     },
     "execution_count": 51,
     "metadata": {},
     "output_type": "execute_result"
    }
   ],
   "source": [
    "a.count"
   ]
  },
  {
   "cell_type": "markdown",
   "id": "1dacbf3b",
   "metadata": {},
   "source": [
    "to find no of occurences:"
   ]
  },
  {
   "cell_type": "code",
   "execution_count": 52,
   "id": "482f7809",
   "metadata": {},
   "outputs": [
    {
     "data": {
      "text/plain": [
       "1"
      ]
     },
     "execution_count": 52,
     "metadata": {},
     "output_type": "execute_result"
    }
   ],
   "source": [
    "a.count('t')"
   ]
  },
  {
   "cell_type": "code",
   "execution_count": 53,
   "id": "ba6f6861",
   "metadata": {},
   "outputs": [
    {
     "data": {
      "text/plain": [
       "0"
      ]
     },
     "execution_count": 53,
     "metadata": {},
     "output_type": "execute_result"
    }
   ],
   "source": [
    "a.count('o')"
   ]
  },
  {
   "cell_type": "code",
   "execution_count": 54,
   "id": "db5461f8",
   "metadata": {},
   "outputs": [],
   "source": [
    "c= \"aaabbbccccdddd\""
   ]
  },
  {
   "cell_type": "code",
   "execution_count": 55,
   "id": "6b6a229c",
   "metadata": {},
   "outputs": [
    {
     "data": {
      "text/plain": [
       "2"
      ]
     },
     "execution_count": 55,
     "metadata": {},
     "output_type": "execute_result"
    }
   ],
   "source": [
    "c.count('cc')"
   ]
  },
  {
   "cell_type": "code",
   "execution_count": 56,
   "id": "44d3982b",
   "metadata": {},
   "outputs": [
    {
     "data": {
      "text/plain": [
       "['aaabbb', '', '', '', 'dddd']"
      ]
     },
     "execution_count": 56,
     "metadata": {},
     "output_type": "execute_result"
    }
   ],
   "source": [
    "c.split('c')"
   ]
  },
  {
   "cell_type": "markdown",
   "id": "9ee04c36",
   "metadata": {},
   "source": [
    "here c acts as a seperator"
   ]
  },
  {
   "cell_type": "code",
   "execution_count": 57,
   "id": "e80d4895",
   "metadata": {},
   "outputs": [
    {
     "data": {
      "text/plain": [
       "['an', 'it']"
      ]
     },
     "execution_count": 57,
     "metadata": {},
     "output_type": "execute_result"
    }
   ],
   "source": [
    "a.split('k')"
   ]
  },
  {
   "cell_type": "code",
   "execution_count": 69,
   "id": "10b8a99a",
   "metadata": {},
   "outputs": [
    {
     "ename": "SyntaxError",
     "evalue": "invalid syntax (413936193.py, line 1)",
     "output_type": "error",
     "traceback": [
      "\u001b[1;36m  Input \u001b[1;32mIn [69]\u001b[1;36m\u001b[0m\n\u001b[1;33m    q=\"The example in Barmar's answer gives the name val to the internal union. The example in Sp.'s answer uses an anonymous union to avoid having to specify the .val. every time you access the variant record. Unfortunately \"anonymous\" internal structs and unions is not available in C89 or C99. It's a compiler extension, and therefore inherently non-portable.\"\u001b[0m\n\u001b[1;37m                                                                                                                                                                                                                                  ^\u001b[0m\n\u001b[1;31mSyntaxError\u001b[0m\u001b[1;31m:\u001b[0m invalid syntax\n"
     ]
    }
   ],
   "source": [
    "q=\"The example in Barmar's answer gives the name val to the internal union. The example in Sp.'s answer uses an anonymous union to avoid having to specify the .val. every time you access the variant record. Unfortunately \"anonymous\" internal structs and unions is not available in C89 or C99. It's a compiler extension, and therefore inherently non-portable.\""
   ]
  },
  {
   "cell_type": "code",
   "execution_count": 63,
   "id": "fe94c701",
   "metadata": {},
   "outputs": [],
   "source": [
    "q = \"The example in Barmar's answer gives the name val to the internal union. The example in Sp.'s answer uses an anonymous union to avoid having to specify the .val. every time you access the variant record. Unfortunately anonymous internal structs and unions is not available in C89 or C99. It's a compiler extension, and therefore inherently non-portable.\""
   ]
  },
  {
   "cell_type": "code",
   "execution_count": 64,
   "id": "af14a79a",
   "metadata": {},
   "outputs": [
    {
     "data": {
      "text/plain": [
       "\"The example in Barmar's answer gives the name val to the internal union. The example in Sp.'s answer uses an anonymous union to avoid having to specify the .val. every time you access the variant record. Unfortunately anonymous internal structs and unions is not available in C89 or C99. It's a compiler extension, and therefore inherently non-portable.\""
      ]
     },
     "execution_count": 64,
     "metadata": {},
     "output_type": "execute_result"
    }
   ],
   "source": [
    "q"
   ]
  },
  {
   "cell_type": "markdown",
   "id": "85394417",
   "metadata": {},
   "source": [
    "to give list of words:"
   ]
  },
  {
   "cell_type": "code",
   "execution_count": 65,
   "id": "1fa31bd7",
   "metadata": {
    "scrolled": true
   },
   "outputs": [
    {
     "data": {
      "text/plain": [
       "['The',\n",
       " 'example',\n",
       " 'in',\n",
       " \"Barmar's\",\n",
       " 'answer',\n",
       " 'gives',\n",
       " 'the',\n",
       " 'name',\n",
       " 'val',\n",
       " 'to',\n",
       " 'the',\n",
       " 'internal',\n",
       " 'union.',\n",
       " 'The',\n",
       " 'example',\n",
       " 'in',\n",
       " \"Sp.'s\",\n",
       " 'answer',\n",
       " 'uses',\n",
       " 'an',\n",
       " 'anonymous',\n",
       " 'union',\n",
       " 'to',\n",
       " 'avoid',\n",
       " 'having',\n",
       " 'to',\n",
       " 'specify',\n",
       " 'the',\n",
       " '.val.',\n",
       " 'every',\n",
       " 'time',\n",
       " 'you',\n",
       " 'access',\n",
       " 'the',\n",
       " 'variant',\n",
       " 'record.',\n",
       " 'Unfortunately',\n",
       " 'anonymous',\n",
       " 'internal',\n",
       " 'structs',\n",
       " 'and',\n",
       " 'unions',\n",
       " 'is',\n",
       " 'not',\n",
       " 'available',\n",
       " 'in',\n",
       " 'C89',\n",
       " 'or',\n",
       " 'C99.',\n",
       " \"It's\",\n",
       " 'a',\n",
       " 'compiler',\n",
       " 'extension,',\n",
       " 'and',\n",
       " 'therefore',\n",
       " 'inherently',\n",
       " 'non-portable.']"
      ]
     },
     "execution_count": 65,
     "metadata": {},
     "output_type": "execute_result"
    }
   ],
   "source": [
    "q.split(' ')"
   ]
  },
  {
   "cell_type": "markdown",
   "id": "24722e46",
   "metadata": {},
   "source": [
    "here the space was given as split character so we get all the words of the paragraph"
   ]
  },
  {
   "cell_type": "code",
   "execution_count": 66,
   "id": "ac35667c",
   "metadata": {},
   "outputs": [
    {
     "data": {
      "text/plain": [
       "3"
      ]
     },
     "execution_count": 66,
     "metadata": {},
     "output_type": "execute_result"
    }
   ],
   "source": [
    "q.count(\"to\")"
   ]
  },
  {
   "cell_type": "markdown",
   "id": "8ac8b960",
   "metadata": {},
   "source": [
    "now suppose you have data with many \"\"\" \"\"\" in a para you want to perform on for that usually we use triple double quotes \"\"\" \"\"\""
   ]
  },
  {
   "cell_type": "code",
   "execution_count": 67,
   "id": "b5666d93",
   "metadata": {},
   "outputs": [],
   "source": [
    "q = \"\"\" The example in Barmar's answer gives the name val to the internal union. The example in Sp.'s answer uses an anonymous union to avoid having to specify the .val. every time you access the variant record. Unfortunately \"anonymous\" internal structs and unions is not available in C89 or C99. It's a compiler extension, and therefore inherently non-portable.\"\"\""
   ]
  },
  {
   "cell_type": "code",
   "execution_count": 68,
   "id": "779f790e",
   "metadata": {
    "scrolled": true
   },
   "outputs": [
    {
     "data": {
      "text/plain": [
       "' The example in Barmar\\'s answer gives the name val to the internal union. The example in Sp.\\'s answer uses an anonymous union to avoid having to specify the .val. every time you access the variant record. Unfortunately \"anonymous\" internal structs and unions is not available in C89 or C99. It\\'s a compiler extension, and therefore inherently non-portable.'"
      ]
     },
     "execution_count": 68,
     "metadata": {},
     "output_type": "execute_result"
    }
   ],
   "source": [
    "q"
   ]
  },
  {
   "cell_type": "markdown",
   "id": "46279c08",
   "metadata": {},
   "source": [
    "now we can perform actions on it"
   ]
  },
  {
   "cell_type": "markdown",
   "id": "1816479c",
   "metadata": {},
   "source": [
    "To convert in uppercases: "
   ]
  },
  {
   "cell_type": "code",
   "execution_count": 70,
   "id": "34ac8a2f",
   "metadata": {},
   "outputs": [
    {
     "data": {
      "text/plain": [
       "' THE EXAMPLE IN BARMAR\\'S ANSWER GIVES THE NAME VAL TO THE INTERNAL UNION. THE EXAMPLE IN SP.\\'S ANSWER USES AN ANONYMOUS UNION TO AVOID HAVING TO SPECIFY THE .VAL. EVERY TIME YOU ACCESS THE VARIANT RECORD. UNFORTUNATELY \"ANONYMOUS\" INTERNAL STRUCTS AND UNIONS IS NOT AVAILABLE IN C89 OR C99. IT\\'S A COMPILER EXTENSION, AND THEREFORE INHERENTLY NON-PORTABLE.'"
      ]
     },
     "execution_count": 70,
     "metadata": {},
     "output_type": "execute_result"
    }
   ],
   "source": [
    "q.upper()"
   ]
  },
  {
   "cell_type": "code",
   "execution_count": 71,
   "id": "6b0c2ae9",
   "metadata": {},
   "outputs": [
    {
     "data": {
      "text/plain": [
       "' the example in barmar\\'s answer gives the name val to the internal union. the example in sp.\\'s answer uses an anonymous union to avoid having to specify the .val. every time you access the variant record. unfortunately \"anonymous\" internal structs and unions is not available in c89 or c99. it\\'s a compiler extension, and therefore inherently non-portable.'"
      ]
     },
     "execution_count": 71,
     "metadata": {},
     "output_type": "execute_result"
    }
   ],
   "source": [
    "q.lower()"
   ]
  },
  {
   "cell_type": "code",
   "execution_count": 72,
   "id": "cf5e08ac",
   "metadata": {},
   "outputs": [
    {
     "data": {
      "text/plain": [
       "' The example in Barmar\\'s answer gives the name val to the internal union. The example in Sp.\\'s answer uses an anonymous union to avoid having to specify the .val. every time you access the variant record. Unfortunately \"anonymous\" internal structs and unions is not available in C89 or C99. It\\'s a compiler extension, and therefore inherently non-portable.'"
      ]
     },
     "execution_count": 72,
     "metadata": {},
     "output_type": "execute_result"
    }
   ],
   "source": [
    "q"
   ]
  },
  {
   "cell_type": "code",
   "execution_count": 73,
   "id": "7c778e6a",
   "metadata": {},
   "outputs": [
    {
     "data": {
      "text/plain": [
       "' The Example In Barmar\\'S Answer Gives The Name Val To The Internal Union. The Example In Sp.\\'S Answer Uses An Anonymous Union To Avoid Having To Specify The .Val. Every Time You Access The Variant Record. Unfortunately \"Anonymous\" Internal Structs And Unions Is Not Available In C89 Or C99. It\\'S A Compiler Extension, And Therefore Inherently Non-Portable.'"
      ]
     },
     "execution_count": 73,
     "metadata": {},
     "output_type": "execute_result"
    }
   ],
   "source": [
    "q.title()"
   ]
  },
  {
   "cell_type": "markdown",
   "id": "988e007b",
   "metadata": {},
   "source": [
    "-->it makes every character after dot as uppercase"
   ]
  },
  {
   "cell_type": "code",
   "execution_count": 1,
   "id": "46d16867",
   "metadata": {},
   "outputs": [],
   "source": [
    "a=\"Ankit DUBey . frfyy\""
   ]
  },
  {
   "cell_type": "code",
   "execution_count": 2,
   "id": "2255706c",
   "metadata": {},
   "outputs": [
    {
     "data": {
      "text/plain": [
       "'Ankit dubey . frfyy'"
      ]
     },
     "execution_count": 2,
     "metadata": {},
     "output_type": "execute_result"
    }
   ],
   "source": [
    "a.capitalize()"
   ]
  },
  {
   "cell_type": "code",
   "execution_count": 78,
   "id": "3194d756",
   "metadata": {},
   "outputs": [
    {
     "data": {
      "text/plain": [
       "'aNKIT DUBEY'"
      ]
     },
     "execution_count": 78,
     "metadata": {},
     "output_type": "execute_result"
    }
   ],
   "source": [
    "a.swapcase()"
   ]
  },
  {
   "cell_type": "code",
   "execution_count": 4,
   "id": "51d4134b",
   "metadata": {},
   "outputs": [],
   "source": [
    "a=\"Ankit DUbey\""
   ]
  },
  {
   "cell_type": "code",
   "execution_count": 5,
   "id": "c3f91983",
   "metadata": {},
   "outputs": [
    {
     "data": {
      "text/plain": [
       "'aNKIT duBEY'"
      ]
     },
     "execution_count": 5,
     "metadata": {},
     "output_type": "execute_result"
    }
   ],
   "source": [
    "a.swapcase()"
   ]
  },
  {
   "cell_type": "code",
   "execution_count": 7,
   "id": "5f0e1fc6",
   "metadata": {},
   "outputs": [
    {
     "name": "stdout",
     "output_type": "stream",
     "text": [
      "<reversed object at 0x000001AAA91D4B50>\n"
     ]
    }
   ],
   "source": [
    "b = reversed(a)\n",
    "print(b)"
   ]
  },
  {
   "cell_type": "markdown",
   "id": "a7c25dec",
   "metadata": {},
   "source": [
    "well not be able to se outcome by defaut as it returns a object so we have to call it to get result"
   ]
  },
  {
   "cell_type": "code",
   "execution_count": 82,
   "id": "65e16993",
   "metadata": {},
   "outputs": [
    {
     "data": {
      "text/plain": [
       "'yebUD tiknA'"
      ]
     },
     "execution_count": 82,
     "metadata": {},
     "output_type": "execute_result"
    }
   ],
   "source": [
    "''.join(reversed(a))"
   ]
  },
  {
   "cell_type": "markdown",
   "id": "67fbaa2e",
   "metadata": {},
   "source": [
    "here we performed join operation with a blank"
   ]
  },
  {
   "cell_type": "code",
   "execution_count": 83,
   "id": "9b9a7d9c",
   "metadata": {},
   "outputs": [
    {
     "data": {
      "text/plain": [
       "'yebUD tiknA'"
      ]
     },
     "execution_count": 83,
     "metadata": {},
     "output_type": "execute_result"
    }
   ],
   "source": [
    "a[::-1]"
   ]
  },
  {
   "cell_type": "code",
   "execution_count": 84,
   "id": "0f103b97",
   "metadata": {},
   "outputs": [],
   "source": [
    "a = \"  ankit  \""
   ]
  },
  {
   "cell_type": "markdown",
   "id": "c7cf5406",
   "metadata": {},
   "source": [
    "to remove space before and after but not in between"
   ]
  },
  {
   "cell_type": "code",
   "execution_count": 85,
   "id": "e20d7833",
   "metadata": {},
   "outputs": [
    {
     "data": {
      "text/plain": [
       "'ankit'"
      ]
     },
     "execution_count": 85,
     "metadata": {},
     "output_type": "execute_result"
    }
   ],
   "source": [
    "a.strip()"
   ]
  },
  {
   "cell_type": "code",
   "execution_count": 86,
   "id": "aca53256",
   "metadata": {},
   "outputs": [],
   "source": [
    "a=\"  ank  it  \""
   ]
  },
  {
   "cell_type": "code",
   "execution_count": 87,
   "id": "d982310f",
   "metadata": {},
   "outputs": [
    {
     "data": {
      "text/plain": [
       "'ank  it'"
      ]
     },
     "execution_count": 87,
     "metadata": {},
     "output_type": "execute_result"
    }
   ],
   "source": [
    "a.strip()"
   ]
  },
  {
   "cell_type": "code",
   "execution_count": 89,
   "id": "934150bf",
   "metadata": {},
   "outputs": [
    {
     "data": {
      "text/plain": [
       "'ank  it  '"
      ]
     },
     "execution_count": 89,
     "metadata": {},
     "output_type": "execute_result"
    }
   ],
   "source": [
    "a.lstrip()"
   ]
  },
  {
   "cell_type": "markdown",
   "id": "737f64f7",
   "metadata": {},
   "source": [
    "*strips on lhs"
   ]
  },
  {
   "cell_type": "code",
   "execution_count": 90,
   "id": "2af93c51",
   "metadata": {},
   "outputs": [
    {
     "data": {
      "text/plain": [
       "'  ank  it'"
      ]
     },
     "execution_count": 90,
     "metadata": {},
     "output_type": "execute_result"
    }
   ],
   "source": [
    "a.rstrip()"
   ]
  },
  {
   "cell_type": "markdown",
   "id": "f6564f31",
   "metadata": {},
   "source": [
    "*removes space on rhs"
   ]
  },
  {
   "cell_type": "code",
   "execution_count": 91,
   "id": "2ba97fc0",
   "metadata": {},
   "outputs": [
    {
     "data": {
      "text/plain": [
       "'a n k i t'"
      ]
     },
     "execution_count": 91,
     "metadata": {},
     "output_type": "execute_result"
    }
   ],
   "source": [
    "\" \".join(\"ankit\")"
   ]
  },
  {
   "cell_type": "markdown",
   "id": "d36a547f",
   "metadata": {},
   "source": [
    "*joinn with each character"
   ]
  },
  {
   "cell_type": "code",
   "execution_count": 92,
   "id": "dfdd319c",
   "metadata": {},
   "outputs": [
    {
     "data": {
      "text/plain": [
       "' a aaanaka a aiata a '"
      ]
     },
     "execution_count": 92,
     "metadata": {},
     "output_type": "execute_result"
    }
   ],
   "source": [
    "\"a\".join(a)"
   ]
  },
  {
   "cell_type": "code",
   "execution_count": 93,
   "id": "c1d58f78",
   "metadata": {
    "scrolled": true
   },
   "outputs": [
    {
     "data": {
      "text/plain": [
       "'aanakaiat'"
      ]
     },
     "execution_count": 93,
     "metadata": {},
     "output_type": "execute_result"
    }
   ],
   "source": [
    "\"a\".join(\"ankit\")"
   ]
  },
  {
   "cell_type": "code",
   "execution_count": 94,
   "id": "6f9faf6c",
   "metadata": {},
   "outputs": [],
   "source": [
    "a=\"ankit\""
   ]
  },
  {
   "cell_type": "code",
   "execution_count": 95,
   "id": "16cd0f6f",
   "metadata": {},
   "outputs": [
    {
     "data": {
      "text/plain": [
       "'xxxxxankitxxxxx'"
      ]
     },
     "execution_count": 95,
     "metadata": {},
     "output_type": "execute_result"
    }
   ],
   "source": [
    "a.center(15 , 'x')"
   ]
  },
  {
   "cell_type": "code",
   "execution_count": 96,
   "id": "d2e75a54",
   "metadata": {},
   "outputs": [
    {
     "data": {
      "text/plain": [
       "False"
      ]
     },
     "execution_count": 96,
     "metadata": {},
     "output_type": "execute_result"
    }
   ],
   "source": [
    "a.isupper()"
   ]
  },
  {
   "cell_type": "code",
   "execution_count": 97,
   "id": "903ec7db",
   "metadata": {},
   "outputs": [],
   "source": [
    "a1= \"ANKIT\""
   ]
  },
  {
   "cell_type": "code",
   "execution_count": 98,
   "id": "f425c415",
   "metadata": {},
   "outputs": [
    {
     "data": {
      "text/plain": [
       "True"
      ]
     },
     "execution_count": 98,
     "metadata": {},
     "output_type": "execute_result"
    }
   ],
   "source": [
    "a1.isupper()"
   ]
  },
  {
   "cell_type": "code",
   "execution_count": 99,
   "id": "47036d20",
   "metadata": {},
   "outputs": [
    {
     "data": {
      "text/plain": [
       "True"
      ]
     },
     "execution_count": 99,
     "metadata": {},
     "output_type": "execute_result"
    }
   ],
   "source": [
    "a.islower()"
   ]
  },
  {
   "cell_type": "code",
   "execution_count": 100,
   "id": "60af2549",
   "metadata": {},
   "outputs": [
    {
     "data": {
      "text/plain": [
       "False"
      ]
     },
     "execution_count": 100,
     "metadata": {},
     "output_type": "execute_result"
    }
   ],
   "source": [
    "a.isspace()"
   ]
  },
  {
   "cell_type": "code",
   "execution_count": 101,
   "id": "a74b3204",
   "metadata": {},
   "outputs": [],
   "source": [
    "a2= \"  \""
   ]
  },
  {
   "cell_type": "code",
   "execution_count": 102,
   "id": "4ccd091d",
   "metadata": {},
   "outputs": [
    {
     "data": {
      "text/plain": [
       "True"
      ]
     },
     "execution_count": 102,
     "metadata": {},
     "output_type": "execute_result"
    }
   ],
   "source": [
    "a2.isspace()"
   ]
  },
  {
   "cell_type": "code",
   "execution_count": 103,
   "id": "8d2d0a78",
   "metadata": {},
   "outputs": [
    {
     "data": {
      "text/plain": [
       "False"
      ]
     },
     "execution_count": 103,
     "metadata": {},
     "output_type": "execute_result"
    }
   ],
   "source": [
    "a.isdigit()"
   ]
  },
  {
   "cell_type": "code",
   "execution_count": 110,
   "id": "116ae2a9",
   "metadata": {},
   "outputs": [],
   "source": [
    "a3 = \"13224245\""
   ]
  },
  {
   "cell_type": "code",
   "execution_count": 111,
   "id": "7bb14240",
   "metadata": {},
   "outputs": [
    {
     "data": {
      "text/plain": [
       "True"
      ]
     },
     "execution_count": 111,
     "metadata": {},
     "output_type": "execute_result"
    }
   ],
   "source": [
    "a3.isdigit()"
   ]
  },
  {
   "cell_type": "code",
   "execution_count": 112,
   "id": "82362dfd",
   "metadata": {},
   "outputs": [],
   "source": [
    "a3 = \" 1 2 \""
   ]
  },
  {
   "cell_type": "code",
   "execution_count": 113,
   "id": "024b7777",
   "metadata": {},
   "outputs": [
    {
     "data": {
      "text/plain": [
       "False"
      ]
     },
     "execution_count": 113,
     "metadata": {},
     "output_type": "execute_result"
    }
   ],
   "source": [
    "a3.isdigit()"
   ]
  },
  {
   "cell_type": "code",
   "execution_count": 114,
   "id": "d440efbf",
   "metadata": {},
   "outputs": [],
   "source": [
    "a4 =\" an213\""
   ]
  },
  {
   "cell_type": "code",
   "execution_count": 115,
   "id": "ae1ed240",
   "metadata": {},
   "outputs": [
    {
     "data": {
      "text/plain": [
       "False"
      ]
     },
     "execution_count": 115,
     "metadata": {},
     "output_type": "execute_result"
    }
   ],
   "source": [
    "a4.isdigit()"
   ]
  },
  {
   "cell_type": "code",
   "execution_count": 122,
   "id": "08ea182c",
   "metadata": {},
   "outputs": [],
   "source": [
    "a=\"Ankit\""
   ]
  },
  {
   "cell_type": "code",
   "execution_count": 123,
   "id": "cf771664",
   "metadata": {},
   "outputs": [
    {
     "data": {
      "text/plain": [
       "True"
      ]
     },
     "execution_count": 123,
     "metadata": {},
     "output_type": "execute_result"
    }
   ],
   "source": [
    "a.isalnum()"
   ]
  },
  {
   "cell_type": "code",
   "execution_count": 129,
   "id": "6ea822da",
   "metadata": {},
   "outputs": [],
   "source": [
    "a =\"Ankit123\""
   ]
  },
  {
   "cell_type": "code",
   "execution_count": 130,
   "id": "dac3807b",
   "metadata": {},
   "outputs": [
    {
     "data": {
      "text/plain": [
       "True"
      ]
     },
     "execution_count": 130,
     "metadata": {},
     "output_type": "execute_result"
    }
   ],
   "source": [
    "a.isalnum()"
   ]
  },
  {
   "cell_type": "code",
   "execution_count": 131,
   "id": "558362a8",
   "metadata": {},
   "outputs": [],
   "source": [
    "a = \" a 12\""
   ]
  },
  {
   "cell_type": "code",
   "execution_count": 132,
   "id": "ee01056e",
   "metadata": {},
   "outputs": [
    {
     "data": {
      "text/plain": [
       "False"
      ]
     },
     "execution_count": 132,
     "metadata": {},
     "output_type": "execute_result"
    }
   ],
   "source": [
    "a.isalnum()"
   ]
  },
  {
   "cell_type": "code",
   "execution_count": 133,
   "id": "6410c07b",
   "metadata": {},
   "outputs": [],
   "source": [
    "a =\"andy\""
   ]
  },
  {
   "cell_type": "code",
   "execution_count": 134,
   "id": "be7fe7d8",
   "metadata": {},
   "outputs": [
    {
     "data": {
      "text/plain": [
       "True"
      ]
     },
     "execution_count": 134,
     "metadata": {},
     "output_type": "execute_result"
    }
   ],
   "source": [
    "a.isalpha()"
   ]
  },
  {
   "cell_type": "code",
   "execution_count": 135,
   "id": "0de1d74c",
   "metadata": {},
   "outputs": [],
   "source": [
    "a1 =\"andy123\""
   ]
  },
  {
   "cell_type": "code",
   "execution_count": 136,
   "id": "9659f731",
   "metadata": {},
   "outputs": [
    {
     "data": {
      "text/plain": [
       "False"
      ]
     },
     "execution_count": 136,
     "metadata": {},
     "output_type": "execute_result"
    }
   ],
   "source": [
    "a1.isalpha()"
   ]
  },
  {
   "cell_type": "code",
   "execution_count": 137,
   "id": "810f8495",
   "metadata": {},
   "outputs": [
    {
     "data": {
      "text/plain": [
       "'andy'"
      ]
     },
     "execution_count": 137,
     "metadata": {},
     "output_type": "execute_result"
    }
   ],
   "source": [
    "a"
   ]
  },
  {
   "cell_type": "code",
   "execution_count": 138,
   "id": "921fd5f4",
   "metadata": {},
   "outputs": [],
   "source": [
    "a=\"Ankit\""
   ]
  },
  {
   "cell_type": "code",
   "execution_count": 139,
   "id": "aa47b157",
   "metadata": {},
   "outputs": [
    {
     "data": {
      "text/plain": [
       "False"
      ]
     },
     "execution_count": 139,
     "metadata": {},
     "output_type": "execute_result"
    }
   ],
   "source": [
    "a.startswith('i')"
   ]
  },
  {
   "cell_type": "code",
   "execution_count": 140,
   "id": "b1de1a04",
   "metadata": {},
   "outputs": [
    {
     "data": {
      "text/plain": [
       "False"
      ]
     },
     "execution_count": 140,
     "metadata": {},
     "output_type": "execute_result"
    }
   ],
   "source": [
    "a.startswith('a')"
   ]
  },
  {
   "cell_type": "code",
   "execution_count": 141,
   "id": "5260b953",
   "metadata": {},
   "outputs": [
    {
     "data": {
      "text/plain": [
       "True"
      ]
     },
     "execution_count": 141,
     "metadata": {},
     "output_type": "execute_result"
    }
   ],
   "source": [
    "a.startswith(\"A\")"
   ]
  },
  {
   "cell_type": "code",
   "execution_count": 142,
   "id": "fe50e20a",
   "metadata": {},
   "outputs": [
    {
     "data": {
      "text/plain": [
       "True"
      ]
     },
     "execution_count": 142,
     "metadata": {},
     "output_type": "execute_result"
    }
   ],
   "source": [
    "a.endswith(\"t\")"
   ]
  },
  {
   "cell_type": "code",
   "execution_count": 143,
   "id": "a8a8b76d",
   "metadata": {},
   "outputs": [
    {
     "data": {
      "text/plain": [
       "True"
      ]
     },
     "execution_count": 143,
     "metadata": {},
     "output_type": "execute_result"
    }
   ],
   "source": [
    "a.startswith('')"
   ]
  },
  {
   "cell_type": "code",
   "execution_count": 144,
   "id": "2d7bfaa2",
   "metadata": {},
   "outputs": [
    {
     "data": {
      "text/plain": [
       "True"
      ]
     },
     "execution_count": 144,
     "metadata": {},
     "output_type": "execute_result"
    }
   ],
   "source": [
    "a.isascii()"
   ]
  },
  {
   "cell_type": "code",
   "execution_count": 149,
   "id": "48310aea",
   "metadata": {},
   "outputs": [],
   "source": [
    "a=\"ankit\\tdubey\\t040\""
   ]
  },
  {
   "cell_type": "code",
   "execution_count": 150,
   "id": "0ba54924",
   "metadata": {},
   "outputs": [
    {
     "data": {
      "text/plain": [
       "'ankit   dubey   040'"
      ]
     },
     "execution_count": 150,
     "metadata": {},
     "output_type": "execute_result"
    }
   ],
   "source": [
    "a.expandtabs()"
   ]
  },
  {
   "cell_type": "markdown",
   "id": "0d3e2d1b",
   "metadata": {},
   "source": [
    "**\\t fot tab and str.expandtabs()"
   ]
  },
  {
   "cell_type": "code",
   "execution_count": 151,
   "id": "4a9a4c2d",
   "metadata": {},
   "outputs": [],
   "source": [
    "a = \"this is My First Python programming class and I am learnING python string and its function\""
   ]
  },
  {
   "cell_type": "code",
   "execution_count": 152,
   "id": "84a084f7",
   "metadata": {},
   "outputs": [
    {
     "data": {
      "text/plain": [
       "'this is My First Python programming class and I am learnING python string and its function'"
      ]
     },
     "execution_count": 152,
     "metadata": {},
     "output_type": "execute_result"
    }
   ],
   "source": [
    "a"
   ]
  },
  {
   "cell_type": "code",
   "execution_count": 153,
   "id": "3ada3c39",
   "metadata": {},
   "outputs": [
    {
     "data": {
      "text/plain": [
       "'h   r tnrrmglsnImenGyosi dtfco'"
      ]
     },
     "execution_count": 153,
     "metadata": {},
     "output_type": "execute_result"
    }
   ],
   "source": [
    "a[1:300:3]"
   ]
  },
  {
   "cell_type": "code",
   "execution_count": 154,
   "id": "6f7b2a37",
   "metadata": {},
   "outputs": [
    {
     "data": {
      "text/plain": [
       "'noitcnuf sti dna gnirts nohtyp GNInrael ma I dna ssalc gnimmargorp nohtyP tsriF yM si siht'"
      ]
     },
     "execution_count": 154,
     "metadata": {},
     "output_type": "execute_result"
    }
   ],
   "source": [
    "a[::-1]"
   ]
  },
  {
   "cell_type": "code",
   "execution_count": 155,
   "id": "8d8aaed3",
   "metadata": {},
   "outputs": [
    {
     "data": {
      "text/plain": [
       "'THIS IS MY FIRST PYTHON PROGRAMMING CLASS AND I AM LEARNING PYTHON STRING AND ITS FUNCTION'"
      ]
     },
     "execution_count": 155,
     "metadata": {},
     "output_type": "execute_result"
    }
   ],
   "source": [
    "a.upper()"
   ]
  },
  {
   "cell_type": "code",
   "execution_count": 156,
   "id": "74bbf845",
   "metadata": {},
   "outputs": [],
   "source": [
    "a=a.upper()"
   ]
  },
  {
   "cell_type": "code",
   "execution_count": 157,
   "id": "eaefdf8b",
   "metadata": {},
   "outputs": [
    {
     "data": {
      "text/plain": [
       "['THIS IS MY FIRST PYTHON PROGRAMMING CLASS ',\n",
       " ' I AM LEARNING PYTHON STRING ',\n",
       " ' ITS FUNCTION']"
      ]
     },
     "execution_count": 157,
     "metadata": {},
     "output_type": "execute_result"
    }
   ],
   "source": [
    "a.split(\"AND\")"
   ]
  },
  {
   "cell_type": "code",
   "execution_count": 158,
   "id": "d9b52eb2",
   "metadata": {},
   "outputs": [
    {
     "data": {
      "text/plain": [
       "'This is my first python programming class and i am learning python string and its function'"
      ]
     },
     "execution_count": 158,
     "metadata": {},
     "output_type": "execute_result"
    }
   ],
   "source": [
    "a.capitalize()"
   ]
  },
  {
   "cell_type": "code",
   "execution_count": 159,
   "id": "cd583a2f",
   "metadata": {},
   "outputs": [],
   "source": [
    "b = \"  ankit  \""
   ]
  },
  {
   "cell_type": "code",
   "execution_count": 161,
   "id": "d08ab02d",
   "metadata": {},
   "outputs": [
    {
     "data": {
      "text/plain": [
       "'ankit'"
      ]
     },
     "execution_count": 161,
     "metadata": {},
     "output_type": "execute_result"
    }
   ],
   "source": [
    "b.strip()\n"
   ]
  },
  {
   "cell_type": "code",
   "execution_count": 162,
   "id": "da26005b",
   "metadata": {},
   "outputs": [
    {
     "data": {
      "text/plain": [
       "'  ankit'"
      ]
     },
     "execution_count": 162,
     "metadata": {},
     "output_type": "execute_result"
    }
   ],
   "source": [
    "b.rstrip()"
   ]
  },
  {
   "cell_type": "code",
   "execution_count": 163,
   "id": "2dfa78d1",
   "metadata": {},
   "outputs": [
    {
     "data": {
      "text/plain": [
       "'ankit  '"
      ]
     },
     "execution_count": 163,
     "metadata": {},
     "output_type": "execute_result"
    }
   ],
   "source": [
    "b.lstrip()"
   ]
  },
  {
   "cell_type": "code",
   "execution_count": 166,
   "id": "f2247d9b",
   "metadata": {},
   "outputs": [],
   "source": [
    "a='/13'"
   ]
  },
  {
   "cell_type": "code",
   "execution_count": 167,
   "id": "d23bc387",
   "metadata": {},
   "outputs": [
    {
     "data": {
      "text/plain": [
       "False"
      ]
     },
     "execution_count": 167,
     "metadata": {},
     "output_type": "execute_result"
    }
   ],
   "source": [
    "q.isspace()"
   ]
  },
  {
   "cell_type": "code",
   "execution_count": 168,
   "id": "58ba4c85",
   "metadata": {},
   "outputs": [],
   "source": [
    "a = \"ankit\""
   ]
  },
  {
   "cell_type": "code",
   "execution_count": 169,
   "id": "86b29128",
   "metadata": {},
   "outputs": [],
   "source": [
    "a = reversed(a)"
   ]
  },
  {
   "cell_type": "code",
   "execution_count": 170,
   "id": "082307b9",
   "metadata": {},
   "outputs": [
    {
     "data": {
      "text/plain": [
       "<reversed at 0x1f7794c3d60>"
      ]
     },
     "execution_count": 170,
     "metadata": {},
     "output_type": "execute_result"
    }
   ],
   "source": [
    "a"
   ]
  },
  {
   "cell_type": "code",
   "execution_count": 171,
   "id": "9da28c40",
   "metadata": {},
   "outputs": [
    {
     "data": {
      "text/plain": [
       "'tikna'"
      ]
     },
     "execution_count": 171,
     "metadata": {},
     "output_type": "execute_result"
    }
   ],
   "source": [
    "\"\".join(a)"
   ]
  },
  {
   "cell_type": "code",
   "execution_count": 172,
   "id": "dc8ff457",
   "metadata": {},
   "outputs": [
    {
     "data": {
      "text/plain": [
       "''"
      ]
     },
     "execution_count": 172,
     "metadata": {},
     "output_type": "execute_result"
    }
   ],
   "source": [
    "\"\".join(a)"
   ]
  },
  {
   "cell_type": "code",
   "execution_count": 173,
   "id": "3566f99f",
   "metadata": {},
   "outputs": [],
   "source": [
    "a=\"ankit\""
   ]
  },
  {
   "cell_type": "code",
   "execution_count": 174,
   "id": "68c838ec",
   "metadata": {},
   "outputs": [
    {
     "data": {
      "text/plain": [
       "'anki'"
      ]
     },
     "execution_count": 174,
     "metadata": {},
     "output_type": "execute_result"
    }
   ],
   "source": [
    "a[0:-1]"
   ]
  },
  {
   "cell_type": "code",
   "execution_count": 175,
   "id": "29153282",
   "metadata": {},
   "outputs": [
    {
     "data": {
      "text/plain": [
       "'a'"
      ]
     },
     "execution_count": 175,
     "metadata": {},
     "output_type": "execute_result"
    }
   ],
   "source": [
    "a[0::-1]"
   ]
  },
  {
   "cell_type": "code",
   "execution_count": 8,
   "id": "7eebf9bd",
   "metadata": {},
   "outputs": [
    {
     "data": {
      "text/plain": [
       "'this is a and this is b'"
      ]
     },
     "execution_count": 8,
     "metadata": {},
     "output_type": "execute_result"
    }
   ],
   "source": [
    "\"this is {} and this is {}\".format(\"a\",\"b\")"
   ]
  },
  {
   "cell_type": "code",
   "execution_count": 9,
   "id": "d355be08",
   "metadata": {},
   "outputs": [
    {
     "data": {
      "text/plain": [
       "'this is b and this is a'"
      ]
     },
     "execution_count": 9,
     "metadata": {},
     "output_type": "execute_result"
    }
   ],
   "source": [
    "\"this is {} and this is {}\".format(\"b\",\"a\")"
   ]
  },
  {
   "cell_type": "code",
   "execution_count": 10,
   "id": "52222bc6",
   "metadata": {},
   "outputs": [
    {
     "data": {
      "text/plain": [
       "'this is b and this is a'"
      ]
     },
     "execution_count": 10,
     "metadata": {},
     "output_type": "execute_result"
    }
   ],
   "source": [
    "\"this is {a} and this is {b}\".format( b=\"a\",a = \"b\")"
   ]
  },
  {
   "cell_type": "code",
   "execution_count": null,
   "id": "94e6d115",
   "metadata": {},
   "outputs": [],
   "source": []
  }
 ],
 "metadata": {
  "kernelspec": {
   "display_name": "Python 3 (ipykernel)",
   "language": "python",
   "name": "python3"
  },
  "language_info": {
   "codemirror_mode": {
    "name": "ipython",
    "version": 3
   },
   "file_extension": ".py",
   "mimetype": "text/x-python",
   "name": "python",
   "nbconvert_exporter": "python",
   "pygments_lexer": "ipython3",
   "version": "3.9.12"
  }
 },
 "nbformat": 4,
 "nbformat_minor": 5
}
