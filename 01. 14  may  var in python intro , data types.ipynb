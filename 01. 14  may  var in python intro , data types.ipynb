{
 "cells": [
  {
   "cell_type": "code",
   "execution_count": 4,
   "id": "1660c05d",
   "metadata": {},
   "outputs": [
    {
     "data": {
      "text/plain": [
       "int"
      ]
     },
     "execution_count": 4,
     "metadata": {},
     "output_type": "execute_result"
    }
   ],
   "source": [
    "a=10\n",
    "type(a) "
   ]
  },
  {
   "cell_type": "markdown",
   "id": "f3d75953",
   "metadata": {},
   "source": [
    "\n",
    "to know the data type of a variable we use :    type(var_name)\n"
   ]
  },
  {
   "cell_type": "markdown",
   "id": "95f0f733",
   "metadata": {},
   "source": [
    "# Head"
   ]
  },
  {
   "cell_type": "code",
   "execution_count": 5,
   "id": "c557a3a7",
   "metadata": {},
   "outputs": [
    {
     "data": {
      "text/plain": [
       "float"
      ]
     },
     "execution_count": 5,
     "metadata": {},
     "output_type": "execute_result"
    }
   ],
   "source": [
    "b = 3.14\n",
    "type(b)"
   ]
  },
  {
   "cell_type": "code",
   "execution_count": 6,
   "id": "2bf5b7ea",
   "metadata": {},
   "outputs": [
    {
     "data": {
      "text/plain": [
       "str"
      ]
     },
     "execution_count": 6,
     "metadata": {},
     "output_type": "execute_result"
    }
   ],
   "source": [
    "c=\"Ankit Dubey\"\n",
    "type(c)"
   ]
  },
  {
   "cell_type": "code",
   "execution_count": 7,
   "id": "bacadc0e",
   "metadata": {},
   "outputs": [
    {
     "data": {
      "text/plain": [
       "str"
      ]
     },
     "execution_count": 7,
     "metadata": {},
     "output_type": "execute_result"
    }
   ],
   "source": [
    "d='Ankit'\n",
    "type(d)"
   ]
  },
  {
   "cell_type": "markdown",
   "id": "54b72306",
   "metadata": {},
   "source": [
    "Single quotes are used to mark a quote within a quote or a direct quote in a news story headline.\n",
    "example::::\n",
    "name = '\"Hi\" ABC'\n",
    "print(name)\n",
    "output::::\n",
    "Hi\" ABC\n",
    "A double quotation mark is to set off a direct (word-for-word) quotation. For example – “I hope you will be here,” he said. In Python Programming, we use Double Quotes for string representation\n",
    "Single Quotation Mark\t    Double Quotation Mark\n",
    "Represented as ‘ ‘    \t    Represented as ” “\n",
    "Single quotes for anything that behaves like an Identifier.\t                                   Double quotes generally we used for text.\n",
    "Single quotes are used for regular expressions, dict keys or SQL.\t                         Double quotes are used for string representation.\n",
    "Eg. ‘We “welcome” you.’\t       Eg. “Hello it’s me.”\n"
   ]
  },
  {
   "cell_type": "code",
   "execution_count": 8,
   "id": "9048b371",
   "metadata": {},
   "outputs": [
    {
     "data": {
      "text/plain": [
       "True"
      ]
     },
     "execution_count": 8,
     "metadata": {},
     "output_type": "execute_result"
    }
   ],
   "source": [
    "e = True\n",
    "e"
   ]
  },
  {
   "cell_type": "code",
   "execution_count": 9,
   "id": "29cf52b1",
   "metadata": {},
   "outputs": [
    {
     "data": {
      "text/plain": [
       "bool"
      ]
     },
     "execution_count": 9,
     "metadata": {},
     "output_type": "execute_result"
    }
   ],
   "source": [
    "type(e)"
   ]
  },
  {
   "cell_type": "code",
   "execution_count": 10,
   "id": "788808a7",
   "metadata": {},
   "outputs": [
    {
     "data": {
      "text/plain": [
       "bool"
      ]
     },
     "execution_count": 10,
     "metadata": {},
     "output_type": "execute_result"
    }
   ],
   "source": [
    "f=False\n",
    "type(f)"
   ]
  },
  {
   "cell_type": "code",
   "execution_count": 11,
   "id": "6e39d9b2",
   "metadata": {},
   "outputs": [
    {
     "data": {
      "text/plain": [
       "1"
      ]
     },
     "execution_count": 11,
     "metadata": {},
     "output_type": "execute_result"
    }
   ],
   "source": [
    "True-False"
   ]
  },
  {
   "cell_type": "markdown",
   "id": "37b7de05",
   "metadata": {},
   "source": [
    "by default True = 1\n",
    "and False = 0"
   ]
  },
  {
   "cell_type": "code",
   "execution_count": 13,
   "id": "55caa30a",
   "metadata": {},
   "outputs": [
    {
     "data": {
      "text/plain": [
       "0"
      ]
     },
     "execution_count": 13,
     "metadata": {},
     "output_type": "execute_result"
    }
   ],
   "source": [
    "True-True"
   ]
  },
  {
   "cell_type": "code",
   "execution_count": 14,
   "id": "fd411182",
   "metadata": {},
   "outputs": [
    {
     "data": {
      "text/plain": [
       "-1"
      ]
     },
     "execution_count": 14,
     "metadata": {},
     "output_type": "execute_result"
    }
   ],
   "source": [
    "False-True"
   ]
  },
  {
   "cell_type": "code",
   "execution_count": 15,
   "id": "fa97f0c3",
   "metadata": {},
   "outputs": [
    {
     "ename": "ZeroDivisionError",
     "evalue": "division by zero",
     "output_type": "error",
     "traceback": [
      "\u001b[1;31m---------------------------------------------------------------------------\u001b[0m",
      "\u001b[1;31mZeroDivisionError\u001b[0m                         Traceback (most recent call last)",
      "Input \u001b[1;32mIn [15]\u001b[0m, in \u001b[0;36m<cell line: 1>\u001b[1;34m()\u001b[0m\n\u001b[1;32m----> 1\u001b[0m \u001b[38;5;28;43;01mTrue\u001b[39;49;00m\u001b[38;5;241;43m/\u001b[39;49m\u001b[38;5;28;43;01mFalse\u001b[39;49;00m\n",
      "\u001b[1;31mZeroDivisionError\u001b[0m: division by zero"
     ]
    }
   ],
   "source": [
    "True/False"
   ]
  },
  {
   "cell_type": "markdown",
   "id": "98a12da1",
   "metadata": {},
   "source": [
    "inside numpy module (numerical python ) in that it will give inf i.e. infinity"
   ]
  },
  {
   "cell_type": "code",
   "execution_count": 17,
   "id": "ef1c382d",
   "metadata": {},
   "outputs": [],
   "source": [
    "n=5+7j"
   ]
  },
  {
   "cell_type": "markdown",
   "id": "e9bdc61c",
   "metadata": {},
   "source": [
    "j use hota hai complex numbers ko  denote karne ke liye python mei it is reserved for that \n"
   ]
  },
  {
   "cell_type": "code",
   "execution_count": 18,
   "id": "de279948",
   "metadata": {},
   "outputs": [
    {
     "data": {
      "text/plain": [
       "complex"
      ]
     },
     "execution_count": 18,
     "metadata": {},
     "output_type": "execute_result"
    }
   ],
   "source": [
    "type(n)"
   ]
  },
  {
   "cell_type": "code",
   "execution_count": 19,
   "id": "2792a9a7",
   "metadata": {},
   "outputs": [
    {
     "data": {
      "text/plain": [
       "(10+14j)"
      ]
     },
     "execution_count": 19,
     "metadata": {},
     "output_type": "execute_result"
    }
   ],
   "source": [
    "n+n"
   ]
  },
  {
   "cell_type": "markdown",
   "id": "91b08bd7",
   "metadata": {},
   "source": [
    " * to extract real and img part \n",
    " * also tab can be used to see all the options available"
   ]
  },
  {
   "cell_type": "code",
   "execution_count": 21,
   "id": "2fe4b49c",
   "metadata": {},
   "outputs": [
    {
     "data": {
      "text/plain": [
       "5.0"
      ]
     },
     "execution_count": 21,
     "metadata": {},
     "output_type": "execute_result"
    }
   ],
   "source": [
    "n.real"
   ]
  },
  {
   "cell_type": "code",
   "execution_count": 22,
   "id": "1de94f5d",
   "metadata": {},
   "outputs": [
    {
     "data": {
      "text/plain": [
       "<function complex.conjugate>"
      ]
     },
     "execution_count": 22,
     "metadata": {},
     "output_type": "execute_result"
    }
   ],
   "source": [
    "n.conjugate"
   ]
  },
  {
   "cell_type": "markdown",
   "id": "e8accf98",
   "metadata": {},
   "source": [
    "to know the definition of a function go to written function or keyword and press shift+tab to know about it "
   ]
  },
  {
   "cell_type": "markdown",
   "id": "dc3529a6",
   "metadata": {},
   "source": [
    "list variable is ues to store a list , can store any amount of data ....uses square Bracket"
   ]
  },
  {
   "cell_type": "code",
   "execution_count": 23,
   "id": "192af4ce",
   "metadata": {},
   "outputs": [],
   "source": [
    "a = [1,2,\"andy\", True , 1+3j]"
   ]
  },
  {
   "cell_type": "code",
   "execution_count": 24,
   "id": "3f7fee67",
   "metadata": {},
   "outputs": [
    {
     "data": {
      "text/plain": [
       "list"
      ]
     },
     "execution_count": 24,
     "metadata": {},
     "output_type": "execute_result"
    }
   ],
   "source": [
    "type(a)"
   ]
  },
  {
   "cell_type": "markdown",
   "id": "a9814e57",
   "metadata": {},
   "source": [
    "list stores a data index wise starting from 0 to n-1 "
   ]
  },
  {
   "cell_type": "code",
   "execution_count": 25,
   "id": "6c1f5c77",
   "metadata": {},
   "outputs": [
    {
     "data": {
      "text/plain": [
       "'andy'"
      ]
     },
     "execution_count": 25,
     "metadata": {},
     "output_type": "execute_result"
    }
   ],
   "source": [
    "a[2]"
   ]
  },
  {
   "cell_type": "code",
   "execution_count": 26,
   "id": "59e12180",
   "metadata": {},
   "outputs": [
    {
     "data": {
      "text/plain": [
       "1"
      ]
     },
     "execution_count": 26,
     "metadata": {},
     "output_type": "execute_result"
    }
   ],
   "source": [
    "a[0]"
   ]
  },
  {
   "cell_type": "code",
   "execution_count": 27,
   "id": "d3d53a51",
   "metadata": {},
   "outputs": [
    {
     "data": {
      "text/plain": [
       "[1, 2, 'andy', True, (1+3j)]"
      ]
     },
     "execution_count": 27,
     "metadata": {},
     "output_type": "execute_result"
    }
   ],
   "source": [
    "a"
   ]
  },
  {
   "cell_type": "markdown",
   "id": "08ea64cf",
   "metadata": {},
   "source": [
    "there is another variable tuples similar to list it's notation is normal brackets(round)\n"
   ]
  },
  {
   "cell_type": "code",
   "execution_count": 28,
   "id": "49a253be",
   "metadata": {},
   "outputs": [
    {
     "data": {
      "text/plain": [
       "tuple"
      ]
     },
     "execution_count": 28,
     "metadata": {},
     "output_type": "execute_result"
    }
   ],
   "source": [
    "b = (1,\"Ankit\",2+0j)\n",
    "type(b)"
   ]
  },
  {
   "cell_type": "raw",
   "id": "94758a33",
   "metadata": {},
   "source": [
    "Dictionary variable: "
   ]
  },
  {
   "cell_type": "code",
   "execution_count": 33,
   "id": "8a84f8aa",
   "metadata": {},
   "outputs": [
    {
     "data": {
      "text/plain": [
       "dict"
      ]
     },
     "execution_count": 33,
     "metadata": {},
     "output_type": "execute_result"
    }
   ],
   "source": [
    "c = {'a' : \"Ankit\" , 'b' : \"abcd\" , 'c' : 123}\n",
    "type(c)"
   ]
  },
  {
   "cell_type": "markdown",
   "id": "1925744b",
   "metadata": {},
   "source": [
    "it has a key and a value so key pair principle"
   ]
  },
  {
   "cell_type": "code",
   "execution_count": 36,
   "id": "fd4f7072",
   "metadata": {},
   "outputs": [],
   "source": [
    "e = {54}"
   ]
  },
  {
   "cell_type": "code",
   "execution_count": 37,
   "id": "972f01f4",
   "metadata": {},
   "outputs": [
    {
     "data": {
      "text/plain": [
       "set"
      ]
     },
     "execution_count": 37,
     "metadata": {},
     "output_type": "execute_result"
    }
   ],
   "source": [
    "type(e)"
   ]
  },
  {
   "cell_type": "code",
   "execution_count": null,
   "id": "44e75623",
   "metadata": {},
   "outputs": [],
   "source": []
  }
 ],
 "metadata": {
  "kernelspec": {
   "display_name": "Python 3 (ipykernel)",
   "language": "python",
   "name": "python3"
  },
  "language_info": {
   "codemirror_mode": {
    "name": "ipython",
    "version": 3
   },
   "file_extension": ".py",
   "mimetype": "text/x-python",
   "name": "python",
   "nbconvert_exporter": "python",
   "pygments_lexer": "ipython3",
   "version": "3.9.12"
  }
 },
 "nbformat": 4,
 "nbformat_minor": 5
}
