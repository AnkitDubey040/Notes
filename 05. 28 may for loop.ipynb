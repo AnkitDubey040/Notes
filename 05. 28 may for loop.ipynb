{
 "cells": [
  {
   "cell_type": "code",
   "execution_count": 32,
   "id": "c6f3d77c",
   "metadata": {},
   "outputs": [
    {
     "name": "stdout",
     "output_type": "stream",
     "text": [
      "a\n",
      "n\n",
      "k\n",
      "i\n",
      "t\n"
     ]
    }
   ],
   "source": [
    "a = \"ankit\"\n",
    "for i in a :\n",
    "    print(i)"
   ]
  },
  {
   "cell_type": "code",
   "execution_count": 33,
   "id": "e7158a74",
   "metadata": {},
   "outputs": [],
   "source": [
    "a=\"ankit\"\n",
    "for i in a :\n",
    "    pass \n",
    "#to do nothing"
   ]
  },
  {
   "cell_type": "code",
   "execution_count": 34,
   "id": "868d515d",
   "metadata": {},
   "outputs": [
    {
     "name": "stdout",
     "output_type": "stream",
     "text": [
      "1\n",
      "2\n",
      "3\n",
      "executed when for is complete\n"
     ]
    }
   ],
   "source": [
    "## for and else\n",
    "#the else block will run only when for loop is going to exhaust itself\n",
    "a = [1,2,3]\n",
    "for i in a :\n",
    "    print(i)\n",
    "else :\n",
    "    print(\"executed when for is complete\")"
   ]
  },
  {
   "cell_type": "code",
   "execution_count": 35,
   "id": "71a12414",
   "metadata": {},
   "outputs": [
    {
     "name": "stdout",
     "output_type": "stream",
     "text": [
      "1\n",
      "2\n",
      "3\n"
     ]
    }
   ],
   "source": [
    "a = [1,2,3,4,5,\"andy\"]\n",
    "for i in a :\n",
    "    if i == 4:\n",
    "        break\n",
    "    print(i)\n",
    "else :\n",
    "    print(\"executed when for is complete\")"
   ]
  },
  {
   "cell_type": "code",
   "execution_count": 36,
   "id": "3aaeea69",
   "metadata": {},
   "outputs": [
    {
     "name": "stdout",
     "output_type": "stream",
     "text": [
      "1\n",
      "2\n",
      "3\n",
      "4\n",
      "5\n",
      "andy\n",
      "executed when for is complete\n"
     ]
    }
   ],
   "source": [
    "a = [1,2,3,4,5,\"andy\"]\n",
    "for i in a :\n",
    "    if i == 6:\n",
    "        break\n",
    "    print(i)\n",
    "else :\n",
    "    print(\"executed when for is complete\")"
   ]
  },
  {
   "cell_type": "markdown",
   "id": "ee2fa1af",
   "metadata": {},
   "source": [
    "***...\n",
    "for loop in tuples ,set , dict :\n",
    "***..."
   ]
  },
  {
   "cell_type": "code",
   "execution_count": 37,
   "id": "48c0c7e5",
   "metadata": {},
   "outputs": [
    {
     "name": "stdout",
     "output_type": "stream",
     "text": [
      "1\n",
      "2\n",
      "andy\n",
      "4\n",
      "(4+6j)\n"
     ]
    }
   ],
   "source": [
    "t = (1,2,\"andy\",4,4+6j)\n",
    "for i in t :\n",
    "    print(i)"
   ]
  },
  {
   "cell_type": "code",
   "execution_count": 38,
   "id": "62c31046",
   "metadata": {},
   "outputs": [],
   "source": [
    "s = {11,1,2,1,34,2,4,2,45,6,6,7,4,4,2,3,5}"
   ]
  },
  {
   "cell_type": "code",
   "execution_count": 39,
   "id": "f8fd92a5",
   "metadata": {},
   "outputs": [
    {
     "data": {
      "text/plain": [
       "set"
      ]
     },
     "execution_count": 39,
     "metadata": {},
     "output_type": "execute_result"
    }
   ],
   "source": [
    "type(s)"
   ]
  },
  {
   "cell_type": "code",
   "execution_count": 40,
   "id": "b43a0c28",
   "metadata": {},
   "outputs": [
    {
     "data": {
      "text/plain": [
       "{1, 2, 3, 4, 5, 6, 7, 11, 34, 45}"
      ]
     },
     "execution_count": 40,
     "metadata": {},
     "output_type": "execute_result"
    }
   ],
   "source": [
    "s"
   ]
  },
  {
   "cell_type": "code",
   "execution_count": 41,
   "id": "72b86e05",
   "metadata": {},
   "outputs": [
    {
     "name": "stdout",
     "output_type": "stream",
     "text": [
      "1\n",
      "2\n",
      "3\n",
      "34\n",
      "4\n",
      "6\n",
      "7\n",
      "5\n",
      "11\n",
      "45\n"
     ]
    }
   ],
   "source": [
    "for i in s :\n",
    "    print(i)"
   ]
  },
  {
   "cell_type": "code",
   "execution_count": 42,
   "id": "80c6e124",
   "metadata": {},
   "outputs": [
    {
     "name": "stdout",
     "output_type": "stream",
     "text": [
      "1\n",
      "key1\n",
      "a\n"
     ]
    }
   ],
   "source": [
    "d = {1 : \"andy\" , \"key1\" : \"ankit\" , \"a\": 232}\n",
    "for i in d:\n",
    "    print(i)"
   ]
  },
  {
   "cell_type": "code",
   "execution_count": 43,
   "id": "bf3d6ec4",
   "metadata": {},
   "outputs": [
    {
     "data": {
      "text/plain": [
       "'andy'"
      ]
     },
     "execution_count": 43,
     "metadata": {},
     "output_type": "execute_result"
    }
   ],
   "source": [
    "d[1]"
   ]
  },
  {
   "cell_type": "code",
   "execution_count": 44,
   "id": "5362207d",
   "metadata": {},
   "outputs": [
    {
     "name": "stdout",
     "output_type": "stream",
     "text": [
      "andy\n",
      "ankit\n",
      "232\n"
     ]
    }
   ],
   "source": [
    "for i in d :\n",
    "    print(d[i])"
   ]
  },
  {
   "cell_type": "code",
   "execution_count": 45,
   "id": "00b89f58",
   "metadata": {},
   "outputs": [
    {
     "name": "stdout",
     "output_type": "stream",
     "text": [
      "1 : andy\n",
      "key1 : ankit\n",
      "a : 232\n"
     ]
    }
   ],
   "source": [
    "for i in d:\n",
    "    print(i , \":\" , d[i] )"
   ]
  },
  {
   "cell_type": "code",
   "execution_count": 46,
   "id": "24ab8be1",
   "metadata": {},
   "outputs": [
    {
     "data": {
      "text/plain": [
       "range(0, 12)"
      ]
     },
     "execution_count": 46,
     "metadata": {},
     "output_type": "execute_result"
    }
   ],
   "source": [
    "range(12)\n"
   ]
  },
  {
   "cell_type": "code",
   "execution_count": 47,
   "id": "00da99d9",
   "metadata": {},
   "outputs": [
    {
     "data": {
      "text/plain": [
       "[0, 1, 2, 3, 4, 5, 6, 7, 8, 9, 10, 11]"
      ]
     },
     "execution_count": 47,
     "metadata": {},
     "output_type": "execute_result"
    }
   ],
   "source": [
    "list(range(12))"
   ]
  },
  {
   "cell_type": "code",
   "execution_count": 48,
   "id": "0c869498",
   "metadata": {},
   "outputs": [
    {
     "data": {
      "text/plain": [
       "range(2, 14, 3)"
      ]
     },
     "execution_count": 48,
     "metadata": {},
     "output_type": "execute_result"
    }
   ],
   "source": [
    "range(2,14,3)"
   ]
  },
  {
   "cell_type": "code",
   "execution_count": 49,
   "id": "0e0af667",
   "metadata": {},
   "outputs": [
    {
     "data": {
      "text/plain": [
       "[2, 5, 8, 11]"
      ]
     },
     "execution_count": 49,
     "metadata": {},
     "output_type": "execute_result"
    }
   ],
   "source": [
    "list(range(2,14,3)) \n",
    "# 2 is starting pt , 14 is end pt and 3 is step\n",
    "# by default step size is +1"
   ]
  },
  {
   "cell_type": "code",
   "execution_count": 50,
   "id": "c1fd362b",
   "metadata": {},
   "outputs": [
    {
     "data": {
      "text/plain": [
       "[]"
      ]
     },
     "execution_count": 50,
     "metadata": {},
     "output_type": "execute_result"
    }
   ],
   "source": [
    "list(range(0,5,-1))"
   ]
  },
  {
   "cell_type": "code",
   "execution_count": 51,
   "id": "e16d0b66",
   "metadata": {},
   "outputs": [
    {
     "data": {
      "text/plain": [
       "[8, 6, 4]"
      ]
     },
     "execution_count": 51,
     "metadata": {},
     "output_type": "execute_result"
    }
   ],
   "source": [
    "list(range(8,2,-2))"
   ]
  },
  {
   "cell_type": "code",
   "execution_count": 52,
   "id": "f27e5985",
   "metadata": {},
   "outputs": [
    {
     "name": "stdout",
     "output_type": "stream",
     "text": [
      "ankit \n",
      "\n",
      "ankit ankit \n",
      "\n",
      "ankit ankit ankit \n",
      "\n",
      "ankit ankit ankit ankit \n",
      "\n",
      "ankit ankit ankit ankit ankit \n",
      "\n"
     ]
    }
   ],
   "source": [
    "for i in range(5):\n",
    "    for j in range (0,i+1):\n",
    "        print(\"ankit\", end =\" \")\n",
    "    print(\"\\n\")"
   ]
  },
  {
   "cell_type": "code",
   "execution_count": 85,
   "id": "ae84b545",
   "metadata": {},
   "outputs": [
    {
     "name": "stdout",
     "output_type": "stream",
     "text": [
      "      andy  \n",
      "\n",
      "    andy   andy  \n",
      "\n",
      "  andy   andy   andy  \n",
      "\n"
     ]
    }
   ],
   "source": [
    "##impo ?????????\n",
    "n = 3\n",
    "k=n\n",
    "for i in range (n):\n",
    "    k=k-1\n",
    "    print( \"  \" * k  , end = \" \" ) \n",
    "    for j in range(i+1):\n",
    "        print(\" andy \" , end =\" \")\n",
    "    print(\"\\n\")    \n",
    " "
   ]
  },
  {
   "cell_type": "code",
   "execution_count": 90,
   "id": "1b3520bd",
   "metadata": {},
   "outputs": [
    {
     "data": {
      "text/plain": [
       "0"
      ]
     },
     "execution_count": 90,
     "metadata": {},
     "output_type": "execute_result"
    }
   ],
   "source": [
    "t =(0,23,23,4,5,56,2,4,)\n",
    "t[0]"
   ]
  },
  {
   "cell_type": "code",
   "execution_count": 93,
   "id": "b878b6e9",
   "metadata": {},
   "outputs": [
    {
     "name": "stdout",
     "output_type": "stream",
     "text": [
      "0 0\n",
      "1 23\n",
      "1 23\n",
      "3 4\n",
      "4 5\n",
      "5 56\n",
      "6 2\n",
      "3 4\n"
     ]
    }
   ],
   "source": [
    "for i in t:\n",
    "    print( t.index(i) , i)"
   ]
  },
  {
   "cell_type": "code",
   "execution_count": 94,
   "id": "ab607a06",
   "metadata": {},
   "outputs": [
    {
     "name": "stdout",
     "output_type": "stream",
     "text": [
      "0 0\n",
      "1 23\n",
      "2 23\n",
      "3 4\n",
      "4 5\n",
      "5 56\n",
      "6 2\n",
      "7 4\n"
     ]
    }
   ],
   "source": [
    "#alternate way for the above problem :\n",
    "for i in range(len(t)):\n",
    "    print(i,t[i])"
   ]
  },
  {
   "cell_type": "code",
   "execution_count": 95,
   "id": "e164afc2",
   "metadata": {},
   "outputs": [
    {
     "name": "stdout",
     "output_type": "stream",
     "text": [
      "0 a\n",
      "1 n\n",
      "2 k\n",
      "3 i\n",
      "4 t\n"
     ]
    }
   ],
   "source": [
    "a = \"ankit\"\n",
    "for i in range(len(a)) :\n",
    "    print(i,a[i])"
   ]
  },
  {
   "cell_type": "code",
   "execution_count": 128,
   "id": "45eb804f",
   "metadata": {},
   "outputs": [
    {
     "name": "stdout",
     "output_type": "stream",
     "text": [
      "4 t\n",
      "3 i\n",
      "2 k\n",
      "1 n\n",
      "0 a\n"
     ]
    }
   ],
   "source": [
    "a = \"ankit\"\n",
    "for i in range(len(a)-1,-1,-1):\n",
    "    print(i,a[i])"
   ]
  },
  {
   "cell_type": "code",
   "execution_count": 129,
   "id": "ceece2e4",
   "metadata": {},
   "outputs": [
    {
     "data": {
      "text/plain": [
       "{1: 'andy', 'key1': 'ankit', 'a': 232}"
      ]
     },
     "execution_count": 129,
     "metadata": {},
     "output_type": "execute_result"
    }
   ],
   "source": [
    "d"
   ]
  },
  {
   "cell_type": "code",
   "execution_count": 130,
   "id": "309b9f25",
   "metadata": {},
   "outputs": [
    {
     "data": {
      "text/plain": [
       "dict_items([(1, 'andy'), ('key1', 'ankit'), ('a', 232)])"
      ]
     },
     "execution_count": 130,
     "metadata": {},
     "output_type": "execute_result"
    }
   ],
   "source": [
    "d.items()"
   ]
  },
  {
   "cell_type": "code",
   "execution_count": 138,
   "id": "e62c7b72",
   "metadata": {},
   "outputs": [
    {
     "name": "stdout",
     "output_type": "stream",
     "text": [
      "(1, 'andy') <class 'tuple'> <class 'str'>\n",
      "('key1', 'ankit') <class 'tuple'> <class 'str'>\n",
      "('a', 232) <class 'tuple'> <class 'int'>\n"
     ]
    }
   ],
   "source": [
    "for i in d.items():\n",
    "    print(i,type(i),type(i[1]))"
   ]
  },
  {
   "cell_type": "code",
   "execution_count": 139,
   "id": "c3ecaf9b",
   "metadata": {},
   "outputs": [],
   "source": [
    "l = {\"abc\" , \"def\",122131 , \"ghi@ineuron.ai\",324,34324}\n",
    "l1= []\n",
    "for i in l :\n",
    "    if type(i) == int :\n",
    "        l1.append(i)"
   ]
  },
  {
   "cell_type": "code",
   "execution_count": 140,
   "id": "fe541a52",
   "metadata": {},
   "outputs": [
    {
     "data": {
      "text/plain": [
       "[324, 122131, 34324]"
      ]
     },
     "execution_count": 140,
     "metadata": {},
     "output_type": "execute_result"
    }
   ],
   "source": [
    "l1"
   ]
  },
  {
   "cell_type": "code",
   "execution_count": 141,
   "id": "d9decb2b",
   "metadata": {},
   "outputs": [],
   "source": [
    "d = {1: 3345345  , \"name\" : \"sudh\" , \"email_id\" : \"sudhanshu@ineuron.ai\" , 234 : \"fsfddsf\" , \"43\" : \"sfsaf\" , 234 : \"3454\"}"
   ]
  },
  {
   "cell_type": "code",
   "execution_count": 142,
   "id": "dd6651f5",
   "metadata": {},
   "outputs": [
    {
     "data": {
      "text/plain": [
       "dict_keys([1, 'name', 'email_id', 234, '43'])"
      ]
     },
     "execution_count": 142,
     "metadata": {},
     "output_type": "execute_result"
    }
   ],
   "source": [
    "d.keys()"
   ]
  },
  {
   "cell_type": "code",
   "execution_count": 144,
   "id": "f711f99f",
   "metadata": {},
   "outputs": [
    {
     "name": "stdout",
     "output_type": "stream",
     "text": [
      "1 : 3345345\n",
      "234 : 3454\n"
     ]
    }
   ],
   "source": [
    "for i in d :\n",
    "    if type(i) == int:\n",
    "        print(i , \":\" , d[i])\n",
    "        "
   ]
  },
  {
   "cell_type": "code",
   "execution_count": 145,
   "id": "5fc19568",
   "metadata": {},
   "outputs": [],
   "source": [
    "s = \"aaaabbbbccccccdddd\""
   ]
  },
  {
   "cell_type": "code",
   "execution_count": 148,
   "id": "5d0287c8",
   "metadata": {},
   "outputs": [
    {
     "name": "stdout",
     "output_type": "stream",
     "text": [
      "a  :  4\n",
      "a  :  4\n",
      "a  :  4\n",
      "a  :  4\n",
      "b  :  4\n",
      "b  :  4\n",
      "b  :  4\n",
      "b  :  4\n",
      "c  :  6\n",
      "c  :  6\n",
      "c  :  6\n",
      "c  :  6\n",
      "c  :  6\n",
      "c  :  6\n",
      "d  :  4\n",
      "d  :  4\n",
      "d  :  4\n",
      "d  :  4\n"
     ]
    }
   ],
   "source": [
    "\n",
    "##wrong output\n",
    "for i in s :\n",
    "    if i == \"a\":\n",
    "        print(\"a\" ,\" : \", s.count(i))\n",
    "    elif i == \"b\" :\n",
    "        print(\"b\" ,\" : \", s.count(i))\n",
    "    elif i == \"c\" :\n",
    "        print(\"c\" ,\" : \", s.count(i))\n",
    "    elif i == \"d\" :\n",
    "        print(\"d\" ,\" : \", s.count(i))"
   ]
  },
  {
   "cell_type": "code",
   "execution_count": 149,
   "id": "cb3ce69d",
   "metadata": {},
   "outputs": [
    {
     "name": "stdout",
     "output_type": "stream",
     "text": [
      "d   4\n",
      "b   4\n",
      "c   6\n",
      "a   4\n"
     ]
    }
   ],
   "source": [
    "for i in set(s) :\n",
    "    print(i, \" \" , s.count(i))"
   ]
  },
  {
   "cell_type": "code",
   "execution_count": 150,
   "id": "dcf22a03",
   "metadata": {},
   "outputs": [
    {
     "data": {
      "text/plain": [
       "2"
      ]
     },
     "execution_count": 150,
     "metadata": {},
     "output_type": "execute_result"
    }
   ],
   "source": [
    "s.count(\"aa\")"
   ]
  },
  {
   "cell_type": "code",
   "execution_count": 155,
   "id": "93c1c243",
   "metadata": {},
   "outputs": [
    {
     "name": "stdout",
     "output_type": "stream",
     "text": [
      "2 <class 'int'>\n",
      "3 <class 'int'>\n",
      "4 <class 'int'>\n",
      "2 <class 'int'>\n",
      "3 <class 'int'>\n",
      "4 <class 'int'>\n",
      "3 <class 'int'>\n",
      "2 <class 'int'>\n",
      "4 <class 'int'>\n",
      "2 <class 'int'>\n",
      "4 <class 'int'>\n"
     ]
    }
   ],
   "source": [
    "t = 23423432424 \n",
    "for i in str(t) :\n",
    "    print(int(i),type(int(i)))\n"
   ]
  },
  {
   "cell_type": "code",
   "execution_count": 189,
   "id": "709a0fa3",
   "metadata": {},
   "outputs": [],
   "source": [
    "t = (\"sud33h\" , \"kum3ar\" ,[1,2,3,4,5] , (3,4,5,6) , {3:3 , \"key2\" :\"kumar\", 3 : \"andy\"})"
   ]
  },
  {
   "cell_type": "code",
   "execution_count": 190,
   "id": "030c72b5",
   "metadata": {},
   "outputs": [
    {
     "data": {
      "text/plain": [
       "tuple"
      ]
     },
     "execution_count": 190,
     "metadata": {},
     "output_type": "execute_result"
    }
   ],
   "source": [
    "type(t)"
   ]
  },
  {
   "cell_type": "code",
   "execution_count": 194,
   "id": "842c63d7",
   "metadata": {},
   "outputs": [
    {
     "name": "stdout",
     "output_type": "stream",
     "text": [
      "for str :  3\n",
      "for str :  3\n",
      "for str :  3\n",
      "for list and tup :  3\n",
      "for list and tup :  3\n",
      "for dict :  3  :  andy\n"
     ]
    }
   ],
   "source": [
    "###isme dono 3 wale kaise karein print ??????\n",
    "for i in t :\n",
    "    if type(i) == str:\n",
    "        for j in i:\n",
    "            if j == \"3\" :\n",
    "                print(\"for str : \" , j)\n",
    "    if type(i) == list or type(i) == tuple :\n",
    "        for j in i :\n",
    "            if j == 3 :\n",
    "                print(\"for list and tup : \", j)\n",
    "    if type(i) == dict :\n",
    "        for j  in i :\n",
    "            if j == 3   :\n",
    "                print(\"for dict : \" , j  ,\" : \" ,   i[j] )\n",
    "            \n",
    "            \n",
    "        \n",
    "    "
   ]
  },
  {
   "cell_type": "code",
   "execution_count": 195,
   "id": "c42bdfeb",
   "metadata": {},
   "outputs": [],
   "source": [
    "# assignment \n",
    "a = 10 \n",
    "b = 20\n",
    "c = 30 \n",
    "\n",
    "# or \n",
    "\n",
    "a , b , c = 10 , 20 , 30 \n",
    "\n",
    "# or \n",
    "\n",
    "a,b,c = (10,20,30)"
   ]
  },
  {
   "cell_type": "code",
   "execution_count": 205,
   "id": "a9b8584d",
   "metadata": {},
   "outputs": [
    {
     "name": "stdout",
     "output_type": "stream",
     "text": [
      "\n",
      "\n",
      "ineuron \n",
      "\n",
      "ineuron ineuron \n",
      "\n",
      "ineuron ineuron ineuron \n",
      "\n",
      "ineuron ineuron ineuron ineuron \n",
      "\n"
     ]
    }
   ],
   "source": [
    "for i in range(5):\n",
    "    for j in range(i):\n",
    "        print(\"ineuron\" , end = \" \")\n",
    "    print(\"\\n\")"
   ]
  },
  {
   "cell_type": "code",
   "execution_count": 216,
   "id": "0723f712",
   "metadata": {},
   "outputs": [
    {
     "name": "stdout",
     "output_type": "stream",
     "text": [
      " -- -- ----*ineuron* \n",
      "\n",
      " -- ----*ineuron* *ineuron* \n",
      "\n",
      " ----*ineuron* *ineuron* *ineuron* \n",
      "\n",
      "--*ineuron* *ineuron* *ineuron* *ineuron* \n",
      "\n"
     ]
    }
   ],
   "source": [
    "##\n",
    "##q2 of task ?????????????????????\n",
    "##\n",
    "\n",
    "n = 4\n",
    "k=n\n",
    "for i in range(n):\n",
    "    k=k-1\n",
    "    print(\" --\"* k , end = \"--\" )\n",
    "    for j in range(i+1):\n",
    "        print(\"*ineuron*\",end=\" \")\n",
    "    print(\"\\n\")"
   ]
  },
  {
   "cell_type": "code",
   "execution_count": 217,
   "id": "356e6949",
   "metadata": {},
   "outputs": [],
   "source": [
    "l = [[1,2,3,4] , (2,3,4,5,6) , (3,4,5,6,7) , set([23,4,5,45,4,4,5,45,45,4,5]) , {'k1' :\"sudh\" , \"k2\" : \"ineuron\",\"k3\":\n",
    "            \"kumar\" , 3:6 , 7:8} , [\"ineuron\" , \"data science \"]]"
   ]
  },
  {
   "cell_type": "code",
   "execution_count": 231,
   "id": "517905ea",
   "metadata": {},
   "outputs": [
    {
     "name": "stdout",
     "output_type": "stream",
     "text": [
      "[1, 2, 3, 4]\n",
      "1\n",
      "2\n",
      "3\n",
      "4\n",
      "['ineuron', 'data science ']\n",
      "ineuron\n",
      "data science \n"
     ]
    }
   ],
   "source": [
    "for i in l:\n",
    "    if type(i) == list:\n",
    "        print(i)\n",
    "        for j in range(len(i)):\n",
    "            print(i[j])\n",
    "        "
   ]
  },
  {
   "cell_type": "code",
   "execution_count": 223,
   "id": "86e44caa",
   "metadata": {},
   "outputs": [
    {
     "name": "stdout",
     "output_type": "stream",
     "text": [
      "{'k1': 'sudh', 'k2': 'ineuron', 'k3': 'kumar', 3: 6, 7: 8}\n",
      "k1  :  sudh\n",
      "k2  :  ineuron\n",
      "k3  :  kumar\n",
      "3  :  6\n",
      "7  :  8\n"
     ]
    }
   ],
   "source": [
    "for i in l:\n",
    "    if type(i) == dict:\n",
    "        print(i)\n",
    "        for j in i:\n",
    "            print(j , \" : \" , i[j])\n",
    "        \n",
    "        "
   ]
  },
  {
   "cell_type": "code",
   "execution_count": 233,
   "id": "d5b38f3a",
   "metadata": {},
   "outputs": [
    {
     "name": "stdout",
     "output_type": "stream",
     "text": [
      "(2, 3, 4, 5, 6)\n",
      "2\n",
      "3\n",
      "4\n",
      "5\n",
      "6\n",
      "(3, 4, 5, 6, 7)\n",
      "3\n",
      "4\n",
      "5\n",
      "6\n",
      "7\n"
     ]
    }
   ],
   "source": [
    "for i in l:\n",
    "    if type(i) == tuple:\n",
    "        print(i)\n",
    "        for j in range(len(i)):\n",
    "            print(i[j])"
   ]
  },
  {
   "cell_type": "code",
   "execution_count": 237,
   "id": "d5bc4a54",
   "metadata": {},
   "outputs": [
    {
     "name": "stdout",
     "output_type": "stream",
     "text": [
      "{'k1': 'sudh', 'k2': 'ineuron', 'k3': 'kumar', 3: 6, 7: 8}\n",
      "3  :  6\n",
      "7  :  8\n"
     ]
    }
   ],
   "source": [
    "for i in l:\n",
    "    if type(i) == dict:\n",
    "        print(i)\n",
    "        for j in i:\n",
    "            if type(j) == int: \n",
    "                print(j , \" : \" , i[j])\n",
    "        "
   ]
  },
  {
   "cell_type": "code",
   "execution_count": 265,
   "id": "47fff2ad",
   "metadata": {},
   "outputs": [
    {
     "data": {
      "text/plain": [
       "[[1, 2, 3, 4],\n",
       " (2, 3, 4, 5, 6),\n",
       " (3, 4, 5, 6, 7),\n",
       " {4, 5, 23, 45},\n",
       " {'k1': 'sudh', 'k2': 'ineuron', 'k3': 'kumar', 3: 6, 7: 8},\n",
       " ['ineuron', 'data science ']]"
      ]
     },
     "execution_count": 265,
     "metadata": {},
     "output_type": "execute_result"
    }
   ],
   "source": [
    "l"
   ]
  },
  {
   "cell_type": "code",
   "execution_count": 266,
   "id": "59e97027",
   "metadata": {},
   "outputs": [
    {
     "data": {
      "text/plain": [
       "'ineuron'"
      ]
     },
     "execution_count": 266,
     "metadata": {},
     "output_type": "execute_result"
    }
   ],
   "source": [
    "l[4][\"k2\"]"
   ]
  },
  {
   "cell_type": "code",
   "execution_count": 267,
   "id": "12d1ca44",
   "metadata": {},
   "outputs": [
    {
     "data": {
      "text/plain": [
       "dict_keys(['k1', 'k2', 'k3', 3, 7])"
      ]
     },
     "execution_count": 267,
     "metadata": {},
     "output_type": "execute_result"
    }
   ],
   "source": [
    "l[4].keys()"
   ]
  },
  {
   "cell_type": "code",
   "execution_count": 268,
   "id": "b8c599ab",
   "metadata": {},
   "outputs": [
    {
     "name": "stdout",
     "output_type": "stream",
     "text": [
      "{'k1': 'sudh', 'k2': 'ineuron', 'k3': 'kumar', 3: 6, 7: 8}\n",
      "k1\n",
      "k2\n",
      "k3\n",
      "3\n",
      "7\n"
     ]
    }
   ],
   "source": [
    "for i in l :\n",
    "    if type(i) ==  dict :\n",
    "        print(i)\n",
    "        for j in i :\n",
    "            print(j)\n",
    "            "
   ]
  },
  {
   "cell_type": "code",
   "execution_count": 288,
   "id": "a3a97297",
   "metadata": {},
   "outputs": [
    {
     "data": {
      "text/plain": [
       "[1,\n",
       " 2,\n",
       " 3,\n",
       " 4,\n",
       " 2,\n",
       " 3,\n",
       " 4,\n",
       " 5,\n",
       " 6,\n",
       " 3,\n",
       " 4,\n",
       " 5,\n",
       " 6,\n",
       " 7,\n",
       " 45,\n",
       " 4,\n",
       " 5,\n",
       " 23,\n",
       " 'k1',\n",
       " 'k2',\n",
       " 'k3',\n",
       " 3,\n",
       " 7,\n",
       " 'ineuron',\n",
       " 'data science ']"
      ]
     },
     "execution_count": 288,
     "metadata": {},
     "output_type": "execute_result"
    }
   ],
   "source": [
    "l = [[1,2,3,4] , (2,3,4,5,6) , (3,4,5,6,7) , set([23,4,5,45,4,4,5,45,45,4,5]) , {'k1' :\"sudh\" , \"k2\" : \"ineuron\",\"k3\":\n",
    "            \"kumar\" , 3:6 , 7:8} , [\"ineuron\" , \"data science \"]]\n",
    "l1=[]\n",
    "for i in l:\n",
    "    for j in i :\n",
    "        if type(i) == list:\n",
    "            l1.append(j)\n",
    "        if type(i) == dict:\n",
    "            l1.append(j)\n",
    "        if type(i) == tuple:\n",
    "            l1.append(j)\n",
    "        if type(i) == set:\n",
    "            l1.append(j)\n",
    "             \n",
    "    \n",
    "l1\n",
    "\n",
    "        "
   ]
  },
  {
   "cell_type": "code",
   "execution_count": 276,
   "id": "d5ad53c9",
   "metadata": {},
   "outputs": [
    {
     "data": {
      "text/plain": [
       "[[1, 2, 3, 4],\n",
       " [2, 3, 4, 5, 6],\n",
       " [3, 4, 5, 6, 7],\n",
       " [45, 4, 5, 23],\n",
       " ['k1', 'k2', 'k3', 3, 7],\n",
       " ['ineuron', 'data science ']]"
      ]
     },
     "execution_count": 276,
     "metadata": {},
     "output_type": "execute_result"
    }
   ],
   "source": [
    "l1"
   ]
  },
  {
   "cell_type": "code",
   "execution_count": null,
   "id": "7fc9de8b",
   "metadata": {},
   "outputs": [],
   "source": []
  }
 ],
 "metadata": {
  "kernelspec": {
   "display_name": "Python 3 (ipykernel)",
   "language": "python",
   "name": "python3"
  },
  "language_info": {
   "codemirror_mode": {
    "name": "ipython",
    "version": 3
   },
   "file_extension": ".py",
   "mimetype": "text/x-python",
   "name": "python",
   "nbconvert_exporter": "python",
   "pygments_lexer": "ipython3",
   "version": "3.9.12"
  }
 },
 "nbformat": 4,
 "nbformat_minor": 5
}
