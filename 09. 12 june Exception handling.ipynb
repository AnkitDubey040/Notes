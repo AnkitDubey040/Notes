{
 "cells": [
  {
   "cell_type": "markdown",
   "id": "ff335602",
   "metadata": {},
   "source": [
    "compile time error and Run time error \n",
    "exception handling is for runtime error \n",
    "compile time error is syntax error\n",
    "Runtime error:\n",
    "    when we write program it is aource code and compiler is compiling source code \n",
    "    and making byte code and then byte code goes to interpreter  \n",
    "    compile time error is when compiling and runtime error is a interpreter\n",
    "syntax error = compile time error --> we automaticaaly get this error whenever there is wrong syntax \n",
    "but suppose at run time i get some error so it is runtime error \n",
    "and to handle it we use exception handling."
   ]
  },
  {
   "cell_type": "code",
   "execution_count": 3,
   "id": "b07a8ee9",
   "metadata": {},
   "outputs": [
    {
     "ename": "SyntaxError",
     "evalue": "unexpected EOF while parsing (1954192056.py, line 4)",
     "output_type": "error",
     "traceback": [
      "\u001b[1;36m  Input \u001b[1;32mIn [3]\u001b[1;36m\u001b[0m\n\u001b[1;33m    print(a+b\u001b[0m\n\u001b[1;37m             ^\u001b[0m\n\u001b[1;31mSyntaxError\u001b[0m\u001b[1;31m:\u001b[0m unexpected EOF while parsing\n"
     ]
    }
   ],
   "source": [
    "#compile time error clearly mentioned it is syntax error\n",
    "a=1\n",
    "b=2\n",
    "print(a+b"
   ]
  },
  {
   "cell_type": "code",
   "execution_count": 4,
   "id": "070b8b6c",
   "metadata": {},
   "outputs": [
    {
     "ename": "TypeError",
     "evalue": "unsupported operand type(s) for -: 'int' and 'str'",
     "output_type": "error",
     "traceback": [
      "\u001b[1;31m---------------------------------------------------------------------------\u001b[0m",
      "\u001b[1;31mTypeError\u001b[0m                                 Traceback (most recent call last)",
      "Input \u001b[1;32mIn [4]\u001b[0m, in \u001b[0;36m<cell line: 2>\u001b[1;34m()\u001b[0m\n\u001b[0;32m      1\u001b[0m a\u001b[38;5;241m=\u001b[39m\u001b[38;5;241m10\u001b[39m\n\u001b[1;32m----> 2\u001b[0m \u001b[43mb\u001b[49m\u001b[38;5;241;43m-\u001b[39;49m\u001b[38;5;124;43m'\u001b[39;49m\u001b[38;5;124;43ms\u001b[39;49m\u001b[38;5;124;43m'\u001b[39;49m\n\u001b[0;32m      3\u001b[0m c\u001b[38;5;241m=\u001b[39ma\u001b[38;5;241m+\u001b[39mb\n\u001b[0;32m      4\u001b[0m c\n",
      "\u001b[1;31mTypeError\u001b[0m: unsupported operand type(s) for -: 'int' and 'str'"
     ]
    }
   ],
   "source": [
    "#Runtime error = typeerror...this throws EXCEPTION and we need to now handle it\n",
    "a=10\n",
    "b-'s'\n",
    "c=a+b\n",
    "c"
   ]
  },
  {
   "cell_type": "code",
   "execution_count": 1,
   "id": "e0b2c9bc",
   "metadata": {},
   "outputs": [
    {
     "name": "stdout",
     "output_type": "stream",
     "text": [
      "Enter a: 15\n",
      "Enter b: 0\n"
     ]
    },
    {
     "ename": "ZeroDivisionError",
     "evalue": "division by zero",
     "output_type": "error",
     "traceback": [
      "\u001b[1;31m---------------------------------------------------------------------------\u001b[0m",
      "\u001b[1;31mZeroDivisionError\u001b[0m                         Traceback (most recent call last)",
      "Input \u001b[1;32mIn [1]\u001b[0m, in \u001b[0;36m<cell line: 4>\u001b[1;34m()\u001b[0m\n\u001b[0;32m      2\u001b[0m a\u001b[38;5;241m=\u001b[39m\u001b[38;5;28mint\u001b[39m(\u001b[38;5;28minput\u001b[39m(\u001b[38;5;124m\"\u001b[39m\u001b[38;5;124mEnter a: \u001b[39m\u001b[38;5;124m\"\u001b[39m))\n\u001b[0;32m      3\u001b[0m b\u001b[38;5;241m=\u001b[39m(\u001b[38;5;28mint\u001b[39m(\u001b[38;5;28minput\u001b[39m(\u001b[38;5;124m\"\u001b[39m\u001b[38;5;124mEnter b: \u001b[39m\u001b[38;5;124m\"\u001b[39m)))\n\u001b[1;32m----> 4\u001b[0m c\u001b[38;5;241m=\u001b[39m\u001b[43ma\u001b[49m\u001b[38;5;241;43m/\u001b[39;49m\u001b[43mb\u001b[49m\n\u001b[0;32m      5\u001b[0m c\n",
      "\u001b[1;31mZeroDivisionError\u001b[0m: division by zero"
     ]
    }
   ],
   "source": [
    "a=int(input(\"Enter a: \"))\n",
    "b=(int(input(\"Enter b: \")))\n",
    "c=a/b\n",
    "c"
   ]
  },
  {
   "cell_type": "code",
   "execution_count": 1,
   "id": "b1fffbf7",
   "metadata": {},
   "outputs": [
    {
     "name": "stdout",
     "output_type": "stream",
     "text": [
      "Enter a: 10\n",
      "Enter b: 0\n"
     ]
    },
    {
     "ename": "ZeroDivisionError",
     "evalue": "division by zero",
     "output_type": "error",
     "traceback": [
      "\u001b[1;31m---------------------------------------------------------------------------\u001b[0m",
      "\u001b[1;31mZeroDivisionError\u001b[0m                         Traceback (most recent call last)",
      "Input \u001b[1;32mIn [1]\u001b[0m, in \u001b[0;36m<cell line: 4>\u001b[1;34m()\u001b[0m\n\u001b[0;32m      2\u001b[0m a\u001b[38;5;241m=\u001b[39m\u001b[38;5;28mint\u001b[39m(\u001b[38;5;28minput\u001b[39m(\u001b[38;5;124m\"\u001b[39m\u001b[38;5;124mEnter a: \u001b[39m\u001b[38;5;124m\"\u001b[39m))\n\u001b[0;32m      3\u001b[0m b\u001b[38;5;241m=\u001b[39m(\u001b[38;5;28mint\u001b[39m(\u001b[38;5;28minput\u001b[39m(\u001b[38;5;124m\"\u001b[39m\u001b[38;5;124mEnter b: \u001b[39m\u001b[38;5;124m\"\u001b[39m)))\n\u001b[1;32m----> 4\u001b[0m c\u001b[38;5;241m=\u001b[39m\u001b[43ma\u001b[49m\u001b[38;5;241;43m/\u001b[39;49m\u001b[43mb\u001b[49m\n\u001b[0;32m      5\u001b[0m c\n\u001b[0;32m      6\u001b[0m d\u001b[38;5;241m=\u001b[39ma\u001b[38;5;241m*\u001b[39mb\n",
      "\u001b[1;31mZeroDivisionError\u001b[0m: division by zero"
     ]
    }
   ],
   "source": [
    "#why exactly we need exception handling:\n",
    "a=int(input(\"Enter a: \"))\n",
    "b=(int(input(\"Enter b: \")))\n",
    "c=a/b\n",
    "c\n",
    "d=a*b\n",
    "d"
   ]
  },
  {
   "cell_type": "markdown",
   "id": "412fe6d9",
   "metadata": {},
   "source": [
    "AB upar wale program mei 10/o bhale hi na possible ho par\n",
    "10*0 to possible tha lekin hum usse print nhi kar paye \n",
    "asli program mei kyonki upar wale code mei exception tha to\n",
    "niche wala code chala hi nahi to taki hamare project\n",
    "mei ye dikkat na aaye hum exception handling ka use karte hai"
   ]
  },
  {
   "cell_type": "markdown",
   "id": "4e70b0aa",
   "metadata": {},
   "source": [
    "also error jo dikhata hai vo bahaut complex hota hai \n",
    "to hum easy lang meio error dikha dete hai taki user samaj jaye \n",
    "easily."
   ]
  },
  {
   "cell_type": "markdown",
   "id": "6ca36438",
   "metadata": {},
   "source": [
    "keywords:\n",
    "    try\n",
    "    except\n",
    "    raise\n",
    "    else\n",
    "    finally"
   ]
  },
  {
   "cell_type": "code",
   "execution_count": 4,
   "id": "664f5c02",
   "metadata": {},
   "outputs": [
    {
     "name": "stdout",
     "output_type": "stream",
     "text": [
      "Enter a: 2\n",
      "Enter b: 0\n",
      "b must not be 0\n"
     ]
    }
   ],
   "source": [
    "#handling == now no long error messages\n",
    "\n",
    "a=int(input(\"Enter a: \"))\n",
    "b=(int(input(\"Enter b: \")))\n",
    "try:\n",
    "    c=a/b\n",
    "    c\n",
    "except:\n",
    "    print(\"b must not be 0\")"
   ]
  },
  {
   "cell_type": "markdown",
   "id": "b28913d9",
   "metadata": {},
   "source": [
    "code : 2 approaches\n",
    "    1. Function approach : def fun_name:\n",
    "                                 body\n",
    "    2. OOP: class abc:\n",
    "                 body, functions = methods \n",
    "                 objects\n",
    "                 \n",
    "    EXCEPTION HIREARCHY IN PYTHON : net\n",
    "    \n",
    "    3 pillar encapsulation , polymorphism , inheritance"
   ]
  },
  {
   "cell_type": "code",
   "execution_count": 1,
   "id": "768d4226",
   "metadata": {},
   "outputs": [
    {
     "name": "stdout",
     "output_type": "stream",
     "text": [
      "Enter a: 8\n",
      "Enter b: 0\n",
      "b must not be 0\n"
     ]
    }
   ],
   "source": [
    "a=int(input(\"Enter a: \"))\n",
    "b=(int(input(\"Enter b: \")))\n",
    "try:\n",
    "    c=a/b\n",
    "    c\n",
    "except ZeroDivisionError:\n",
    "    print(\"b must not be 0\")"
   ]
  },
  {
   "cell_type": "code",
   "execution_count": 4,
   "id": "ef6982fd",
   "metadata": {},
   "outputs": [
    {
     "ename": "SyntaxError",
     "evalue": "unmatched ')' (647385664.py, line 5)",
     "output_type": "error",
     "traceback": [
      "\u001b[1;36m  Input \u001b[1;32mIn [4]\u001b[1;36m\u001b[0m\n\u001b[1;33m    c) #compile time error\u001b[0m\n\u001b[1;37m     ^\u001b[0m\n\u001b[1;31mSyntaxError\u001b[0m\u001b[1;31m:\u001b[0m unmatched ')'\n"
     ]
    }
   ],
   "source": [
    "a=int(input(\"Enter a: \"))\n",
    "b=(int(input(\"Enter b: \")))\n",
    "try:\n",
    "    c=a/b\n",
    "    c) #compile time error\n",
    "except :\n",
    "    print(\"b must not be 0\")"
   ]
  },
  {
   "cell_type": "code",
   "execution_count": 5,
   "id": "1cbe1bbb",
   "metadata": {},
   "outputs": [
    {
     "name": "stdout",
     "output_type": "stream",
     "text": [
      "Enter a: 10\n",
      "Enter b: 0\n",
      "b must not be 0\n"
     ]
    },
    {
     "data": {
      "text/plain": [
       "10"
      ]
     },
     "execution_count": 5,
     "metadata": {},
     "output_type": "execute_result"
    }
   ],
   "source": [
    "a=int(input(\"Enter a: \"))\n",
    "b=(int(input(\"Enter b: \")))\n",
    "try:\n",
    "    c=a/b\n",
    "    c\n",
    "except ZeroDivisionError:\n",
    "    print(\"b must not be 0\")\n",
    "d=a+b\n",
    "d"
   ]
  },
  {
   "cell_type": "markdown",
   "id": "332b90b3",
   "metadata": {},
   "source": [
    "Write a program to ask the user to input 2 integers and calculate and print their division. Make sure your program behaves as follows:\n",
    "\n",
    "If the user enters a non integer value then ask him to enter only integers\n",
    "\n",
    "If denominator is 0 , then ask him to input non-zero denominator\n",
    "\n",
    "-Repeat the process until correct input is given\n",
    "\n",
    "Only if the inputs are correct then display their division and terminate the code"
   ]
  },
  {
   "cell_type": "code",
   "execution_count": 66,
   "id": "d4f2133e",
   "metadata": {
    "scrolled": true
   },
   "outputs": [
    {
     "name": "stdout",
     "output_type": "stream",
     "text": [
      "Enter first integer:  5\n",
      "Enter second integer: g\n",
      " integer only\n"
     ]
    }
   ],
   "source": [
    "\n",
    "try:\n",
    "    a=int(input(\"Enter first integer:  \"))\n",
    "    b=int(input(\"Enter second integer: \"))\n",
    "    d=a/b\n",
    "    print(\"The division is: \", d)\n",
    "    c=a+b\n",
    "    print(\"sum is \",c)\n",
    "except ValueError:\n",
    "    print(\" integer only\")\n",
    "except TypeError:\n",
    "    print(\"input integers only\")\n",
    "except ZeroDivisionError:\n",
    "    print(\"b cannot be zero\") \n",
    "\n"
   ]
  },
  {
   "cell_type": "code",
   "execution_count": 61,
   "id": "377a0062",
   "metadata": {},
   "outputs": [
    {
     "ename": "SyntaxError",
     "evalue": "invalid syntax (2002114949.py, line 1)",
     "output_type": "error",
     "traceback": [
      "\u001b[1;36m  Input \u001b[1;32mIn [61]\u001b[1;36m\u001b[0m\n\u001b[1;33m    except ZeroDivisionError:\u001b[0m\n\u001b[1;37m    ^\u001b[0m\n\u001b[1;31mSyntaxError\u001b[0m\u001b[1;31m:\u001b[0m invalid syntax\n"
     ]
    }
   ],
   "source": [
    "except ZeroDivisionError:\n",
    "        print(\"b cannot be zero\") \n",
    "except ValueError:\n",
    "    print(\"input integers only\")\n",
    "    \n",
    "    \n",
    "    ise hum aise bhi likh sakte hai:\n",
    "        except (ZeroDivisionError,ValueError):\n",
    "            block\n",
    "    bas ye dhyan rakhna ki parameter mei pehle child class aayegi fir parent varna\n",
    "    ye code execute nhi hoga \n",
    "    jaise ki exception hirearchy ke accoduing zero divisoion value kwe andae r hai "
   ]
  },
  {
   "cell_type": "code",
   "execution_count": 1,
   "id": "3955610e",
   "metadata": {},
   "outputs": [
    {
     "name": "stdout",
     "output_type": "stream",
     "text": [
      "enter first number  j\n",
      "there should not be string\n",
      "enter first number  5\n",
      "enter second number  k\n",
      "there should not be string\n",
      "enter first number  5\n",
      "enter second number  7\n",
      "0.7142857142857143\n"
     ]
    }
   ],
   "source": [
    "while True:\n",
    "    try:\n",
    "        a=int(input(\"enter first number  \"))\n",
    "        b=int(input(\"enter second number  \"))\n",
    "        c=a/b\n",
    "        print(c)\n",
    "        break\n",
    "    \n",
    "    except TypeError: \n",
    "        print(\"there should not be string\")\n",
    "    except ValueError: \n",
    "        print(\"there should not be string\")\n",
    "    except ZeroDivisionError:\n",
    "        print(\"non zero denomitor\")\n",
    "    \n",
    "    \n",
    "#yahan pe while true isliye likha taki user ko baar baar run\n",
    "#na karna pade aur agar ek baar galti ho gyi to firse\n",
    "#insert option khud hi aa jaye\n"
   ]
  },
  {
   "cell_type": "code",
   "execution_count": 2,
   "id": "f8d9df77",
   "metadata": {},
   "outputs": [
    {
     "name": "stdout",
     "output_type": "stream",
     "text": [
      "first number:5\n",
      "second number:0\n",
      "division by zero\n",
      "first number:5\n",
      "second number:4\n",
      "div: 1.25\n"
     ]
    }
   ],
   "source": [
    "# automatic error meaage with\n",
    "#sys.exc_info()\n",
    "# SYSTEM MODULE\n",
    "while True:\n",
    "    try:\n",
    "        a=int(input(\"first number:\"))\n",
    "        b=int(input(\"second number:\"))\n",
    "        c=a/b\n",
    "        print(\"div:\", c)\n",
    "        break\n",
    "    except ZeroDivisionError as e:\n",
    "        print(e)"
   ]
  },
  {
   "cell_type": "code",
   "execution_count": 3,
   "id": "4e5570ee",
   "metadata": {},
   "outputs": [
    {
     "name": "stdout",
     "output_type": "stream",
     "text": [
      "first number:4\n",
      "second number:0\n",
      "(<class 'ZeroDivisionError'>, ZeroDivisionError('division by zero'), <traceback object at 0x000001F2DA1E1700>)\n",
      "first number:5\n",
      "second number:2\n",
      "div: 2.5\n"
     ]
    }
   ],
   "source": [
    "import sys \n",
    "while True:\n",
    "    try:\n",
    "        a=int(input(\"first number:\"))\n",
    "        b=int(input(\"second number:\"))\n",
    "        c=a/b\n",
    "        print(\"div:\", c)\n",
    "        break\n",
    "    except :\n",
    "        print(sys.exc_info())"
   ]
  },
  {
   "cell_type": "code",
   "execution_count": 4,
   "id": "c04c82f5",
   "metadata": {},
   "outputs": [
    {
     "name": "stdout",
     "output_type": "stream",
     "text": [
      "first number:47\n",
      "second number:0\n",
      "exception class <class 'ZeroDivisionError'>\n",
      "exception message division by zero\n",
      "line number 6\n",
      "first number:5\n",
      "second number:1\n",
      "div: 5.0\n"
     ]
    }
   ],
   "source": [
    "###IMPORTANT#####\n",
    "import sys\n",
    "while True:\n",
    "    try:\n",
    "        a=int(input(\"first number:\"))\n",
    "        b=int(input(\"second number:\"))\n",
    "        c=a/b\n",
    "        print(\"div:\", c)\n",
    "        break\n",
    "    except:\n",
    "        a,b,c=sys.exc_info()\n",
    "        print(\"exception class\", a)\n",
    "        print(\"exception message\", b)\n",
    "        print(\"line number\", c.tb_lineno)\n",
    "        "
   ]
  },
  {
   "cell_type": "code",
   "execution_count": 6,
   "id": "14eec84a",
   "metadata": {},
   "outputs": [
    {
     "name": "stdout",
     "output_type": "stream",
     "text": [
      "first number:4\n",
      "second number:0\n",
      "Traceback (most recent call last):\n",
      "  File \"C:\\Users\\HP\\AppData\\Local\\Temp\\ipykernel_9384\\3982294882.py\", line 8, in <cell line: 5>\n",
      "    c=a/b\n",
      "ZeroDivisionError: division by zero\n",
      "\n",
      "first number:7\n",
      "second number:8\n",
      "div: 0.875\n"
     ]
    }
   ],
   "source": [
    "# TRACEBACK MODULE\n",
    "#gives same as system module\n",
    "import traceback\n",
    "while True:\n",
    "    try:\n",
    "        a=int(input(\"first number:\"))\n",
    "        b=int(input(\"second number:\"))\n",
    "        c=a/b\n",
    "        print(\"div:\", c)\n",
    "        break\n",
    "    except :\n",
    "        print(traceback.format_exc())"
   ]
  },
  {
   "cell_type": "code",
   "execution_count": 7,
   "id": "63395a05",
   "metadata": {},
   "outputs": [],
   "source": [
    "# RAISE EXCEPTION : it;s a custom exception and \n",
    "# and can be raised at a particular line where user wants to\n"
   ]
  },
  {
   "cell_type": "code",
   "execution_count": 12,
   "id": "9f2d104e",
   "metadata": {},
   "outputs": [
    {
     "name": "stdout",
     "output_type": "stream",
     "text": [
      "Enter first no: h\n",
      "Enter int only\n",
      "Enter first no: 8\n",
      "Enter second number: h\n",
      "Enter int only\n",
      "Enter first no: 9\n",
      "Enter second number: 0\n",
      "b cannot be zero\n",
      "Enter first no: 5\n",
      "Enter second number: -4\n",
      "Negative number not allowed\n",
      "Enter first no: -6\n",
      "Enter second number: 9\n",
      "Negative number not allowed\n",
      "Enter first no: 3\n",
      "Enter second number: 4\n",
      "0.75\n"
     ]
    }
   ],
   "source": [
    "while True:\n",
    "    try:\n",
    "        a=int(input(\"Enter first no: \"))\n",
    "        b=int(input(\"Enter second number: \"))\n",
    "        if a<0 or b<0 :\n",
    "            raise Exception(\"Negative number not allowed\")\n",
    "        c=a/b\n",
    "        print(c)\n",
    "        break\n",
    "    except ValueError:\n",
    "        print(\"Enter int only\")\n",
    "    except ZeroDivisionError:\n",
    "        print(\"b cannot be zero\")\n",
    "    except Exception as e:\n",
    "        print(e)\n",
    "        \n",
    " "
   ]
  },
  {
   "cell_type": "code",
   "execution_count": 13,
   "id": "dea24309",
   "metadata": {},
   "outputs": [],
   "source": [
    "#Exception is a built in vclass we can use USER DEFINED CLASS ALSO \n",
    "#called CUSTOM EXCEPTION"
   ]
  },
  {
   "cell_type": "code",
   "execution_count": 14,
   "id": "bdbaccbe",
   "metadata": {},
   "outputs": [
    {
     "name": "stdout",
     "output_type": "stream",
     "text": [
      "Enter first no: -5\n",
      "Enter second number: 3\n"
     ]
    },
    {
     "ename": "NameError",
     "evalue": "name 'AnkitKiException' is not defined",
     "output_type": "error",
     "traceback": [
      "\u001b[1;31m---------------------------------------------------------------------------\u001b[0m",
      "\u001b[1;31mNameError\u001b[0m                                 Traceback (most recent call last)",
      "Input \u001b[1;32mIn [14]\u001b[0m, in \u001b[0;36m<cell line: 3>\u001b[1;34m()\u001b[0m\n\u001b[0;32m      6\u001b[0m \u001b[38;5;28;01mif\u001b[39;00m a\u001b[38;5;241m<\u001b[39m\u001b[38;5;241m0\u001b[39m \u001b[38;5;129;01mor\u001b[39;00m b\u001b[38;5;241m<\u001b[39m\u001b[38;5;241m0\u001b[39m :\n\u001b[1;32m----> 7\u001b[0m     \u001b[38;5;28;01mraise\u001b[39;00m \u001b[43mAnkitKiException\u001b[49m(\u001b[38;5;124m\"\u001b[39m\u001b[38;5;124mNegative number not allowed\u001b[39m\u001b[38;5;124m\"\u001b[39m)\n\u001b[0;32m      8\u001b[0m c\u001b[38;5;241m=\u001b[39ma\u001b[38;5;241m/\u001b[39mb\n",
      "\u001b[1;31mNameError\u001b[0m: name 'AnkitKiException' is not defined",
      "\nDuring handling of the above exception, another exception occurred:\n",
      "\u001b[1;31mNameError\u001b[0m                                 Traceback (most recent call last)",
      "Input \u001b[1;32mIn [14]\u001b[0m, in \u001b[0;36m<cell line: 3>\u001b[1;34m()\u001b[0m\n\u001b[0;32m     13\u001b[0m \u001b[38;5;28;01mexcept\u001b[39;00m \u001b[38;5;167;01mZeroDivisionError\u001b[39;00m:\n\u001b[0;32m     14\u001b[0m     \u001b[38;5;28mprint\u001b[39m(\u001b[38;5;124m\"\u001b[39m\u001b[38;5;124mb cannot be zero\u001b[39m\u001b[38;5;124m\"\u001b[39m)\n\u001b[1;32m---> 15\u001b[0m \u001b[38;5;28;01mexcept\u001b[39;00m \u001b[43mAnkitKiException\u001b[49m \u001b[38;5;28;01mas\u001b[39;00m e:\n\u001b[0;32m     16\u001b[0m     \u001b[38;5;28mprint\u001b[39m(e)\n",
      "\u001b[1;31mNameError\u001b[0m: name 'AnkitKiException' is not defined"
     ]
    }
   ],
   "source": [
    "#CUSTOM EXCEPTION\n",
    "while True:\n",
    "    try:\n",
    "        a=int(input(\"Enter first no: \"))\n",
    "        b=int(input(\"Enter second number: \"))\n",
    "        if a<0 or b<0 :\n",
    "            raise AnkitKiException(\"Negative number not allowed\")\n",
    "        c=a/b\n",
    "        print(c)\n",
    "        break\n",
    "    except ValueError:\n",
    "        print(\"Enter int only\")\n",
    "    except ZeroDivisionError:\n",
    "        print(\"b cannot be zero\")\n",
    "    except AnkitKiException as e:\n",
    "        print(e)"
   ]
  },
  {
   "cell_type": "code",
   "execution_count": 15,
   "id": "9777f282",
   "metadata": {},
   "outputs": [],
   "source": [
    "# ab hame NameError dikha rha hai kyonki exception class in python is already defined and we are calling this class \n",
    "# we have not defined AnkitKiException class to pehle usse defibe karna hoga :"
   ]
  },
  {
   "cell_type": "code",
   "execution_count": 16,
   "id": "0e58d2c5",
   "metadata": {},
   "outputs": [
    {
     "name": "stdout",
     "output_type": "stream",
     "text": [
      "Enter first no: -5\n",
      "Enter second number: 4\n",
      "Negative number not allowed\n",
      "Enter first no: 8\n",
      "Enter second number: 4\n",
      "2.0\n"
     ]
    }
   ],
   "source": [
    "#defining custom exception class and using in code:\n",
    "class AnkitKiException(Exception):\n",
    "    pass\n",
    "\n",
    "\n",
    "\n",
    "#CUSTOM EXCEPTION\n",
    "while True:\n",
    "    try:\n",
    "        a=int(input(\"Enter first no: \"))\n",
    "        b=int(input(\"Enter second number: \"))\n",
    "        if a<0 or b<0 :\n",
    "            raise AnkitKiException(\"Negative number not allowed\")\n",
    "        c=a/b\n",
    "        print(c)\n",
    "        break\n",
    "    except ValueError:\n",
    "        print(\"Enter int only\")\n",
    "    except ZeroDivisionError:\n",
    "        print(\"b cannot be zero\")\n",
    "    except AnkitKiException as e:\n",
    "        print(e)"
   ]
  },
  {
   "cell_type": "markdown",
   "id": "61635a62",
   "metadata": {},
   "source": [
    "###Final Block"
   ]
  },
  {
   "cell_type": "code",
   "execution_count": 17,
   "id": "60b91816",
   "metadata": {},
   "outputs": [
    {
     "name": "stdout",
     "output_type": "stream",
     "text": [
      "Enter first no: 5\n",
      "Enter second number: 0\n",
      "no zero in denom\n",
      "Ankit\n"
     ]
    }
   ],
   "source": [
    "try:\n",
    "        a=int(input(\"Enter first no: \"))\n",
    "        b=int(input(\"Enter second number: \"))\n",
    "        c=a/b\n",
    "        print(c)\n",
    "except:\n",
    "    print(\"no zero in denom\")\n",
    "finally:\n",
    "    print(\"Ankit\")\n",
    "    "
   ]
  },
  {
   "cell_type": "code",
   "execution_count": 18,
   "id": "229c6e1f",
   "metadata": {},
   "outputs": [],
   "source": [
    "# Finally code mei hum sabse crucial code likhte hai \n",
    "#kyonki ye chalta h chalta hai isliye"
   ]
  },
  {
   "cell_type": "code",
   "execution_count": 24,
   "id": "3597aae7",
   "metadata": {},
   "outputs": [],
   "source": [
    "#$suppose database ke saath hai aur connection close karna \n",
    "#bhool gye to kuch codes finally ke andara hobe chaoye taki \n",
    "# to hum finaly wale mei close daal demge taki vo to execute\n",
    "#ho hi jaye koi error bhi aaye to\n"
   ]
  },
  {
   "cell_type": "code",
   "execution_count": 21,
   "id": "91dcd7cd",
   "metadata": {},
   "outputs": [
    {
     "name": "stdout",
     "output_type": "stream",
     "text": [
      "Enter first no: 3\n",
      "Enter second number: 5\n",
      "0.6\n",
      "andy\n"
     ]
    }
   ],
   "source": [
    "#ELSE : same concept as finally\n",
    "try:\n",
    "        a=int(input(\"Enter first no: \"))\n",
    "        b=int(input(\"Enter second number: \"))\n",
    "        c=a/b\n",
    "        print(c)\n",
    "except:\n",
    "    print(\"no zero in denom\")\n",
    "else:\n",
    "    print(\"andy\")"
   ]
  },
  {
   "cell_type": "code",
   "execution_count": 23,
   "id": "583064af",
   "metadata": {},
   "outputs": [
    {
     "name": "stdout",
     "output_type": "stream",
     "text": [
      "Enter first no: 8\n",
      "Enter second number: 0\n",
      "no zero in denom\n"
     ]
    }
   ],
   "source": [
    "#agar kloi eroor nhi aaya try  mei to execute\n",
    "#hoga varna nhi hoga else wala jais eki :\n",
    "try:\n",
    "    a=int(input(\"Enter first no: \"))\n",
    "    b=int(input(\"Enter second number: \"))\n",
    "    c=a/b\n",
    "    print(c)\n",
    "except:\n",
    "    print(\"no zero in denom\")\n",
    "else:\n",
    "    print(\"andy\")"
   ]
  },
  {
   "cell_type": "markdown",
   "id": "d17dd2ce",
   "metadata": {},
   "source": [
    "# ek baar vo pdf pad lena uspe flow charts aur hirearch hai"
   ]
  },
  {
   "cell_type": "code",
   "execution_count": null,
   "id": "be284078",
   "metadata": {},
   "outputs": [],
   "source": []
  }
 ],
 "metadata": {
  "kernelspec": {
   "display_name": "Python 3 (ipykernel)",
   "language": "python",
   "name": "python3"
  },
  "language_info": {
   "codemirror_mode": {
    "name": "ipython",
    "version": 3
   },
   "file_extension": ".py",
   "mimetype": "text/x-python",
   "name": "python",
   "nbconvert_exporter": "python",
   "pygments_lexer": "ipython3",
   "version": "3.9.12"
  }
 },
 "nbformat": 4,
 "nbformat_minor": 5
}
