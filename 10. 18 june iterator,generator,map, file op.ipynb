{
 "cells": [
  {
   "cell_type": "code",
   "execution_count": 4,
   "id": "0f921769",
   "metadata": {},
   "outputs": [],
   "source": [
    "#ITERATOR\n",
    "l =[1,2,5,2,6]"
   ]
  },
  {
   "cell_type": "code",
   "execution_count": 2,
   "id": "933e91f0",
   "metadata": {},
   "outputs": [],
   "source": [
    "# how for loop works internally????\n",
    "actually next function helps to do it"
   ]
  },
  {
   "cell_type": "code",
   "execution_count": 5,
   "id": "49c74432",
   "metadata": {},
   "outputs": [
    {
     "ename": "TypeError",
     "evalue": "'list' object is not an iterator",
     "output_type": "error",
     "traceback": [
      "\u001b[1;31m---------------------------------------------------------------------------\u001b[0m",
      "\u001b[1;31mTypeError\u001b[0m                                 Traceback (most recent call last)",
      "Input \u001b[1;32mIn [5]\u001b[0m, in \u001b[0;36m<cell line: 1>\u001b[1;34m()\u001b[0m\n\u001b[1;32m----> 1\u001b[0m \u001b[38;5;28;43mnext\u001b[39;49m\u001b[43m(\u001b[49m\u001b[43ml\u001b[49m\u001b[43m)\u001b[49m\n",
      "\u001b[1;31mTypeError\u001b[0m: 'list' object is not an iterator"
     ]
    }
   ],
   "source": [
    "next(l)"
   ]
  },
  {
   "cell_type": "code",
   "execution_count": 8,
   "id": "77638f73",
   "metadata": {},
   "outputs": [],
   "source": [
    "b = iter(l)"
   ]
  },
  {
   "cell_type": "code",
   "execution_count": 10,
   "id": "0cec412c",
   "metadata": {},
   "outputs": [
    {
     "data": {
      "text/plain": [
       "1"
      ]
     },
     "execution_count": 10,
     "metadata": {},
     "output_type": "execute_result"
    }
   ],
   "source": [
    "next(b)"
   ]
  },
  {
   "cell_type": "code",
   "execution_count": 11,
   "id": "c8394971",
   "metadata": {},
   "outputs": [
    {
     "data": {
      "text/plain": [
       "2"
      ]
     },
     "execution_count": 11,
     "metadata": {},
     "output_type": "execute_result"
    }
   ],
   "source": [
    "next(b)"
   ]
  },
  {
   "cell_type": "code",
   "execution_count": 12,
   "id": "54266278",
   "metadata": {},
   "outputs": [
    {
     "data": {
      "text/plain": [
       "5"
      ]
     },
     "execution_count": 12,
     "metadata": {},
     "output_type": "execute_result"
    }
   ],
   "source": [
    "next(b)"
   ]
  },
  {
   "cell_type": "code",
   "execution_count": 13,
   "id": "cac9d1fe",
   "metadata": {},
   "outputs": [
    {
     "data": {
      "text/plain": [
       "2"
      ]
     },
     "execution_count": 13,
     "metadata": {},
     "output_type": "execute_result"
    }
   ],
   "source": [
    "next(b)"
   ]
  },
  {
   "cell_type": "code",
   "execution_count": 14,
   "id": "52f37fc8",
   "metadata": {},
   "outputs": [
    {
     "data": {
      "text/plain": [
       "6"
      ]
     },
     "execution_count": 14,
     "metadata": {},
     "output_type": "execute_result"
    }
   ],
   "source": [
    "next(b)"
   ]
  },
  {
   "cell_type": "code",
   "execution_count": 15,
   "id": "4954c2a8",
   "metadata": {
    "scrolled": true
   },
   "outputs": [
    {
     "ename": "StopIteration",
     "evalue": "",
     "output_type": "error",
     "traceback": [
      "\u001b[1;31m---------------------------------------------------------------------------\u001b[0m",
      "\u001b[1;31mStopIteration\u001b[0m                             Traceback (most recent call last)",
      "Input \u001b[1;32mIn [15]\u001b[0m, in \u001b[0;36m<cell line: 1>\u001b[1;34m()\u001b[0m\n\u001b[1;32m----> 1\u001b[0m \u001b[38;5;28;43mnext\u001b[39;49m\u001b[43m(\u001b[49m\u001b[43mb\u001b[49m\u001b[43m)\u001b[49m\n",
      "\u001b[1;31mStopIteration\u001b[0m: "
     ]
    }
   ],
   "source": [
    "next(b)"
   ]
  },
  {
   "cell_type": "code",
   "execution_count": 16,
   "id": "a5351b6a",
   "metadata": {},
   "outputs": [
    {
     "ename": "TypeError",
     "evalue": "'int' object is not iterable",
     "output_type": "error",
     "traceback": [
      "\u001b[1;31m---------------------------------------------------------------------------\u001b[0m",
      "\u001b[1;31mTypeError\u001b[0m                                 Traceback (most recent call last)",
      "Input \u001b[1;32mIn [16]\u001b[0m, in \u001b[0;36m<cell line: 1>\u001b[1;34m()\u001b[0m\n\u001b[1;32m----> 1\u001b[0m \u001b[38;5;28;43miter\u001b[39;49m\u001b[43m(\u001b[49m\u001b[38;5;241;43m45\u001b[39;49m\u001b[43m)\u001b[49m\n",
      "\u001b[1;31mTypeError\u001b[0m: 'int' object is not iterable"
     ]
    }
   ],
   "source": [
    "iter(45) # error where int is not ITERABLE"
   ]
  },
  {
   "cell_type": "code",
   "execution_count": 17,
   "id": "bc202595",
   "metadata": {},
   "outputs": [
    {
     "ename": "TypeError",
     "evalue": "'int' object is not an iterator",
     "output_type": "error",
     "traceback": [
      "\u001b[1;31m---------------------------------------------------------------------------\u001b[0m",
      "\u001b[1;31mTypeError\u001b[0m                                 Traceback (most recent call last)",
      "Input \u001b[1;32mIn [17]\u001b[0m, in \u001b[0;36m<cell line: 1>\u001b[1;34m()\u001b[0m\n\u001b[1;32m----> 1\u001b[0m \u001b[38;5;28;43mnext\u001b[39;49m\u001b[43m(\u001b[49m\u001b[38;5;241;43m45\u001b[39;49m\u001b[43m)\u001b[49m\n",
      "\u001b[1;31mTypeError\u001b[0m: 'int' object is not an iterator"
     ]
    }
   ],
   "source": [
    "next(45) # Error where int is not ITERATOR"
   ]
  },
  {
   "cell_type": "code",
   "execution_count": null,
   "id": "86e7be46",
   "metadata": {},
   "outputs": [],
   "source": [
    "object that is iterable can be converted into oterator \n",
    "for loop first calls iter function so first in forn if iterable and then for calls next function and object\n",
    "becomes iterator"
   ]
  },
  {
   "cell_type": "code",
   "execution_count": 18,
   "id": "1053175f",
   "metadata": {},
   "outputs": [
    {
     "name": "stdout",
     "output_type": "stream",
     "text": [
      "1\n",
      "2\n",
      "5\n",
      "2\n",
      "6\n"
     ]
    }
   ],
   "source": [
    "for i in l:\n",
    "    print(i)"
   ]
  },
  {
   "cell_type": "code",
   "execution_count": null,
   "id": "0d9f22d1",
   "metadata": {},
   "outputs": [],
   "source": [
    "so list element by defaut is iterable \n",
    "and then convert into iterator"
   ]
  },
  {
   "cell_type": "code",
   "execution_count": null,
   "id": "fe895932",
   "metadata": {},
   "outputs": [],
   "source": [
    "for loop --> iterable objects(iter() function) into\n",
    "iterator (next() function)"
   ]
  },
  {
   "cell_type": "code",
   "execution_count": 19,
   "id": "e880d37b",
   "metadata": {},
   "outputs": [
    {
     "ename": "TypeError",
     "evalue": "'str' object is not an iterator",
     "output_type": "error",
     "traceback": [
      "\u001b[1;31m---------------------------------------------------------------------------\u001b[0m",
      "\u001b[1;31mTypeError\u001b[0m                                 Traceback (most recent call last)",
      "Input \u001b[1;32mIn [19]\u001b[0m, in \u001b[0;36m<cell line: 2>\u001b[1;34m()\u001b[0m\n\u001b[0;32m      1\u001b[0m a\u001b[38;5;241m=\u001b[39m\u001b[38;5;124m\"\u001b[39m\u001b[38;5;124mayush\u001b[39m\u001b[38;5;124m\"\u001b[39m\n\u001b[1;32m----> 2\u001b[0m \u001b[38;5;28;43mnext\u001b[39;49m\u001b[43m(\u001b[49m\u001b[43ma\u001b[49m\u001b[43m)\u001b[49m\n",
      "\u001b[1;31mTypeError\u001b[0m: 'str' object is not an iterator"
     ]
    }
   ],
   "source": [
    "a=\"ayush\"\n",
    "next(a)"
   ]
  },
  {
   "cell_type": "code",
   "execution_count": 32,
   "id": "4209322a",
   "metadata": {},
   "outputs": [],
   "source": [
    "b=iter(a)"
   ]
  },
  {
   "cell_type": "code",
   "execution_count": 33,
   "id": "7854055a",
   "metadata": {},
   "outputs": [
    {
     "data": {
      "text/plain": [
       "'a'"
      ]
     },
     "execution_count": 33,
     "metadata": {},
     "output_type": "execute_result"
    }
   ],
   "source": [
    "next(b)"
   ]
  },
  {
   "cell_type": "code",
   "execution_count": 34,
   "id": "31b65b6e",
   "metadata": {},
   "outputs": [
    {
     "data": {
      "text/plain": [
       "'y'"
      ]
     },
     "execution_count": 34,
     "metadata": {},
     "output_type": "execute_result"
    }
   ],
   "source": [
    "next(b)"
   ]
  },
  {
   "cell_type": "code",
   "execution_count": 36,
   "id": "20f1356c",
   "metadata": {},
   "outputs": [],
   "source": [
    "tup=(1,5,2,\"andy\")\n",
    "b=iter(tup)"
   ]
  },
  {
   "cell_type": "code",
   "execution_count": 37,
   "id": "1dc2a126",
   "metadata": {},
   "outputs": [
    {
     "data": {
      "text/plain": [
       "'andy'"
      ]
     },
     "execution_count": 37,
     "metadata": {},
     "output_type": "execute_result"
    }
   ],
   "source": [
    "next(b)\n",
    "next(b)\n",
    "next(b)\n",
    "next(b)"
   ]
  },
  {
   "cell_type": "code",
   "execution_count": 38,
   "id": "06f36218",
   "metadata": {},
   "outputs": [],
   "source": [
    "#GENERATOR \n",
    "\n",
    "\n"
   ]
  },
  {
   "cell_type": "code",
   "execution_count": 39,
   "id": "f480b83c",
   "metadata": {},
   "outputs": [
    {
     "data": {
      "text/plain": [
       "[0, 1, 2, 3, 4]"
      ]
     },
     "execution_count": 39,
     "metadata": {},
     "output_type": "execute_result"
    }
   ],
   "source": [
    "list(range(0,5))"
   ]
  },
  {
   "cell_type": "code",
   "execution_count": null,
   "id": "245e364d",
   "metadata": {},
   "outputs": [],
   "source": [
    "range func behaves live a generator func\n",
    "func for sqr of data till n:"
   ]
  },
  {
   "cell_type": "code",
   "execution_count": 10,
   "id": "f5e2b55a",
   "metadata": {},
   "outputs": [],
   "source": []
  },
  {
   "cell_type": "code",
   "execution_count": 19,
   "id": "4d85a9d8",
   "metadata": {},
   "outputs": [],
   "source": [
    "l1=[]\n",
    "def test(n):\n",
    "    i=0\n",
    "    while i <= n:\n",
    "        l1.append(i*i)\n",
    "        i=i+1"
   ]
  },
  {
   "cell_type": "code",
   "execution_count": 20,
   "id": "fd7f96ef",
   "metadata": {},
   "outputs": [],
   "source": [
    "test(5)"
   ]
  },
  {
   "cell_type": "code",
   "execution_count": 21,
   "id": "9c3cc004",
   "metadata": {},
   "outputs": [
    {
     "data": {
      "text/plain": [
       "[0, 1, 4, 9, 16, 25]"
      ]
     },
     "execution_count": 21,
     "metadata": {},
     "output_type": "execute_result"
    }
   ],
   "source": [
    "l1"
   ]
  },
  {
   "cell_type": "code",
   "execution_count": 23,
   "id": "4616de3c",
   "metadata": {},
   "outputs": [],
   "source": [
    "# or:\n",
    "def sqr_fun(n):\n",
    "    x=[i*i for i in range(n)]\n",
    "    return x"
   ]
  },
  {
   "cell_type": "code",
   "execution_count": 24,
   "id": "9ba509a8",
   "metadata": {},
   "outputs": [
    {
     "data": {
      "text/plain": [
       "[0, 1, 4, 9]"
      ]
     },
     "execution_count": 24,
     "metadata": {},
     "output_type": "execute_result"
    }
   ],
   "source": [
    "sqr_fun(4)"
   ]
  },
  {
   "cell_type": "code",
   "execution_count": 25,
   "id": "c529b556",
   "metadata": {},
   "outputs": [],
   "source": [
    "#RANGE AS GENERTOR:\n",
    "def sqr_fun(n):\n",
    "    x=[i*i for i in range(n)]\n",
    "    yield x"
   ]
  },
  {
   "cell_type": "code",
   "execution_count": 26,
   "id": "93b9d040",
   "metadata": {},
   "outputs": [
    {
     "data": {
      "text/plain": [
       "<generator object sqr_fun at 0x00000183ED7D8EB0>"
      ]
     },
     "execution_count": 26,
     "metadata": {},
     "output_type": "execute_result"
    }
   ],
   "source": [
    "sqr_fun(4)"
   ]
  },
  {
   "cell_type": "code",
   "execution_count": null,
   "id": "6138c67b",
   "metadata": {},
   "outputs": [],
   "source": [
    "it is yielding a data but since no return so it dont guve output only generates \n",
    "similar to range\n"
   ]
  },
  {
   "cell_type": "code",
   "execution_count": 27,
   "id": "47ac35bc",
   "metadata": {},
   "outputs": [
    {
     "data": {
      "text/plain": [
       "range(0, 4)"
      ]
     },
     "execution_count": 27,
     "metadata": {},
     "output_type": "execute_result"
    }
   ],
   "source": [
    "range(4)"
   ]
  },
  {
   "cell_type": "code",
   "execution_count": 29,
   "id": "21de3c97",
   "metadata": {},
   "outputs": [
    {
     "name": "stdout",
     "output_type": "stream",
     "text": [
      "[0, 1, 4, 9]\n"
     ]
    }
   ],
   "source": [
    "for i in sqr_fun(4): #here sqr_fun is generator func\n",
    "    print(i)"
   ]
  },
  {
   "cell_type": "code",
   "execution_count": 30,
   "id": "43a53d8d",
   "metadata": {},
   "outputs": [
    {
     "data": {
      "text/plain": [
       "[0, 1, 4, 9, 16]"
      ]
     },
     "execution_count": 30,
     "metadata": {},
     "output_type": "execute_result"
    }
   ],
   "source": [
    "next(sqr_fun(5))"
   ]
  },
  {
   "cell_type": "code",
   "execution_count": 31,
   "id": "4f67091f",
   "metadata": {},
   "outputs": [
    {
     "ename": "TypeError",
     "evalue": "'range' object is not an iterator",
     "output_type": "error",
     "traceback": [
      "\u001b[1;31m---------------------------------------------------------------------------\u001b[0m",
      "\u001b[1;31mTypeError\u001b[0m                                 Traceback (most recent call last)",
      "Input \u001b[1;32mIn [31]\u001b[0m, in \u001b[0;36m<cell line: 1>\u001b[1;34m()\u001b[0m\n\u001b[1;32m----> 1\u001b[0m \u001b[38;5;28;43mnext\u001b[39;49m\u001b[43m(\u001b[49m\u001b[38;5;28;43mrange\u001b[39;49m\u001b[43m(\u001b[49m\u001b[38;5;241;43m0\u001b[39;49m\u001b[43m,\u001b[49m\u001b[38;5;241;43m5\u001b[39;49m\u001b[43m)\u001b[49m\u001b[43m)\u001b[49m\n",
      "\u001b[1;31mTypeError\u001b[0m: 'range' object is not an iterator"
     ]
    }
   ],
   "source": [
    "next(range(0,5))"
   ]
  },
  {
   "cell_type": "code",
   "execution_count": 35,
   "id": "4be865ad",
   "metadata": {},
   "outputs": [],
   "source": [
    "r = iter(range(0,4))"
   ]
  },
  {
   "cell_type": "code",
   "execution_count": 36,
   "id": "0a98d50c",
   "metadata": {},
   "outputs": [
    {
     "data": {
      "text/plain": [
       "0"
      ]
     },
     "execution_count": 36,
     "metadata": {},
     "output_type": "execute_result"
    }
   ],
   "source": [
    "next(r)"
   ]
  },
  {
   "cell_type": "code",
   "execution_count": 37,
   "id": "bf128a7f",
   "metadata": {},
   "outputs": [
    {
     "data": {
      "text/plain": [
       "1"
      ]
     },
     "execution_count": 37,
     "metadata": {},
     "output_type": "execute_result"
    }
   ],
   "source": [
    "next(r)"
   ]
  },
  {
   "cell_type": "code",
   "execution_count": 38,
   "id": "c7d5922b",
   "metadata": {},
   "outputs": [
    {
     "data": {
      "text/plain": [
       "2"
      ]
     },
     "execution_count": 38,
     "metadata": {},
     "output_type": "execute_result"
    }
   ],
   "source": [
    "next(r)"
   ]
  },
  {
   "cell_type": "code",
   "execution_count": 50,
   "id": "949d648a",
   "metadata": {},
   "outputs": [],
   "source": [
    "#to generate fibonacci seqn:\n",
    "# 1,1,2,3,5,8,13,21,34,55,.....\n",
    "def fibo(n):\n",
    "    a=1\n",
    "    b=1\n",
    "    l=[]\n",
    "    for i in range(n):\n",
    "        l.append(a)\n",
    "        a,b= b,a+b\n",
    "    return l\n",
    "         "
   ]
  },
  {
   "cell_type": "code",
   "execution_count": 51,
   "id": "94ed81d3",
   "metadata": {},
   "outputs": [
    {
     "data": {
      "text/plain": [
       "[1, 1, 2, 3, 5, 8, 13, 21]"
      ]
     },
     "execution_count": 51,
     "metadata": {},
     "output_type": "execute_result"
    }
   ],
   "source": [
    "fibo(8)"
   ]
  },
  {
   "cell_type": "code",
   "execution_count": 61,
   "id": "cac7ba7f",
   "metadata": {},
   "outputs": [],
   "source": [
    "# now we want not to get return so we want a generator function:\n",
    "def fibo1(n):\n",
    "    a=1\n",
    "    b=1\n",
    "    for i in range(n):\n",
    "        yield a\n",
    "        a,b= b,a+b\n",
    "    \n",
    "         \n",
    "    "
   ]
  },
  {
   "cell_type": "code",
   "execution_count": 62,
   "id": "2eac76d3",
   "metadata": {},
   "outputs": [
    {
     "data": {
      "text/plain": [
       "<generator object fibo1 at 0x00000183ED9F00B0>"
      ]
     },
     "execution_count": 62,
     "metadata": {},
     "output_type": "execute_result"
    }
   ],
   "source": [
    "fibo1(5) #generator func"
   ]
  },
  {
   "cell_type": "code",
   "execution_count": 64,
   "id": "61f8e2a3",
   "metadata": {},
   "outputs": [
    {
     "name": "stdout",
     "output_type": "stream",
     "text": [
      "1\n",
      "1\n",
      "2\n",
      "3\n",
      "5\n",
      "8\n",
      "13\n",
      "21\n"
     ]
    }
   ],
   "source": [
    "for i in fibo1(8):\n",
    "    print(i)"
   ]
  },
  {
   "cell_type": "code",
   "execution_count": null,
   "id": "eb27af10",
   "metadata": {},
   "outputs": [],
   "source": [
    "agar generator func na ho i.e. fibo() wala func ho aur n large\n",
    "ho .e. fibo(100000000000000) to ye system ko crash kar dega , hang kyonki ye pehle poori list genefrate karega fir output \n",
    "dega cpu will bw 100 % used but for generator function \n",
    "kya hoga saath ke saath list produce hogi to memory space kam use hoga thoda aur cpu bhi theek thak rahega\n",
    "\n"
   ]
  },
  {
   "cell_type": "code",
   "execution_count": null,
   "id": "45d5f98e",
   "metadata": {},
   "outputs": [],
   "source": [
    "to agar koi data lamba hai to yield use karo \n"
   ]
  },
  {
   "cell_type": "markdown",
   "id": "52970ca9",
   "metadata": {},
   "source": [
    "# FILE HANDLING"
   ]
  },
  {
   "cell_type": "code",
   "execution_count": 68,
   "id": "88562574",
   "metadata": {},
   "outputs": [
    {
     "ename": "FileNotFoundError",
     "evalue": "[Errno 2] No such file or directory: 'abc.txt'",
     "output_type": "error",
     "traceback": [
      "\u001b[1;31m---------------------------------------------------------------------------\u001b[0m",
      "\u001b[1;31mFileNotFoundError\u001b[0m                         Traceback (most recent call last)",
      "Input \u001b[1;32mIn [68]\u001b[0m, in \u001b[0;36m<cell line: 1>\u001b[1;34m()\u001b[0m\n\u001b[1;32m----> 1\u001b[0m f \u001b[38;5;241m=\u001b[39m \u001b[38;5;28;43mopen\u001b[39;49m\u001b[43m(\u001b[49m\u001b[38;5;124;43m\"\u001b[39;49m\u001b[38;5;124;43mabc.txt\u001b[39;49m\u001b[38;5;124;43m\"\u001b[39;49m\u001b[43m)\u001b[49m\n",
      "\u001b[1;31mFileNotFoundError\u001b[0m: [Errno 2] No such file or directory: 'abc.txt'"
     ]
    }
   ],
   "source": [
    "f = open(\"abc.txt\")"
   ]
  },
  {
   "cell_type": "code",
   "execution_count": 69,
   "id": "458e57e3",
   "metadata": {},
   "outputs": [
    {
     "name": "stdout",
     "output_type": "stream",
     "text": [
      " Volume in drive C has no label.\n",
      " Volume Serial Number is 2CF1-90A3\n",
      "\n",
      " Directory of C:\\Users\\HP\\Jupyter codes\n",
      "\n",
      "08/19/2022  07:52 PM    <DIR>          .\n",
      "08/19/2022  07:52 PM    <DIR>          ..\n",
      "08/19/2022  05:27 PM    <DIR>          .ipynb_checkpoints\n",
      "08/19/2022  07:52 PM            18,411 _10. 18 june iterator,generator,map, file op.ipynb\n",
      "08/12/2022  06:31 PM            11,892 1. 14  may  var in python intro , data types.ipynb\n",
      "08/18/2022  11:47 AM            49,579 2. 15 may string operation.ipynb\n",
      "08/15/2022  12:49 PM            69,356 3. 21 may list, dict , tuples .ipynb\n",
      "08/16/2022  12:02 AM            13,120 4.  22 may if else and for loop.ipynb\n",
      "08/16/2022  07:27 PM            25,955 5. 28 may for loop.ipynb\n",
      "08/17/2022  02:33 AM         3,972,044 6. 29 may  while,func.ipynb\n",
      "08/17/2022  05:01 PM            52,606 7. 4 june revision.ipynb\n",
      "08/18/2022  02:18 AM            17,702 8. 5 june functions.ipynb\n",
      "08/19/2022  02:21 PM            26,223 9. 12 june Exception handling.ipynb\n",
      "08/19/2022  02:26 PM           408,078 9. Exception_handling_revision_class.ipynb\n",
      "07/30/2020  09:31 AM            10,389 assertion.png\n",
      "08/18/2022  06:48 PM    <DIR>          ASSIGNMENTS\n",
      "              12 File(s)      4,675,355 bytes\n",
      "               4 Dir(s)  84,445,818,880 bytes free\n"
     ]
    }
   ],
   "source": [
    "ls # to lsit files and directories"
   ]
  },
  {
   "cell_type": "code",
   "execution_count": 71,
   "id": "a1679b27",
   "metadata": {},
   "outputs": [
    {
     "name": "stdout",
     "output_type": "stream",
     "text": [
      " Volume in drive D has no label.\n",
      " Volume Serial Number is 5871-1FB7\n",
      "\n",
      " Directory of D:\\\n",
      "\n",
      "09/14/2021  11:06 PM    <DIR>          ankit sem 3\n",
      "05/30/2022  08:20 AM            14,779 bg1.JPG\n",
      "05/29/2022  08:55 AM    <DIR>          files\n",
      "07/16/2021  03:07 PM    <DIR>          JAM Statistics\n",
      "05/29/2022  08:51 AM    <DIR>          lpg\n",
      "06/29/2022  05:04 PM    <DIR>          movies\n",
      "01/09/2022  06:32 PM    <DIR>          New folder\n",
      "08/09/2021  10:17 PM    <DIR>          pics\n",
      "06/28/2021  01:17 PM    <DIR>          songs\n",
      "               1 File(s)         14,779 bytes\n",
      "               8 Dir(s)  114,056,450,048 bytes free\n"
     ]
    }
   ],
   "source": [
    "ls D:"
   ]
  },
  {
   "cell_type": "code",
   "execution_count": 72,
   "id": "89b39ff4",
   "metadata": {},
   "outputs": [
    {
     "name": "stdout",
     "output_type": "stream",
     "text": [
      " Volume in drive E has no label.\n",
      " Volume Serial Number is 6C76-C988\n",
      "\n",
      " Directory of E:\\\n",
      "\n",
      "07/05/2022  11:59 AM    <DIR>          Afcat2022\n",
      "07/05/2022  12:58 PM    <DIR>          agniveer\n",
      "06/19/2022  09:18 AM    <DIR>          Ankit_Vishwas_Project\n",
      "03/30/2022  06:21 PM    <DIR>          asus backup\n",
      "06/29/2022  09:04 PM    <DIR>          cds 2 2022\n",
      "08/19/2022  07:51 PM    <DIR>          DATA SCIENCE\n",
      "06/06/2022  12:26 PM         8,388,608 DB.mdf\n",
      "06/06/2022  12:26 PM         8,388,608 DB_log.ldf\n",
      "06/08/2022  08:28 PM         8,388,608 DB2.mdf\n",
      "06/08/2022  08:28 PM         8,388,608 DB2_log.ldf\n",
      "06/19/2022  09:07 AM         8,388,608 lpgdatabase.mdf\n",
      "06/19/2022  09:07 AM         8,388,608 lpgdatabase_log.ldf\n",
      "05/20/2022  03:30 PM    <DIR>          New folder\n",
      "05/20/2022  04:12 PM    <DIR>          VSPath2019\n",
      "08/11/2022  01:51 PM         1,929,155 who moved my cheese.pdf\n",
      "               7 File(s)     52,260,803 bytes\n",
      "               8 Dir(s)  345,975,582,720 bytes free\n"
     ]
    }
   ],
   "source": [
    "ls E:"
   ]
  },
  {
   "cell_type": "code",
   "execution_count": 73,
   "id": "7de6187a",
   "metadata": {},
   "outputs": [],
   "source": [
    "#to create file:\n",
    "f = open(\"abc1.txt\" ,'w')"
   ]
  },
  {
   "cell_type": "code",
   "execution_count": 74,
   "id": "17404c32",
   "metadata": {},
   "outputs": [
    {
     "name": "stdout",
     "output_type": "stream",
     "text": [
      " Volume in drive C has no label.\n",
      " Volume Serial Number is 2CF1-90A3\n",
      "\n",
      " Directory of C:\\Users\\HP\\Jupyter codes\n",
      "\n",
      "08/19/2022  07:56 PM    <DIR>          .\n",
      "08/19/2022  07:56 PM    <DIR>          ..\n",
      "08/19/2022  05:27 PM    <DIR>          .ipynb_checkpoints\n",
      "08/19/2022  07:54 PM            23,675 _10. 18 june iterator,generator,map, file op.ipynb\n",
      "08/12/2022  06:31 PM            11,892 1. 14  may  var in python intro , data types.ipynb\n",
      "08/18/2022  11:47 AM            49,579 2. 15 may string operation.ipynb\n",
      "08/15/2022  12:49 PM            69,356 3. 21 may list, dict , tuples .ipynb\n",
      "08/16/2022  12:02 AM            13,120 4.  22 may if else and for loop.ipynb\n",
      "08/16/2022  07:27 PM            25,955 5. 28 may for loop.ipynb\n",
      "08/17/2022  02:33 AM         3,972,044 6. 29 may  while,func.ipynb\n",
      "08/17/2022  05:01 PM            52,606 7. 4 june revision.ipynb\n",
      "08/18/2022  02:18 AM            17,702 8. 5 june functions.ipynb\n",
      "08/19/2022  02:21 PM            26,223 9. 12 june Exception handling.ipynb\n",
      "08/19/2022  02:26 PM           408,078 9. Exception_handling_revision_class.ipynb\n",
      "08/19/2022  07:56 PM                 0 abc1.txt\n",
      "07/30/2020  09:31 AM            10,389 assertion.png\n",
      "08/18/2022  06:48 PM    <DIR>          ASSIGNMENTS\n",
      "              13 File(s)      4,680,619 bytes\n",
      "               4 Dir(s)  84,447,756,288 bytes free\n"
     ]
    }
   ],
   "source": [
    "ls"
   ]
  },
  {
   "cell_type": "code",
   "execution_count": 75,
   "id": "3c78971a",
   "metadata": {},
   "outputs": [],
   "source": [
    "#abc1.txt is created above list see"
   ]
  },
  {
   "cell_type": "code",
   "execution_count": 76,
   "id": "3a39375e",
   "metadata": {},
   "outputs": [],
   "source": [
    "#'w' is write mode , 'r' is read mode\n",
    "other are a , rb etc \n",
    "w+ = both read amnd write"
   ]
  },
  {
   "cell_type": "code",
   "execution_count": 78,
   "id": "000e94ce",
   "metadata": {},
   "outputs": [],
   "source": [
    "f = open(\"abc1.txt\",'w')"
   ]
  },
  {
   "cell_type": "code",
   "execution_count": 79,
   "id": "f8c94326",
   "metadata": {},
   "outputs": [],
   "source": [
    "#we have opened the file now we need to write in it"
   ]
  },
  {
   "cell_type": "code",
   "execution_count": 80,
   "id": "8d0386e6",
   "metadata": {},
   "outputs": [
    {
     "data": {
      "text/plain": [
       "31"
      ]
     },
     "execution_count": 80,
     "metadata": {},
     "output_type": "execute_result"
    }
   ],
   "source": [
    "f.write(\"This is my first file operation\")"
   ]
  },
  {
   "cell_type": "code",
   "execution_count": 81,
   "id": "e7c5864a",
   "metadata": {},
   "outputs": [],
   "source": [
    "f.close()"
   ]
  },
  {
   "cell_type": "code",
   "execution_count": 82,
   "id": "302904c3",
   "metadata": {},
   "outputs": [
    {
     "name": "stdout",
     "output_type": "stream",
     "text": [
      " Volume in drive C has no label.\n",
      " Volume Serial Number is 2CF1-90A3\n",
      "\n",
      " Directory of C:\\Users\\HP\\Jupyter codes\n",
      "\n",
      "08/19/2022  08:00 PM    <DIR>          .\n",
      "08/19/2022  08:00 PM    <DIR>          ..\n",
      "08/19/2022  05:27 PM    <DIR>          .ipynb_checkpoints\n",
      "08/19/2022  08:00 PM            26,293 _10. 18 june iterator,generator,map, file op.ipynb\n",
      "08/12/2022  06:31 PM            11,892 1. 14  may  var in python intro , data types.ipynb\n",
      "08/18/2022  11:47 AM            49,579 2. 15 may string operation.ipynb\n",
      "08/15/2022  12:49 PM            69,356 3. 21 may list, dict , tuples .ipynb\n",
      "08/16/2022  12:02 AM            13,120 4.  22 may if else and for loop.ipynb\n",
      "08/16/2022  07:27 PM            25,955 5. 28 may for loop.ipynb\n",
      "08/17/2022  02:33 AM         3,972,044 6. 29 may  while,func.ipynb\n",
      "08/17/2022  05:01 PM            52,606 7. 4 june revision.ipynb\n",
      "08/18/2022  02:18 AM            17,702 8. 5 june functions.ipynb\n",
      "08/19/2022  02:21 PM            26,223 9. 12 june Exception handling.ipynb\n",
      "08/19/2022  02:26 PM           408,078 9. Exception_handling_revision_class.ipynb\n",
      "08/19/2022  08:01 PM                31 abc1.txt\n",
      "07/30/2020  09:31 AM            10,389 assertion.png\n",
      "08/18/2022  06:48 PM    <DIR>          ASSIGNMENTS\n",
      "              13 File(s)      4,683,268 bytes\n",
      "               4 Dir(s)  84,445,118,464 bytes free\n"
     ]
    }
   ],
   "source": [
    "ls"
   ]
  },
  {
   "cell_type": "code",
   "execution_count": 84,
   "id": "01b8229d",
   "metadata": {},
   "outputs": [],
   "source": [
    "#now in above list no of words in file abc1.txt has changed from 0 to 31 which means we have succefully written in the file"
   ]
  },
  {
   "cell_type": "code",
   "execution_count": 86,
   "id": "77c00e91",
   "metadata": {},
   "outputs": [],
   "source": [
    "l = [1,2,3,5,6,\"andy\"]\n",
    "#store it in a file:"
   ]
  },
  {
   "cell_type": "code",
   "execution_count": 87,
   "id": "89937f51",
   "metadata": {},
   "outputs": [
    {
     "ename": "TypeError",
     "evalue": "write() argument must be str, not list",
     "output_type": "error",
     "traceback": [
      "\u001b[1;31m---------------------------------------------------------------------------\u001b[0m",
      "\u001b[1;31mTypeError\u001b[0m                                 Traceback (most recent call last)",
      "Input \u001b[1;32mIn [87]\u001b[0m, in \u001b[0;36m<cell line: 2>\u001b[1;34m()\u001b[0m\n\u001b[0;32m      1\u001b[0m f1\u001b[38;5;241m=\u001b[39m\u001b[38;5;28mopen\u001b[39m(\u001b[38;5;124m\"\u001b[39m\u001b[38;5;124mabc1.txt\u001b[39m\u001b[38;5;124m\"\u001b[39m,\u001b[38;5;124m'\u001b[39m\u001b[38;5;124mw\u001b[39m\u001b[38;5;124m'\u001b[39m)\n\u001b[1;32m----> 2\u001b[0m \u001b[43mf1\u001b[49m\u001b[38;5;241;43m.\u001b[39;49m\u001b[43mwrite\u001b[49m\u001b[43m(\u001b[49m\u001b[43ml\u001b[49m\u001b[43m)\u001b[49m\n\u001b[0;32m      3\u001b[0m f1\u001b[38;5;241m.\u001b[39mclose()\n",
      "\u001b[1;31mTypeError\u001b[0m: write() argument must be str, not list"
     ]
    }
   ],
   "source": [
    "f1=open(\"abc1.txt\",'w')\n",
    "f1.write(l)\n",
    "f1.close()\n",
    "#we cannot input list directly first convert it into str"
   ]
  },
  {
   "cell_type": "code",
   "execution_count": 88,
   "id": "a2f40b9a",
   "metadata": {},
   "outputs": [],
   "source": [
    "f1=open(\"abc1.txt\",'w')\n",
    "f1.write(str(l))\n",
    "f1.close()\n",
    "#close karna important hai varna result nhi dikhega"
   ]
  },
  {
   "cell_type": "code",
   "execution_count": 90,
   "id": "05f00a3f",
   "metadata": {},
   "outputs": [],
   "source": [
    "#file extension any \n",
    "f2=open(\"abc2.ankit\",'w')\n",
    "f2.write(\"fghdtyfhfgvukjgkujghuuguuguiygb\")\n",
    "f2.close()"
   ]
  },
  {
   "cell_type": "code",
   "execution_count": 91,
   "id": "15914234",
   "metadata": {},
   "outputs": [],
   "source": [
    "#other way to do same things:\n"
   ]
  },
  {
   "cell_type": "code",
   "execution_count": 94,
   "id": "cc9b8970",
   "metadata": {},
   "outputs": [
    {
     "name": "stdout",
     "output_type": "stream",
     "text": [
      "Overwriting abc3.txt\n"
     ]
    }
   ],
   "source": [
    "%%writefile abc3.txt\n",
    "my other way execution\n",
    "FGSDCFGHDC\n",
    "JHGVJHYGYGU\n",
    "65344547\n",
    "#here we dont need to close tpo see changes"
   ]
  },
  {
   "cell_type": "code",
   "execution_count": 101,
   "id": "53b36ae2",
   "metadata": {},
   "outputs": [
    {
     "data": {
      "text/plain": [
       "'my other way execution\\nFGSDCFGHDC\\nJHGVJHYGYGU\\n65344547\\n#here we dont need to close tpo see changes\\n'"
      ]
     },
     "execution_count": 101,
     "metadata": {},
     "output_type": "execute_result"
    }
   ],
   "source": [
    "# to read a existing file :\n",
    "f = open(\"abc3.txt\")\n",
    "f.read()"
   ]
  },
  {
   "cell_type": "code",
   "execution_count": 102,
   "id": "c80ed76f",
   "metadata": {},
   "outputs": [
    {
     "data": {
      "text/plain": [
       "''"
      ]
     },
     "execution_count": 102,
     "metadata": {},
     "output_type": "execute_result"
    }
   ],
   "source": [
    "f.read()\n"
   ]
  },
  {
   "cell_type": "code",
   "execution_count": 103,
   "id": "8bc7652e",
   "metadata": {},
   "outputs": [],
   "source": [
    "f.close()"
   ]
  },
  {
   "cell_type": "code",
   "execution_count": null,
   "id": "72f9f970",
   "metadata": {},
   "outputs": [],
   "source": [
    "#is bar blank milla kyonki pehli baar entire data set pad liya aur \n",
    "pointer last index pe jaa chuka hai\n",
    "to ab agar firse read karenge to last pointer pe '' aayega"
   ]
  },
  {
   "cell_type": "code",
   "execution_count": 104,
   "id": "8de260b7",
   "metadata": {},
   "outputs": [],
   "source": [
    "#read from a particular location:: to set cursor at particular point\n",
    " \n",
    "    \n",
    "f=open(\"abc3.txt\",'r')\n",
    "\n",
    "\n"
   ]
  },
  {
   "cell_type": "code",
   "execution_count": 105,
   "id": "698ac20a",
   "metadata": {},
   "outputs": [
    {
     "data": {
      "text/plain": [
       "'my other way execution\\nFGSDCFGHDC\\nJHGVJHYGYGU\\n65344547\\n#here we dont need to close tpo see changes\\n'"
      ]
     },
     "execution_count": 105,
     "metadata": {},
     "output_type": "execute_result"
    }
   ],
   "source": [
    "f.read()"
   ]
  },
  {
   "cell_type": "markdown",
   "id": "1c170ce3",
   "metadata": {},
   "source": [
    "### seek and tell"
   ]
  },
  {
   "cell_type": "code",
   "execution_count": 106,
   "id": "42788e8a",
   "metadata": {},
   "outputs": [
    {
     "data": {
      "text/plain": [
       "0"
      ]
     },
     "execution_count": 106,
     "metadata": {},
     "output_type": "execute_result"
    }
   ],
   "source": [
    "#now:\n",
    "#pointer at last location \n",
    "#SEEK FUNCTION: to move cursor at particular inde\n",
    "f.seek(0)"
   ]
  },
  {
   "cell_type": "code",
   "execution_count": 107,
   "id": "75e43c8f",
   "metadata": {},
   "outputs": [
    {
     "data": {
      "text/plain": [
       "'my other way execution\\nFGSDCFGHDC\\nJHGVJHYGYGU\\n65344547\\n#here we dont need to close tpo see changes\\n'"
      ]
     },
     "execution_count": 107,
     "metadata": {},
     "output_type": "execute_result"
    }
   ],
   "source": [
    "#ab o pe set kar diya to firse read kar sakte hai \n",
    "f.read()"
   ]
  },
  {
   "cell_type": "code",
   "execution_count": 108,
   "id": "8d627c8b",
   "metadata": {},
   "outputs": [
    {
     "data": {
      "text/plain": [
       "''"
      ]
     },
     "execution_count": 108,
     "metadata": {},
     "output_type": "execute_result"
    }
   ],
   "source": [
    "#ab firse last index pe aa gya \n",
    "f.read()"
   ]
  },
  {
   "cell_type": "code",
   "execution_count": 111,
   "id": "07136903",
   "metadata": {},
   "outputs": [
    {
     "data": {
      "text/plain": [
       "16"
      ]
     },
     "execution_count": 111,
     "metadata": {},
     "output_type": "execute_result"
    }
   ],
   "source": [
    "f.seek(16)"
   ]
  },
  {
   "cell_type": "code",
   "execution_count": 112,
   "id": "5d45a073",
   "metadata": {},
   "outputs": [
    {
     "data": {
      "text/plain": [
       "'cution\\nFGSDCFGHDC\\nJHGVJHYGYGU\\n65344547\\n#here we dont need to close tpo see changes\\n'"
      ]
     },
     "execution_count": 112,
     "metadata": {},
     "output_type": "execute_result"
    }
   ],
   "source": [
    "f.read()"
   ]
  },
  {
   "cell_type": "code",
   "execution_count": 113,
   "id": "881dfe4b",
   "metadata": {},
   "outputs": [],
   "source": [
    "#Tell Function:\n",
    "#tells about the index where cursor is currently in file\n",
    "\n",
    "\n"
   ]
  },
  {
   "cell_type": "code",
   "execution_count": 114,
   "id": "a7c5151d",
   "metadata": {},
   "outputs": [],
   "source": [
    "f1 = open(\"abc3.txt\")"
   ]
  },
  {
   "cell_type": "code",
   "execution_count": 115,
   "id": "3d879311",
   "metadata": {},
   "outputs": [
    {
     "data": {
      "text/plain": [
       "0"
      ]
     },
     "execution_count": 115,
     "metadata": {},
     "output_type": "execute_result"
    }
   ],
   "source": [
    "f1.tell()"
   ]
  },
  {
   "cell_type": "code",
   "execution_count": 116,
   "id": "6a0dc105",
   "metadata": {},
   "outputs": [
    {
     "data": {
      "text/plain": [
       "'my other way execution\\nFGSDCFGHDC\\nJHGVJHYGYGU\\n65344547\\n#here we dont need to close tpo see changes\\n'"
      ]
     },
     "execution_count": 116,
     "metadata": {},
     "output_type": "execute_result"
    }
   ],
   "source": [
    "f1.read()"
   ]
  },
  {
   "cell_type": "code",
   "execution_count": 117,
   "id": "e99fd8f5",
   "metadata": {},
   "outputs": [
    {
     "data": {
      "text/plain": [
       "104"
      ]
     },
     "execution_count": 117,
     "metadata": {},
     "output_type": "execute_result"
    }
   ],
   "source": [
    "f1.tell()"
   ]
  },
  {
   "cell_type": "code",
   "execution_count": 118,
   "id": "b883632f",
   "metadata": {},
   "outputs": [
    {
     "data": {
      "text/plain": [
       "16"
      ]
     },
     "execution_count": 118,
     "metadata": {},
     "output_type": "execute_result"
    }
   ],
   "source": [
    "f1.seek(16)"
   ]
  },
  {
   "cell_type": "code",
   "execution_count": 119,
   "id": "46c629ca",
   "metadata": {},
   "outputs": [
    {
     "data": {
      "text/plain": [
       "16"
      ]
     },
     "execution_count": 119,
     "metadata": {},
     "output_type": "execute_result"
    }
   ],
   "source": [
    "f1.tell()"
   ]
  },
  {
   "cell_type": "code",
   "execution_count": 120,
   "id": "840ca0f6",
   "metadata": {},
   "outputs": [
    {
     "data": {
      "text/plain": [
       "16"
      ]
     },
     "execution_count": 120,
     "metadata": {},
     "output_type": "execute_result"
    }
   ],
   "source": [
    "# IF WE GIVE PARAMETER IN READ FUNCTRION THEN IT WILL READ \n",
    "#CHARACTRS EQUAL TO PARNAMETER\n",
    "f1.tell()"
   ]
  },
  {
   "cell_type": "code",
   "execution_count": 121,
   "id": "3620d652",
   "metadata": {},
   "outputs": [
    {
     "data": {
      "text/plain": [
       "'cution\\nF'"
      ]
     },
     "execution_count": 121,
     "metadata": {},
     "output_type": "execute_result"
    }
   ],
   "source": [
    "f1.read(8)"
   ]
  },
  {
   "cell_type": "code",
   "execution_count": 122,
   "id": "0f04c995",
   "metadata": {},
   "outputs": [
    {
     "data": {
      "text/plain": [
       "25"
      ]
     },
     "execution_count": 122,
     "metadata": {},
     "output_type": "execute_result"
    }
   ],
   "source": [
    "f1.tell()"
   ]
  },
  {
   "cell_type": "markdown",
   "id": "44496fd4",
   "metadata": {},
   "source": [
    "### readline func and readlines function "
   ]
  },
  {
   "cell_type": "code",
   "execution_count": 124,
   "id": "98c59119",
   "metadata": {},
   "outputs": [
    {
     "data": {
      "text/plain": [
       "0"
      ]
     },
     "execution_count": 124,
     "metadata": {},
     "output_type": "execute_result"
    }
   ],
   "source": [
    "f2 = open(\"abc3.txt\")\n",
    "f2.seek(0)"
   ]
  },
  {
   "cell_type": "code",
   "execution_count": 125,
   "id": "d267c429",
   "metadata": {},
   "outputs": [
    {
     "data": {
      "text/plain": [
       "'my other way execution\\n'"
      ]
     },
     "execution_count": 125,
     "metadata": {},
     "output_type": "execute_result"
    }
   ],
   "source": [
    "f2.readline()"
   ]
  },
  {
   "cell_type": "code",
   "execution_count": 126,
   "id": "77125431",
   "metadata": {},
   "outputs": [
    {
     "data": {
      "text/plain": [
       "['FGSDCFGHDC\\n',\n",
       " 'JHGVJHYGYGU\\n',\n",
       " '65344547\\n',\n",
       " '#here we dont need to close tpo see changes\\n']"
      ]
     },
     "execution_count": 126,
     "metadata": {},
     "output_type": "execute_result"
    }
   ],
   "source": [
    "f2.readlines()"
   ]
  },
  {
   "cell_type": "markdown",
   "id": "5783d3a6",
   "metadata": {},
   "source": [
    "### file no func"
   ]
  },
  {
   "cell_type": "code",
   "execution_count": 129,
   "id": "b961d00f",
   "metadata": {},
   "outputs": [
    {
     "data": {
      "text/plain": [
       "7"
      ]
     },
     "execution_count": 129,
     "metadata": {},
     "output_type": "execute_result"
    }
   ],
   "source": [
    "f2.fileno()"
   ]
  },
  {
   "cell_type": "code",
   "execution_count": 131,
   "id": "7025cfc7",
   "metadata": {},
   "outputs": [],
   "source": [
    "f3 = open(\"test1.txt\",'w')"
   ]
  },
  {
   "cell_type": "code",
   "execution_count": 133,
   "id": "fb3bc5e3",
   "metadata": {},
   "outputs": [
    {
     "data": {
      "text/plain": [
       "53"
      ]
     },
     "execution_count": 133,
     "metadata": {},
     "output_type": "execute_result"
    }
   ],
   "source": [
    "f3.write(\"gonna write this tofay kjhvjadbfvakjfuhbafkjsbjfkjbsa\")"
   ]
  },
  {
   "cell_type": "code",
   "execution_count": 134,
   "id": "3eea463b",
   "metadata": {},
   "outputs": [],
   "source": [
    "f3.close()"
   ]
  },
  {
   "cell_type": "code",
   "execution_count": 135,
   "id": "d1bdf033",
   "metadata": {},
   "outputs": [],
   "source": [
    "#evertime you write it ovwerwrites so we append :::\n"
   ]
  },
  {
   "cell_type": "markdown",
   "id": "a3dccbd1",
   "metadata": {},
   "source": [
    "### append mode"
   ]
  },
  {
   "cell_type": "code",
   "execution_count": 5,
   "id": "7c613172",
   "metadata": {},
   "outputs": [],
   "source": [
    "f =open(\"test1.txt\" ,'a')#append mode"
   ]
  },
  {
   "cell_type": "code",
   "execution_count": 6,
   "id": "a42ea9c5",
   "metadata": {},
   "outputs": [
    {
     "data": {
      "text/plain": [
       "57"
      ]
     },
     "execution_count": 6,
     "metadata": {},
     "output_type": "execute_result"
    }
   ],
   "source": [
    "f.write(\"\\n  ye append hone ye baad wala hai bhai dhyan se dekh lo \")"
   ]
  },
  {
   "cell_type": "code",
   "execution_count": 8,
   "id": "ee76e0c4",
   "metadata": {},
   "outputs": [],
   "source": [
    "f.close()"
   ]
  },
  {
   "cell_type": "markdown",
   "id": "a116b575",
   "metadata": {},
   "source": [
    "### modes:\n"
   ]
  },
  {
   "cell_type": "markdown",
   "id": "2e087400",
   "metadata": {},
   "source": [
    "r+ ka matlab both read nad write mode ,agar file nhi hai to error __________\n",
    "w+ both read and write bas ye check karta hai ki file hai ki nhi aur nhi hoti to create karta hai _____\n",
    "a se append _____a+ append and crerate new"
   ]
  },
  {
   "cell_type": "code",
   "execution_count": 10,
   "id": "34ff3cbf",
   "metadata": {},
   "outputs": [
    {
     "data": {
      "text/plain": [
       "'test1.txt'"
      ]
     },
     "execution_count": 10,
     "metadata": {},
     "output_type": "execute_result"
    }
   ],
   "source": [
    "#filename \n",
    "f.name"
   ]
  },
  {
   "cell_type": "code",
   "execution_count": 13,
   "id": "2f296452",
   "metadata": {},
   "outputs": [
    {
     "data": {
      "text/plain": [
       "True"
      ]
     },
     "execution_count": 13,
     "metadata": {},
     "output_type": "execute_result"
    }
   ],
   "source": [
    "#to check if file closed or not\n",
    "f.closed"
   ]
  },
  {
   "cell_type": "code",
   "execution_count": 14,
   "id": "6c4fd8c0",
   "metadata": {},
   "outputs": [
    {
     "data": {
      "text/plain": [
       "'a'"
      ]
     },
     "execution_count": 14,
     "metadata": {},
     "output_type": "execute_result"
    }
   ],
   "source": [
    "# to ckeck mode:\n",
    "f.mode"
   ]
  },
  {
   "cell_type": "code",
   "execution_count": 15,
   "id": "2aa25ac8",
   "metadata": {},
   "outputs": [],
   "source": [
    "# to create file ion specified location\n",
    "f=open(\"D:/testfile.txt\",'w')"
   ]
  },
  {
   "cell_type": "markdown",
   "id": "ca98fc87",
   "metadata": {},
   "source": [
    "### MAP , REDUCE AND FILTER FUNCTION"
   ]
  },
  {
   "cell_type": "code",
   "execution_count": 16,
   "id": "b27ab7cf",
   "metadata": {},
   "outputs": [
    {
     "name": "stdout",
     "output_type": "stream",
     "text": [
      "[4, 2025, 4, 16, 4, 25, 64, 3136, 64]\n"
     ]
    }
   ],
   "source": [
    "l=[2,45,2,4,2,5,8,56,8]\n",
    "#try find sqr of each no in list and rreturn in list format:\n",
    "x=[i*i for i in l]\n",
    "print(x)"
   ]
  },
  {
   "cell_type": "code",
   "execution_count": 17,
   "id": "ac650f19",
   "metadata": {},
   "outputs": [],
   "source": [
    "#Using MAP func:\n",
    "\n",
    "#    map(func,iterable)"
   ]
  },
  {
   "cell_type": "code",
   "execution_count": 18,
   "id": "4d4e419c",
   "metadata": {},
   "outputs": [],
   "source": [
    "def sq(n):\n",
    "    return n**2\n",
    "    \n",
    "    "
   ]
  },
  {
   "cell_type": "code",
   "execution_count": 19,
   "id": "24c14353",
   "metadata": {},
   "outputs": [
    {
     "data": {
      "text/plain": [
       "<map at 0x2646045eb80>"
      ]
     },
     "execution_count": 19,
     "metadata": {},
     "output_type": "execute_result"
    }
   ],
   "source": [
    "map(sq,l)"
   ]
  },
  {
   "cell_type": "code",
   "execution_count": 20,
   "id": "bf3ffda9",
   "metadata": {},
   "outputs": [
    {
     "data": {
      "text/plain": [
       "[4, 2025, 4, 16, 4, 25, 64, 3136, 64]"
      ]
     },
     "execution_count": 20,
     "metadata": {},
     "output_type": "execute_result"
    }
   ],
   "source": [
    "list(map(sq,l))"
   ]
  },
  {
   "cell_type": "code",
   "execution_count": 21,
   "id": "04577bef",
   "metadata": {},
   "outputs": [],
   "source": [
    "# map always maps each func with each element of iterable...."
   ]
  },
  {
   "cell_type": "code",
   "execution_count": 24,
   "id": "ab370d57",
   "metadata": {},
   "outputs": [
    {
     "data": {
      "text/plain": [
       "[4, 2025, 4, 16, 4, 25, 64, 3136, 64]"
      ]
     },
     "execution_count": 24,
     "metadata": {},
     "output_type": "execute_result"
    }
   ],
   "source": [
    "list(map(lambda x: x**2,l))"
   ]
  },
  {
   "cell_type": "code",
   "execution_count": 25,
   "id": "52f76937",
   "metadata": {},
   "outputs": [
    {
     "data": {
      "text/plain": [
       "[2, 45, 2, 4, 2, 5, 8, 56, 8]"
      ]
     },
     "execution_count": 25,
     "metadata": {},
     "output_type": "execute_result"
    }
   ],
   "source": [
    "#to conert every elt inside list into string:\n",
    "l"
   ]
  },
  {
   "cell_type": "code",
   "execution_count": 26,
   "id": "f0222b29",
   "metadata": {},
   "outputs": [
    {
     "data": {
      "text/plain": [
       "['2', '45', '2', '4', '2', '5', '8', '56', '8']"
      ]
     },
     "execution_count": 26,
     "metadata": {},
     "output_type": "execute_result"
    }
   ],
   "source": [
    "list(map(lambda x: str(x),l))"
   ]
  },
  {
   "cell_type": "code",
   "execution_count": 27,
   "id": "0076a96d",
   "metadata": {},
   "outputs": [],
   "source": [
    "#  Reduce function:\n",
    "\n"
   ]
  },
  {
   "cell_type": "code",
   "execution_count": 28,
   "id": "3e50b615",
   "metadata": {},
   "outputs": [],
   "source": [
    "from functools import reduce"
   ]
  },
  {
   "cell_type": "code",
   "execution_count": 29,
   "id": "83765e3a",
   "metadata": {},
   "outputs": [],
   "source": [
    "l=[3,4,5,6,7,8,9]\n",
    "#give sunnation of list"
   ]
  },
  {
   "cell_type": "code",
   "execution_count": 30,
   "id": "49e451b5",
   "metadata": {},
   "outputs": [
    {
     "data": {
      "text/plain": [
       "42"
      ]
     },
     "execution_count": 30,
     "metadata": {},
     "output_type": "execute_result"
    }
   ],
   "source": [
    "sum(l)"
   ]
  },
  {
   "cell_type": "code",
   "execution_count": 31,
   "id": "38287fdb",
   "metadata": {},
   "outputs": [
    {
     "data": {
      "text/plain": [
       "42"
      ]
     },
     "execution_count": 31,
     "metadata": {},
     "output_type": "execute_result"
    }
   ],
   "source": [
    "#using reduce:\n",
    "reduce(lambda a,b:a+b,l)"
   ]
  },
  {
   "cell_type": "code",
   "execution_count": null,
   "id": "e62f5176",
   "metadata": {},
   "outputs": [],
   "source": []
  },
  {
   "cell_type": "code",
   "execution_count": 32,
   "id": "3490ba1c",
   "metadata": {},
   "outputs": [
    {
     "data": {
      "text/plain": [
       "181440"
      ]
     },
     "execution_count": 32,
     "metadata": {},
     "output_type": "execute_result"
    }
   ],
   "source": [
    "reduce(lambda a,b:a*b,l)"
   ]
  },
  {
   "cell_type": "code",
   "execution_count": 35,
   "id": "a9a1fc8e",
   "metadata": {},
   "outputs": [
    {
     "ename": "TypeError",
     "evalue": "<lambda>() missing 1 required positional argument: 'c'",
     "output_type": "error",
     "traceback": [
      "\u001b[1;31m---------------------------------------------------------------------------\u001b[0m",
      "\u001b[1;31mTypeError\u001b[0m                                 Traceback (most recent call last)",
      "Input \u001b[1;32mIn [35]\u001b[0m, in \u001b[0;36m<cell line: 1>\u001b[1;34m()\u001b[0m\n\u001b[1;32m----> 1\u001b[0m \u001b[43mreduce\u001b[49m\u001b[43m(\u001b[49m\u001b[38;5;28;43;01mlambda\u001b[39;49;00m\u001b[43m \u001b[49m\u001b[43ma\u001b[49m\u001b[43m,\u001b[49m\u001b[43mb\u001b[49m\u001b[43m,\u001b[49m\u001b[43mc\u001b[49m\u001b[43m:\u001b[49m\u001b[43ma\u001b[49m\u001b[38;5;241;43m+\u001b[39;49m\u001b[43mb\u001b[49m\u001b[38;5;241;43m+\u001b[39;49m\u001b[43mc\u001b[49m\u001b[43m,\u001b[49m\u001b[43ml\u001b[49m\u001b[43m)\u001b[49m\n",
      "\u001b[1;31mTypeError\u001b[0m: <lambda>() missing 1 required positional argument: 'c'"
     ]
    }
   ],
   "source": [
    "reduce(lambda a,b,c:a+b+c,l)\n",
    "#this will not work as a=3,b=4,c=5 so sum = 12\n",
    "#now a=12,b=4,c=5.... to bigasd gya sum last mei c ke liye value nhi milegi"
   ]
  },
  {
   "cell_type": "code",
   "execution_count": 36,
   "id": "b45e35e1",
   "metadata": {},
   "outputs": [
    {
     "data": {
      "text/plain": [
       "1"
      ]
     },
     "execution_count": 36,
     "metadata": {},
     "output_type": "execute_result"
    }
   ],
   "source": [
    "l=[1]\n",
    "reduce(lambda a,b:a+b,l)"
   ]
  },
  {
   "cell_type": "code",
   "execution_count": 37,
   "id": "6f2aceed",
   "metadata": {},
   "outputs": [],
   "source": [
    "# **this is an EXCEPTION IN REDUCE as hamare pass l=[1] hai \n",
    "# b to hai hi nhi ye firbhi kaam kar rha hai "
   ]
  },
  {
   "cell_type": "code",
   "execution_count": 34,
   "id": "d1be0ef9",
   "metadata": {},
   "outputs": [],
   "source": [
    "\n",
    "\n",
    "# Filter funct\n",
    "\n",
    "\n",
    "#filters data"
   ]
  },
  {
   "cell_type": "code",
   "execution_count": 38,
   "id": "fe17d3b9",
   "metadata": {},
   "outputs": [],
   "source": [
    "l=[2,45,4,2,6,8,45,3,7]\n",
    "#humme isme se even no nikalene hai list mei se "
   ]
  },
  {
   "cell_type": "code",
   "execution_count": 39,
   "id": "81097ce1",
   "metadata": {},
   "outputs": [
    {
     "data": {
      "text/plain": [
       "[2, 4, 2, 6, 8]"
      ]
     },
     "execution_count": 39,
     "metadata": {},
     "output_type": "execute_result"
    }
   ],
   "source": [
    "list(filter(lambda x:x%2==0,l))"
   ]
  },
  {
   "cell_type": "code",
   "execution_count": 44,
   "id": "24c969fc",
   "metadata": {},
   "outputs": [],
   "source": [
    "#filter looks for true conditions\n",
    "#or:"
   ]
  },
  {
   "cell_type": "code",
   "execution_count": 45,
   "id": "83a76356",
   "metadata": {},
   "outputs": [],
   "source": [
    "def even(n):\n",
    "    if n%2==0:\n",
    "        return True"
   ]
  },
  {
   "cell_type": "code",
   "execution_count": 46,
   "id": "c041a9fb",
   "metadata": {},
   "outputs": [
    {
     "data": {
      "text/plain": [
       "[2, 4, 2, 6, 8]"
      ]
     },
     "execution_count": 46,
     "metadata": {},
     "output_type": "execute_result"
    }
   ],
   "source": [
    "list(filter(even,l))"
   ]
  },
  {
   "cell_type": "code",
   "execution_count": 6,
   "id": "961bc4c2",
   "metadata": {
    "scrolled": true
   },
   "outputs": [
    {
     "name": "stdout",
     "output_type": "stream",
     "text": [
      "Enter string:skjgsenhdbgnhbkbj\n",
      "Enter char you want to remove: b\n",
      "Enter char you want to  replace :54\n",
      "skjgsenhd54gnh54k54j\n"
     ]
    }
   ],
   "source": [
    "#prog to replace a char in string\n",
    "a= input(\"Enter string:\")\n",
    "b=input(\"Enter char you want to remove: \")\n",
    "c=input(\"Enter char you want to  replace :\")\n",
    "st=''\n",
    "l=[i for  i in  a]\n",
    "for i in l:\n",
    "    if i == b:\n",
    "        d=l.index(i)\n",
    "        l.remove(i)\n",
    "        l.insert(d,c)\n",
    "print(st.join(l))"
   ]
  },
  {
   "cell_type": "code",
   "execution_count": null,
   "id": "bf186315",
   "metadata": {},
   "outputs": [],
   "source": []
  },
  {
   "cell_type": "raw",
   "id": "a913e4f0",
   "metadata": {},
   "source": []
  },
  {
   "cell_type": "code",
   "execution_count": null,
   "id": "e7ba18e3",
   "metadata": {},
   "outputs": [],
   "source": []
  }
 ],
 "metadata": {
  "kernelspec": {
   "display_name": "Python 3 (ipykernel)",
   "language": "python",
   "name": "python3"
  },
  "language_info": {
   "codemirror_mode": {
    "name": "ipython",
    "version": 3
   },
   "file_extension": ".py",
   "mimetype": "text/x-python",
   "name": "python",
   "nbconvert_exporter": "python",
   "pygments_lexer": "ipython3",
   "version": "3.9.12"
  }
 },
 "nbformat": 4,
 "nbformat_minor": 5
}
